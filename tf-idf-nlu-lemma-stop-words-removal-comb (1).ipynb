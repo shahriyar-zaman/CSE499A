{
 "cells": [
  {
   "cell_type": "code",
   "execution_count": 1,
   "id": "8f69ebbf",
   "metadata": {
    "execution": {
     "iopub.execute_input": "2023-12-10T04:12:03.518852Z",
     "iopub.status.busy": "2023-12-10T04:12:03.517957Z",
     "iopub.status.idle": "2023-12-10T04:13:21.236372Z",
     "shell.execute_reply": "2023-12-10T04:13:21.235222Z"
    },
    "papermill": {
     "duration": 77.737934,
     "end_time": "2023-12-10T04:13:21.239076",
     "exception": false,
     "start_time": "2023-12-10T04:12:03.501142",
     "status": "completed"
    },
    "tags": []
   },
   "outputs": [
    {
     "name": "stdout",
     "output_type": "stream",
     "text": [
      "Collecting pyspark\r\n",
      "  Downloading pyspark-3.5.0.tar.gz (316.9 MB)\r\n",
      "\u001b[2K     \u001b[90m━━━━━━━━━━━━━━━━━━━━━━━━━━━━━━━━━━━━━━━\u001b[0m \u001b[32m316.9/316.9 MB\u001b[0m \u001b[31m4.0 MB/s\u001b[0m eta \u001b[36m0:00:00\u001b[0m\r\n",
      "\u001b[?25h  Preparing metadata (setup.py) ... \u001b[?25l-\b \b\\\b \bdone\r\n",
      "\u001b[?25hRequirement already satisfied: py4j==0.10.9.7 in /opt/conda/lib/python3.10/site-packages (from pyspark) (0.10.9.7)\r\n",
      "Building wheels for collected packages: pyspark\r\n",
      "  Building wheel for pyspark (setup.py) ... \u001b[?25l-\b \b\\\b \b|\b \bdone\r\n",
      "\u001b[?25h  Created wheel for pyspark: filename=pyspark-3.5.0-py2.py3-none-any.whl size=317425344 sha256=141562139b7bb5405c29ba3dcf43b0a2fb4f5fa5a71a7e985a492262c0d89884\r\n",
      "  Stored in directory: /root/.cache/pip/wheels/41/4e/10/c2cf2467f71c678cfc8a6b9ac9241e5e44a01940da8fbb17fc\r\n",
      "Successfully built pyspark\r\n",
      "Installing collected packages: pyspark\r\n",
      "Successfully installed pyspark-3.5.0\r\n",
      "Collecting bnlp_toolkit\r\n",
      "  Obtaining dependency information for bnlp_toolkit from https://files.pythonhosted.org/packages/af/99/5d688fc2e5f6494d6c0a4e6bcdc8192266869caeef3b41dbc3dc8358616d/bnlp_toolkit-4.0.0-py3-none-any.whl.metadata\r\n",
      "  Downloading bnlp_toolkit-4.0.0-py3-none-any.whl.metadata (3.3 kB)\r\n",
      "Requirement already satisfied: sentencepiece in /opt/conda/lib/python3.10/site-packages (from bnlp_toolkit) (0.1.99)\r\n",
      "Requirement already satisfied: gensim in /opt/conda/lib/python3.10/site-packages (from bnlp_toolkit) (4.3.2)\r\n",
      "Requirement already satisfied: nltk in /opt/conda/lib/python3.10/site-packages (from bnlp_toolkit) (3.2.4)\r\n",
      "Requirement already satisfied: numpy in /opt/conda/lib/python3.10/site-packages (from bnlp_toolkit) (1.24.3)\r\n",
      "Requirement already satisfied: scipy in /opt/conda/lib/python3.10/site-packages (from bnlp_toolkit) (1.11.4)\r\n",
      "Collecting sklearn-crfsuite (from bnlp_toolkit)\r\n",
      "  Downloading sklearn_crfsuite-0.3.6-py2.py3-none-any.whl (12 kB)\r\n",
      "Requirement already satisfied: tqdm in /opt/conda/lib/python3.10/site-packages (from bnlp_toolkit) (4.66.1)\r\n",
      "Collecting ftfy (from bnlp_toolkit)\r\n",
      "  Obtaining dependency information for ftfy from https://files.pythonhosted.org/packages/91/f8/dfa32d06cfcbdb76bc46e0f5d69c537de33f4cedb1a15cd4746ab45a6a26/ftfy-6.1.3-py3-none-any.whl.metadata\r\n",
      "  Downloading ftfy-6.1.3-py3-none-any.whl.metadata (6.2 kB)\r\n",
      "Collecting emoji==1.7.0 (from bnlp_toolkit)\r\n",
      "  Downloading emoji-1.7.0.tar.gz (175 kB)\r\n",
      "\u001b[2K     \u001b[90m━━━━━━━━━━━━━━━━━━━━━━━━━━━━━━━━━━━━━━━\u001b[0m \u001b[32m175.4/175.4 kB\u001b[0m \u001b[31m4.6 MB/s\u001b[0m eta \u001b[36m0:00:00\u001b[0m\r\n",
      "\u001b[?25h  Preparing metadata (setup.py) ... \u001b[?25l-\b \bdone\r\n",
      "\u001b[?25hRequirement already satisfied: requests in /opt/conda/lib/python3.10/site-packages (from bnlp_toolkit) (2.31.0)\r\n",
      "Collecting wcwidth<0.3.0,>=0.2.12 (from ftfy->bnlp_toolkit)\r\n",
      "  Obtaining dependency information for wcwidth<0.3.0,>=0.2.12 from https://files.pythonhosted.org/packages/31/b1/a59de0ad3aabb17523a39804f4c6df3ae87ead053a4e25362ae03d73d03a/wcwidth-0.2.12-py2.py3-none-any.whl.metadata\r\n",
      "  Downloading wcwidth-0.2.12-py2.py3-none-any.whl.metadata (14 kB)\r\n",
      "Requirement already satisfied: smart-open>=1.8.1 in /opt/conda/lib/python3.10/site-packages (from gensim->bnlp_toolkit) (6.3.0)\r\n",
      "Requirement already satisfied: six in /opt/conda/lib/python3.10/site-packages (from nltk->bnlp_toolkit) (1.16.0)\r\n",
      "Requirement already satisfied: charset-normalizer<4,>=2 in /opt/conda/lib/python3.10/site-packages (from requests->bnlp_toolkit) (3.2.0)\r\n",
      "Requirement already satisfied: idna<4,>=2.5 in /opt/conda/lib/python3.10/site-packages (from requests->bnlp_toolkit) (3.4)\r\n",
      "Requirement already satisfied: urllib3<3,>=1.21.1 in /opt/conda/lib/python3.10/site-packages (from requests->bnlp_toolkit) (1.26.15)\r\n",
      "Requirement already satisfied: certifi>=2017.4.17 in /opt/conda/lib/python3.10/site-packages (from requests->bnlp_toolkit) (2023.11.17)\r\n",
      "Collecting python-crfsuite>=0.8.3 (from sklearn-crfsuite->bnlp_toolkit)\r\n",
      "  Downloading python_crfsuite-0.9.9-cp310-cp310-manylinux_2_17_x86_64.manylinux2014_x86_64.whl (993 kB)\r\n",
      "\u001b[2K     \u001b[90m━━━━━━━━━━━━━━━━━━━━━━━━━━━━━━━━━━━━━━\u001b[0m \u001b[32m993.5/993.5 kB\u001b[0m \u001b[31m24.6 MB/s\u001b[0m eta \u001b[36m0:00:00\u001b[0m\r\n",
      "\u001b[?25hRequirement already satisfied: tabulate in /opt/conda/lib/python3.10/site-packages (from sklearn-crfsuite->bnlp_toolkit) (0.9.0)\r\n",
      "Downloading bnlp_toolkit-4.0.0-py3-none-any.whl (22 kB)\r\n",
      "Downloading ftfy-6.1.3-py3-none-any.whl (53 kB)\r\n",
      "\u001b[2K   \u001b[90m━━━━━━━━━━━━━━━━━━━━━━━━━━━━━━━━━━━━━━━━\u001b[0m \u001b[32m53.4/53.4 kB\u001b[0m \u001b[31m5.5 MB/s\u001b[0m eta \u001b[36m0:00:00\u001b[0m\r\n",
      "\u001b[?25hDownloading wcwidth-0.2.12-py2.py3-none-any.whl (34 kB)\r\n",
      "Building wheels for collected packages: emoji\r\n",
      "  Building wheel for emoji (setup.py) ... \u001b[?25l-\b \bdone\r\n",
      "\u001b[?25h  Created wheel for emoji: filename=emoji-1.7.0-py3-none-any.whl size=171033 sha256=4b6c71fbd7ee86e8f297ead01f02df8b488c99446219f3412d5661936930ddf0\r\n",
      "  Stored in directory: /root/.cache/pip/wheels/31/8a/8c/315c9e5d7773f74b33d5ed33f075b49c6eaeb7cedbb86e2cf8\r\n",
      "Successfully built emoji\r\n",
      "Installing collected packages: wcwidth, python-crfsuite, emoji, sklearn-crfsuite, ftfy, bnlp_toolkit\r\n",
      "  Attempting uninstall: wcwidth\r\n",
      "    Found existing installation: wcwidth 0.2.6\r\n",
      "    Uninstalling wcwidth-0.2.6:\r\n",
      "      Successfully uninstalled wcwidth-0.2.6\r\n",
      "  Attempting uninstall: emoji\r\n",
      "    Found existing installation: emoji 2.9.0\r\n",
      "    Uninstalling emoji-2.9.0:\r\n",
      "      Successfully uninstalled emoji-2.9.0\r\n",
      "Successfully installed bnlp_toolkit-4.0.0 emoji-1.7.0 ftfy-6.1.3 python-crfsuite-0.9.9 sklearn-crfsuite-0.3.6 wcwidth-0.2.12\r\n",
      "Collecting nlu\r\n",
      "  Obtaining dependency information for nlu from https://files.pythonhosted.org/packages/3d/32/7d92bb42e5089abb90d23e01476bcb91f7db0ed352ef9378a96760acbcad/nlu-5.1.0-py3-none-any.whl.metadata\r\n",
      "  Downloading nlu-5.1.0-py3-none-any.whl.metadata (108 kB)\r\n",
      "\u001b[2K     \u001b[90m━━━━━━━━━━━━━━━━━━━━━━━━━━━━━━━━━━━━━━━\u001b[0m \u001b[32m108.9/108.9 kB\u001b[0m \u001b[31m2.7 MB/s\u001b[0m eta \u001b[36m0:00:00\u001b[0m\r\n",
      "\u001b[?25hCollecting dataclasses (from nlu)\r\n",
      "  Downloading dataclasses-0.6-py3-none-any.whl (14 kB)\r\n",
      "Requirement already satisfied: numpy in /opt/conda/lib/python3.10/site-packages (from nlu) (1.24.3)\r\n",
      "Requirement already satisfied: pandas>=1.3.5 in /opt/conda/lib/python3.10/site-packages (from nlu) (2.0.3)\r\n",
      "Requirement already satisfied: pyarrow>=0.16.0 in /opt/conda/lib/python3.10/site-packages (from nlu) (11.0.0)\r\n",
      "Collecting spark-nlp>=5.0.2 (from nlu)\r\n",
      "  Obtaining dependency information for spark-nlp>=5.0.2 from https://files.pythonhosted.org/packages/bb/80/2e2f21d795877b2bc96904eb927c576115f13ab620c3e622b0cba524c8b0/spark_nlp-5.2.0-py2.py3-none-any.whl.metadata\r\n",
      "  Downloading spark_nlp-5.2.0-py2.py3-none-any.whl.metadata (55 kB)\r\n",
      "\u001b[2K     \u001b[90m━━━━━━━━━━━━━━━━━━━━━━━━━━━━━━━━━━━━━━━━\u001b[0m \u001b[32m55.1/55.1 kB\u001b[0m \u001b[31m5.2 MB/s\u001b[0m eta \u001b[36m0:00:00\u001b[0m\r\n",
      "\u001b[?25hRequirement already satisfied: python-dateutil>=2.8.2 in /opt/conda/lib/python3.10/site-packages (from pandas>=1.3.5->nlu) (2.8.2)\r\n",
      "Requirement already satisfied: pytz>=2020.1 in /opt/conda/lib/python3.10/site-packages (from pandas>=1.3.5->nlu) (2023.3)\r\n",
      "Requirement already satisfied: tzdata>=2022.1 in /opt/conda/lib/python3.10/site-packages (from pandas>=1.3.5->nlu) (2023.3)\r\n",
      "Requirement already satisfied: six>=1.5 in /opt/conda/lib/python3.10/site-packages (from python-dateutil>=2.8.2->pandas>=1.3.5->nlu) (1.16.0)\r\n",
      "Downloading nlu-5.1.0-py3-none-any.whl (655 kB)\r\n",
      "\u001b[2K   \u001b[90m━━━━━━━━━━━━━━━━━━━━━━━━━━━━━━━━━━━━━━━━\u001b[0m \u001b[32m656.0/656.0 kB\u001b[0m \u001b[31m15.4 MB/s\u001b[0m eta \u001b[36m0:00:00\u001b[0m\r\n",
      "\u001b[?25hDownloading spark_nlp-5.2.0-py2.py3-none-any.whl (548 kB)\r\n",
      "\u001b[2K   \u001b[90m━━━━━━━━━━━━━━━━━━━━━━━━━━━━━━━━━━━━━━━━\u001b[0m \u001b[32m548.5/548.5 kB\u001b[0m \u001b[31m38.9 MB/s\u001b[0m eta \u001b[36m0:00:00\u001b[0m\r\n",
      "\u001b[?25hInstalling collected packages: spark-nlp, dataclasses, nlu\r\n",
      "Successfully installed dataclasses-0.6 nlu-5.1.0 spark-nlp-5.2.0\r\n"
     ]
    }
   ],
   "source": [
    "!pip install pyspark\n",
    "!pip install bnlp_toolkit\n",
    "!pip install nlu"
   ]
  },
  {
   "cell_type": "code",
   "execution_count": 2,
   "id": "ee462834",
   "metadata": {
    "execution": {
     "iopub.execute_input": "2023-12-10T04:13:21.295442Z",
     "iopub.status.busy": "2023-12-10T04:13:21.295039Z",
     "iopub.status.idle": "2023-12-10T04:13:34.725830Z",
     "shell.execute_reply": "2023-12-10T04:13:34.725012Z"
    },
    "papermill": {
     "duration": 13.461385,
     "end_time": "2023-12-10T04:13:34.728320",
     "exception": false,
     "start_time": "2023-12-10T04:13:21.266935",
     "status": "completed"
    },
    "tags": []
   },
   "outputs": [
    {
     "name": "stderr",
     "output_type": "stream",
     "text": [
      "/opt/conda/lib/python3.10/site-packages/scipy/__init__.py:146: UserWarning: A NumPy version >=1.16.5 and <1.23.0 is required for this version of SciPy (detected version 1.24.3\n",
      "  warnings.warn(f\"A NumPy version >={np_minversion} and <{np_maxversion}\"\n"
     ]
    }
   ],
   "source": [
    "import pandas as pd\n",
    "import numpy as np\n",
    "import matplotlib.pyplot as plt\n",
    "from bnlp import BengaliCorpus as corpus\n",
    "from bnlp import CleanText\n",
    "from sklearn.feature_extraction.text import TfidfVectorizer\n",
    "from bnlp import NLTKTokenizer\n",
    "import nlu"
   ]
  },
  {
   "cell_type": "code",
   "execution_count": 3,
   "id": "a09313d8",
   "metadata": {
    "execution": {
     "iopub.execute_input": "2023-12-10T04:13:34.786917Z",
     "iopub.status.busy": "2023-12-10T04:13:34.785670Z",
     "iopub.status.idle": "2023-12-10T04:13:34.884226Z",
     "shell.execute_reply": "2023-12-10T04:13:34.883188Z"
    },
    "papermill": {
     "duration": 0.130399,
     "end_time": "2023-12-10T04:13:34.886595",
     "exception": false,
     "start_time": "2023-12-10T04:13:34.756196",
     "status": "completed"
    },
    "tags": []
   },
   "outputs": [],
   "source": [
    "train_df = pd.read_csv(\"/kaggle/input/sentnob-sentiment-analysis-in-noisy-bangla-texts/SentNoB Dataset/Train.csv\")"
   ]
  },
  {
   "cell_type": "code",
   "execution_count": 4,
   "id": "3b7c9dc5",
   "metadata": {
    "execution": {
     "iopub.execute_input": "2023-12-10T04:13:34.943036Z",
     "iopub.status.busy": "2023-12-10T04:13:34.942653Z",
     "iopub.status.idle": "2023-12-10T04:13:34.960840Z",
     "shell.execute_reply": "2023-12-10T04:13:34.959936Z"
    },
    "papermill": {
     "duration": 0.049054,
     "end_time": "2023-12-10T04:13:34.962871",
     "exception": false,
     "start_time": "2023-12-10T04:13:34.913817",
     "status": "completed"
    },
    "tags": []
   },
   "outputs": [
    {
     "data": {
      "text/html": [
       "<div>\n",
       "<style scoped>\n",
       "    .dataframe tbody tr th:only-of-type {\n",
       "        vertical-align: middle;\n",
       "    }\n",
       "\n",
       "    .dataframe tbody tr th {\n",
       "        vertical-align: top;\n",
       "    }\n",
       "\n",
       "    .dataframe thead th {\n",
       "        text-align: right;\n",
       "    }\n",
       "</style>\n",
       "<table border=\"1\" class=\"dataframe\">\n",
       "  <thead>\n",
       "    <tr style=\"text-align: right;\">\n",
       "      <th></th>\n",
       "      <th>Data</th>\n",
       "      <th>Label</th>\n",
       "    </tr>\n",
       "  </thead>\n",
       "  <tbody>\n",
       "    <tr>\n",
       "      <th>0</th>\n",
       "      <td>মুগ্ধ হয়ে গেলাম মামু. আর তোমায় কি কমু. বলো তোম...</td>\n",
       "      <td>1</td>\n",
       "    </tr>\n",
       "    <tr>\n",
       "      <th>1</th>\n",
       "      <td>এই কুত্তার বাচ্চাদের জন্য দেশটা আজ এমন অবস্তায়...</td>\n",
       "      <td>2</td>\n",
       "    </tr>\n",
       "    <tr>\n",
       "      <th>2</th>\n",
       "      <td>ভাই আপনার কথাই যাদু রয়েছে</td>\n",
       "      <td>1</td>\n",
       "    </tr>\n",
       "    <tr>\n",
       "      <th>3</th>\n",
       "      <td>উওরটা আমার অনেক ভাল লেগেছে</td>\n",
       "      <td>1</td>\n",
       "    </tr>\n",
       "    <tr>\n",
       "      <th>4</th>\n",
       "      <td>আমার নিজের গাড়ী নিয়ে কি সাজেক যেতে পারবো না ?...</td>\n",
       "      <td>0</td>\n",
       "    </tr>\n",
       "  </tbody>\n",
       "</table>\n",
       "</div>"
      ],
      "text/plain": [
       "                                                Data  Label\n",
       "0  মুগ্ধ হয়ে গেলাম মামু. আর তোমায় কি কমু. বলো তোম...      1\n",
       "1  এই কুত্তার বাচ্চাদের জন্য দেশটা আজ এমন অবস্তায়...      2\n",
       "2                          ভাই আপনার কথাই যাদু রয়েছে      1\n",
       "3                        উওরটা আমার অনেক ভাল লেগেছে       1\n",
       "4  আমার নিজের গাড়ী নিয়ে কি সাজেক যেতে পারবো না ?...      0"
      ]
     },
     "execution_count": 4,
     "metadata": {},
     "output_type": "execute_result"
    }
   ],
   "source": [
    "train_df.head()"
   ]
  },
  {
   "cell_type": "code",
   "execution_count": 5,
   "id": "31d94c63",
   "metadata": {
    "execution": {
     "iopub.execute_input": "2023-12-10T04:13:35.020565Z",
     "iopub.status.busy": "2023-12-10T04:13:35.019928Z",
     "iopub.status.idle": "2023-12-10T04:13:35.027243Z",
     "shell.execute_reply": "2023-12-10T04:13:35.026435Z"
    },
    "papermill": {
     "duration": 0.038217,
     "end_time": "2023-12-10T04:13:35.029346",
     "exception": false,
     "start_time": "2023-12-10T04:13:34.991129",
     "status": "completed"
    },
    "tags": []
   },
   "outputs": [],
   "source": [
    "train_df.dropna(inplace=True)"
   ]
  },
  {
   "cell_type": "code",
   "execution_count": 6,
   "id": "eea14cfb",
   "metadata": {
    "execution": {
     "iopub.execute_input": "2023-12-10T04:13:35.086079Z",
     "iopub.status.busy": "2023-12-10T04:13:35.085449Z",
     "iopub.status.idle": "2023-12-10T04:13:35.092812Z",
     "shell.execute_reply": "2023-12-10T04:13:35.091920Z"
    },
    "papermill": {
     "duration": 0.037881,
     "end_time": "2023-12-10T04:13:35.094828",
     "exception": false,
     "start_time": "2023-12-10T04:13:35.056947",
     "status": "completed"
    },
    "tags": []
   },
   "outputs": [
    {
     "name": "stdout",
     "output_type": "stream",
     "text": [
      "372\n"
     ]
    }
   ],
   "source": [
    "longest_string = max(train_df[\"Data\"], key=len)\n",
    "print(len(longest_string))"
   ]
  },
  {
   "cell_type": "code",
   "execution_count": 7,
   "id": "222e8e70",
   "metadata": {
    "execution": {
     "iopub.execute_input": "2023-12-10T04:13:35.207830Z",
     "iopub.status.busy": "2023-12-10T04:13:35.207474Z",
     "iopub.status.idle": "2023-12-10T04:13:37.847794Z",
     "shell.execute_reply": "2023-12-10T04:13:37.846975Z"
    },
    "papermill": {
     "duration": 2.670846,
     "end_time": "2023-12-10T04:13:37.850040",
     "exception": false,
     "start_time": "2023-12-10T04:13:35.179194",
     "status": "completed"
    },
    "tags": []
   },
   "outputs": [],
   "source": [
    "clean_text = CleanText(\n",
    "   fix_unicode=True,\n",
    "   unicode_norm=True,\n",
    "   unicode_norm_form=\"NFKC\",\n",
    "   remove_url=False,\n",
    "   remove_email=False,\n",
    "   remove_emoji=False,\n",
    "   remove_number=False,\n",
    "   remove_digits=False,\n",
    "   remove_punct=False,\n",
    "   replace_with_url=\"<URL>\",\n",
    "   replace_with_email=\"<EMAIL>\",\n",
    "   replace_with_number=\"<NUMBER>\",\n",
    "   replace_with_digit=\"<DIGIT>\",\n",
    "   replace_with_punct = \"<PUNC>\"\n",
    ")\n",
    "\n",
    "train_df['Data'] = train_df['Data'].apply(clean_text)"
   ]
  },
  {
   "cell_type": "code",
   "execution_count": 8,
   "id": "b28eb41a",
   "metadata": {
    "execution": {
     "iopub.execute_input": "2023-12-10T04:13:37.906914Z",
     "iopub.status.busy": "2023-12-10T04:13:37.906563Z",
     "iopub.status.idle": "2023-12-10T04:13:37.914735Z",
     "shell.execute_reply": "2023-12-10T04:13:37.913729Z"
    },
    "papermill": {
     "duration": 0.039553,
     "end_time": "2023-12-10T04:13:37.917073",
     "exception": false,
     "start_time": "2023-12-10T04:13:37.877520",
     "status": "completed"
    },
    "tags": []
   },
   "outputs": [
    {
     "name": "stdout",
     "output_type": "stream",
     "text": [
      "372\n"
     ]
    }
   ],
   "source": [
    "longest_string = max(train_df[\"Data\"], key=len)\n",
    "print(len(longest_string))"
   ]
  },
  {
   "cell_type": "code",
   "execution_count": 9,
   "id": "29d80590",
   "metadata": {
    "execution": {
     "iopub.execute_input": "2023-12-10T04:13:37.974099Z",
     "iopub.status.busy": "2023-12-10T04:13:37.973482Z",
     "iopub.status.idle": "2023-12-10T04:13:37.977768Z",
     "shell.execute_reply": "2023-12-10T04:13:37.976905Z"
    },
    "papermill": {
     "duration": 0.033983,
     "end_time": "2023-12-10T04:13:37.979745",
     "exception": false,
     "start_time": "2023-12-10T04:13:37.945762",
     "status": "completed"
    },
    "tags": []
   },
   "outputs": [],
   "source": [
    "def create_lemma(text):\n",
    "     return \" \".join(text)"
   ]
  },
  {
   "cell_type": "code",
   "execution_count": 10,
   "id": "19dd140c",
   "metadata": {
    "execution": {
     "iopub.execute_input": "2023-12-10T04:13:38.035835Z",
     "iopub.status.busy": "2023-12-10T04:13:38.035500Z",
     "iopub.status.idle": "2023-12-10T04:16:33.857675Z",
     "shell.execute_reply": "2023-12-10T04:16:33.856662Z"
    },
    "papermill": {
     "duration": 175.89362,
     "end_time": "2023-12-10T04:16:33.900332",
     "exception": false,
     "start_time": "2023-12-10T04:13:38.006712",
     "status": "completed"
    },
    "tags": []
   },
   "outputs": [
    {
     "name": "stdout",
     "output_type": "stream",
     "text": [
      ":: loading settings :: url = jar:file:/opt/conda/lib/python3.10/site-packages/pyspark/jars/ivy-2.5.1.jar!/org/apache/ivy/core/settings/ivysettings.xml\n"
     ]
    },
    {
     "name": "stderr",
     "output_type": "stream",
     "text": [
      "Ivy Default Cache set to: /root/.ivy2/cache\n",
      "The jars for the packages stored in: /root/.ivy2/jars\n",
      "com.johnsnowlabs.nlp#spark-nlp_2.12 added as a dependency\n",
      ":: resolving dependencies :: org.apache.spark#spark-submit-parent-10cc83a7-9e8b-4e80-be43-d28ebfb743e0;1.0\n",
      "\tconfs: [default]\n",
      "\tfound com.johnsnowlabs.nlp#spark-nlp_2.12;5.2.0 in central\n",
      "\tfound com.typesafe#config;1.4.2 in central\n",
      "\tfound org.rocksdb#rocksdbjni;6.29.5 in central\n",
      "\tfound com.amazonaws#aws-java-sdk-bundle;1.11.828 in central\n",
      "\tfound com.github.universal-automata#liblevenshtein;3.0.0 in central\n",
      "\tfound com.google.protobuf#protobuf-java-util;3.0.0-beta-3 in central\n",
      "\tfound com.google.protobuf#protobuf-java;3.0.0-beta-3 in central\n",
      "\tfound com.google.code.gson#gson;2.3 in central\n",
      "\tfound it.unimi.dsi#fastutil;7.0.12 in central\n",
      "\tfound org.projectlombok#lombok;1.16.8 in central\n",
      "\tfound com.google.cloud#google-cloud-storage;2.20.1 in central\n",
      "\tfound com.google.guava#guava;31.1-jre in central\n",
      "\tfound com.google.guava#failureaccess;1.0.1 in central\n",
      "\tfound com.google.guava#listenablefuture;9999.0-empty-to-avoid-conflict-with-guava in central\n",
      "\tfound com.google.errorprone#error_prone_annotations;2.18.0 in central\n",
      "\tfound com.google.j2objc#j2objc-annotations;1.3 in central\n",
      "\tfound com.google.http-client#google-http-client;1.43.0 in central\n",
      "\tfound io.opencensus#opencensus-contrib-http-util;0.31.1 in central\n",
      "\tfound com.google.http-client#google-http-client-jackson2;1.43.0 in central\n",
      "\tfound com.google.http-client#google-http-client-gson;1.43.0 in central\n",
      "\tfound com.google.api-client#google-api-client;2.2.0 in central\n",
      "\tfound commons-codec#commons-codec;1.15 in central\n",
      "\tfound com.google.oauth-client#google-oauth-client;1.34.1 in central\n",
      "\tfound com.google.http-client#google-http-client-apache-v2;1.43.0 in central\n",
      "\tfound com.google.apis#google-api-services-storage;v1-rev20220705-2.0.0 in central\n",
      "\tfound com.google.code.gson#gson;2.10.1 in central\n",
      "\tfound com.google.cloud#google-cloud-core;2.12.0 in central\n",
      "\tfound io.grpc#grpc-context;1.53.0 in central\n",
      "\tfound com.google.auto.value#auto-value-annotations;1.10.1 in central\n",
      "\tfound com.google.auto.value#auto-value;1.10.1 in central\n",
      "\tfound javax.annotation#javax.annotation-api;1.3.2 in central\n",
      "\tfound commons-logging#commons-logging;1.2 in central\n",
      "\tfound com.google.cloud#google-cloud-core-http;2.12.0 in central\n",
      "\tfound com.google.http-client#google-http-client-appengine;1.43.0 in central\n",
      "\tfound com.google.api#gax-httpjson;0.108.2 in central\n",
      "\tfound com.google.cloud#google-cloud-core-grpc;2.12.0 in central\n",
      "\tfound io.grpc#grpc-alts;1.53.0 in central\n",
      "\tfound io.grpc#grpc-grpclb;1.53.0 in central\n",
      "\tfound org.conscrypt#conscrypt-openjdk-uber;2.5.2 in central\n",
      "\tfound io.grpc#grpc-auth;1.53.0 in central\n",
      "\tfound io.grpc#grpc-protobuf;1.53.0 in central\n",
      "\tfound io.grpc#grpc-protobuf-lite;1.53.0 in central\n",
      "\tfound io.grpc#grpc-core;1.53.0 in central\n",
      "\tfound com.google.api#gax;2.23.2 in central\n",
      "\tfound com.google.api#gax-grpc;2.23.2 in central\n",
      "\tfound com.google.auth#google-auth-library-credentials;1.16.0 in central\n",
      "\tfound com.google.auth#google-auth-library-oauth2-http;1.16.0 in central\n",
      "\tfound com.google.api#api-common;2.6.2 in central\n",
      "\tfound io.opencensus#opencensus-api;0.31.1 in central\n",
      "\tfound com.google.api.grpc#proto-google-iam-v1;1.9.2 in central\n",
      "\tfound com.google.protobuf#protobuf-java;3.21.12 in central\n",
      "\tfound com.google.protobuf#protobuf-java-util;3.21.12 in central\n",
      "\tfound com.google.api.grpc#proto-google-common-protos;2.14.2 in central\n",
      "\tfound org.threeten#threetenbp;1.6.5 in central\n",
      "\tfound com.google.api.grpc#proto-google-cloud-storage-v2;2.20.1-alpha in central\n",
      "\tfound com.google.api.grpc#grpc-google-cloud-storage-v2;2.20.1-alpha in central\n",
      "\tfound com.google.api.grpc#gapic-google-cloud-storage-v2;2.20.1-alpha in central\n",
      "\tfound com.fasterxml.jackson.core#jackson-core;2.14.2 in central\n",
      "\tfound com.google.code.findbugs#jsr305;3.0.2 in central\n",
      "\tfound io.grpc#grpc-api;1.53.0 in central\n",
      "\tfound io.grpc#grpc-stub;1.53.0 in central\n",
      "\tfound org.checkerframework#checker-qual;3.31.0 in central\n",
      "\tfound io.perfmark#perfmark-api;0.26.0 in central\n",
      "\tfound com.google.android#annotations;4.1.1.4 in central\n",
      "\tfound org.codehaus.mojo#animal-sniffer-annotations;1.22 in central\n",
      "\tfound io.opencensus#opencensus-proto;0.2.0 in central\n",
      "\tfound io.grpc#grpc-services;1.53.0 in central\n",
      "\tfound com.google.re2j#re2j;1.6 in central\n",
      "\tfound io.grpc#grpc-netty-shaded;1.53.0 in central\n",
      "\tfound io.grpc#grpc-googleapis;1.53.0 in central\n",
      "\tfound io.grpc#grpc-xds;1.53.0 in central\n",
      "\tfound com.navigamez#greex;1.0 in central\n",
      "\tfound dk.brics.automaton#automaton;1.11-8 in central\n",
      "\tfound com.johnsnowlabs.nlp#tensorflow-cpu_2.12;0.4.4 in central\n",
      "\tfound com.microsoft.onnxruntime#onnxruntime;1.16.3 in central\n",
      "downloading https://repo1.maven.org/maven2/com/johnsnowlabs/nlp/spark-nlp_2.12/5.2.0/spark-nlp_2.12-5.2.0.jar ...\n",
      "\t[SUCCESSFUL ] com.johnsnowlabs.nlp#spark-nlp_2.12;5.2.0!spark-nlp_2.12.jar (2063ms)\n",
      "downloading https://repo1.maven.org/maven2/com/typesafe/config/1.4.2/config-1.4.2.jar ...\n",
      "\t[SUCCESSFUL ] com.typesafe#config;1.4.2!config.jar(bundle) (248ms)\n",
      "downloading https://repo1.maven.org/maven2/org/rocksdb/rocksdbjni/6.29.5/rocksdbjni-6.29.5.jar ...\n",
      "\t[SUCCESSFUL ] org.rocksdb#rocksdbjni;6.29.5!rocksdbjni.jar (1716ms)\n",
      "downloading https://repo1.maven.org/maven2/com/amazonaws/aws-java-sdk-bundle/1.11.828/aws-java-sdk-bundle-1.11.828.jar ...\n",
      "\t[SUCCESSFUL ] com.amazonaws#aws-java-sdk-bundle;1.11.828!aws-java-sdk-bundle.jar (5453ms)\n",
      "downloading https://repo1.maven.org/maven2/com/github/universal-automata/liblevenshtein/3.0.0/liblevenshtein-3.0.0.jar ...\n",
      "\t[SUCCESSFUL ] com.github.universal-automata#liblevenshtein;3.0.0!liblevenshtein.jar (249ms)\n",
      "downloading https://repo1.maven.org/maven2/com/google/cloud/google-cloud-storage/2.20.1/google-cloud-storage-2.20.1.jar ...\n",
      "\t[SUCCESSFUL ] com.google.cloud#google-cloud-storage;2.20.1!google-cloud-storage.jar (254ms)\n",
      "downloading https://repo1.maven.org/maven2/com/navigamez/greex/1.0/greex-1.0.jar ...\n",
      "\t[SUCCESSFUL ] com.navigamez#greex;1.0!greex.jar (247ms)\n",
      "downloading https://repo1.maven.org/maven2/com/johnsnowlabs/nlp/tensorflow-cpu_2.12/0.4.4/tensorflow-cpu_2.12-0.4.4.jar ...\n",
      "\t[SUCCESSFUL ] com.johnsnowlabs.nlp#tensorflow-cpu_2.12;0.4.4!tensorflow-cpu_2.12.jar (8705ms)\n",
      "downloading https://repo1.maven.org/maven2/com/microsoft/onnxruntime/onnxruntime/1.16.3/onnxruntime-1.16.3.jar ...\n",
      "\t[SUCCESSFUL ] com.microsoft.onnxruntime#onnxruntime;1.16.3!onnxruntime.jar (2666ms)\n",
      "downloading https://repo1.maven.org/maven2/it/unimi/dsi/fastutil/7.0.12/fastutil-7.0.12.jar ...\n",
      "\t[SUCCESSFUL ] it.unimi.dsi#fastutil;7.0.12!fastutil.jar (742ms)\n",
      "downloading https://repo1.maven.org/maven2/org/projectlombok/lombok/1.16.8/lombok-1.16.8.jar ...\n",
      "\t[SUCCESSFUL ] org.projectlombok#lombok;1.16.8!lombok.jar (261ms)\n",
      "downloading https://repo1.maven.org/maven2/com/google/guava/guava/31.1-jre/guava-31.1-jre.jar ...\n",
      "\t[SUCCESSFUL ] com.google.guava#guava;31.1-jre!guava.jar(bundle) (281ms)\n",
      "downloading https://repo1.maven.org/maven2/com/google/guava/failureaccess/1.0.1/failureaccess-1.0.1.jar ...\n",
      "\t[SUCCESSFUL ] com.google.guava#failureaccess;1.0.1!failureaccess.jar(bundle) (261ms)\n",
      "downloading https://repo1.maven.org/maven2/com/google/guava/listenablefuture/9999.0-empty-to-avoid-conflict-with-guava/listenablefuture-9999.0-empty-to-avoid-conflict-with-guava.jar ...\n",
      "\t[SUCCESSFUL ] com.google.guava#listenablefuture;9999.0-empty-to-avoid-conflict-with-guava!listenablefuture.jar (243ms)\n",
      "downloading https://repo1.maven.org/maven2/com/google/errorprone/error_prone_annotations/2.18.0/error_prone_annotations-2.18.0.jar ...\n",
      "\t[SUCCESSFUL ] com.google.errorprone#error_prone_annotations;2.18.0!error_prone_annotations.jar (247ms)\n",
      "downloading https://repo1.maven.org/maven2/com/google/j2objc/j2objc-annotations/1.3/j2objc-annotations-1.3.jar ...\n",
      "\t[SUCCESSFUL ] com.google.j2objc#j2objc-annotations;1.3!j2objc-annotations.jar (244ms)\n",
      "downloading https://repo1.maven.org/maven2/com/google/http-client/google-http-client/1.43.0/google-http-client-1.43.0.jar ...\n",
      "\t[SUCCESSFUL ] com.google.http-client#google-http-client;1.43.0!google-http-client.jar (248ms)\n",
      "downloading https://repo1.maven.org/maven2/io/opencensus/opencensus-contrib-http-util/0.31.1/opencensus-contrib-http-util-0.31.1.jar ...\n",
      "\t[SUCCESSFUL ] io.opencensus#opencensus-contrib-http-util;0.31.1!opencensus-contrib-http-util.jar (246ms)\n",
      "downloading https://repo1.maven.org/maven2/com/google/http-client/google-http-client-jackson2/1.43.0/google-http-client-jackson2-1.43.0.jar ...\n",
      "\t[SUCCESSFUL ] com.google.http-client#google-http-client-jackson2;1.43.0!google-http-client-jackson2.jar (246ms)\n",
      "downloading https://repo1.maven.org/maven2/com/google/http-client/google-http-client-gson/1.43.0/google-http-client-gson-1.43.0.jar ...\n",
      "\t[SUCCESSFUL ] com.google.http-client#google-http-client-gson;1.43.0!google-http-client-gson.jar (261ms)\n",
      "downloading https://repo1.maven.org/maven2/com/google/api-client/google-api-client/2.2.0/google-api-client-2.2.0.jar ...\n",
      "\t[SUCCESSFUL ] com.google.api-client#google-api-client;2.2.0!google-api-client.jar (248ms)\n",
      "downloading https://repo1.maven.org/maven2/commons-codec/commons-codec/1.15/commons-codec-1.15.jar ...\n",
      "\t[SUCCESSFUL ] commons-codec#commons-codec;1.15!commons-codec.jar (250ms)\n",
      "downloading https://repo1.maven.org/maven2/com/google/oauth-client/google-oauth-client/1.34.1/google-oauth-client-1.34.1.jar ...\n",
      "\t[SUCCESSFUL ] com.google.oauth-client#google-oauth-client;1.34.1!google-oauth-client.jar (249ms)\n",
      "downloading https://repo1.maven.org/maven2/com/google/http-client/google-http-client-apache-v2/1.43.0/google-http-client-apache-v2-1.43.0.jar ...\n",
      "\t[SUCCESSFUL ] com.google.http-client#google-http-client-apache-v2;1.43.0!google-http-client-apache-v2.jar (247ms)\n",
      "downloading https://repo1.maven.org/maven2/com/google/apis/google-api-services-storage/v1-rev20220705-2.0.0/google-api-services-storage-v1-rev20220705-2.0.0.jar ...\n",
      "\t[SUCCESSFUL ] com.google.apis#google-api-services-storage;v1-rev20220705-2.0.0!google-api-services-storage.jar (247ms)\n",
      "downloading https://repo1.maven.org/maven2/com/google/code/gson/gson/2.10.1/gson-2.10.1.jar ...\n",
      "\t[SUCCESSFUL ] com.google.code.gson#gson;2.10.1!gson.jar (259ms)\n",
      "downloading https://repo1.maven.org/maven2/com/google/cloud/google-cloud-core/2.12.0/google-cloud-core-2.12.0.jar ...\n",
      "\t[SUCCESSFUL ] com.google.cloud#google-cloud-core;2.12.0!google-cloud-core.jar (250ms)\n",
      "downloading https://repo1.maven.org/maven2/io/grpc/grpc-context/1.53.0/grpc-context-1.53.0.jar ...\n",
      "\t[SUCCESSFUL ] io.grpc#grpc-context;1.53.0!grpc-context.jar (247ms)\n",
      "downloading https://repo1.maven.org/maven2/com/google/auto/value/auto-value-annotations/1.10.1/auto-value-annotations-1.10.1.jar ...\n",
      "\t[SUCCESSFUL ] com.google.auto.value#auto-value-annotations;1.10.1!auto-value-annotations.jar (248ms)\n",
      "downloading https://repo1.maven.org/maven2/com/google/auto/value/auto-value/1.10.1/auto-value-1.10.1.jar ...\n",
      "\t[SUCCESSFUL ] com.google.auto.value#auto-value;1.10.1!auto-value.jar (382ms)\n",
      "downloading https://repo1.maven.org/maven2/javax/annotation/javax.annotation-api/1.3.2/javax.annotation-api-1.3.2.jar ...\n",
      "\t[SUCCESSFUL ] javax.annotation#javax.annotation-api;1.3.2!javax.annotation-api.jar (244ms)\n",
      "downloading https://repo1.maven.org/maven2/commons-logging/commons-logging/1.2/commons-logging-1.2.jar ...\n",
      "\t[SUCCESSFUL ] commons-logging#commons-logging;1.2!commons-logging.jar (244ms)\n",
      "downloading https://repo1.maven.org/maven2/com/google/cloud/google-cloud-core-http/2.12.0/google-cloud-core-http-2.12.0.jar ...\n",
      "\t[SUCCESSFUL ] com.google.cloud#google-cloud-core-http;2.12.0!google-cloud-core-http.jar (247ms)\n",
      "downloading https://repo1.maven.org/maven2/com/google/http-client/google-http-client-appengine/1.43.0/google-http-client-appengine-1.43.0.jar ...\n",
      "\t[SUCCESSFUL ] com.google.http-client#google-http-client-appengine;1.43.0!google-http-client-appengine.jar (246ms)\n",
      "downloading https://repo1.maven.org/maven2/com/google/api/gax-httpjson/0.108.2/gax-httpjson-0.108.2.jar ...\n",
      "\t[SUCCESSFUL ] com.google.api#gax-httpjson;0.108.2!gax-httpjson.jar (247ms)\n",
      "downloading https://repo1.maven.org/maven2/com/google/cloud/google-cloud-core-grpc/2.12.0/google-cloud-core-grpc-2.12.0.jar ...\n",
      "\t[SUCCESSFUL ] com.google.cloud#google-cloud-core-grpc;2.12.0!google-cloud-core-grpc.jar (250ms)\n",
      "downloading https://repo1.maven.org/maven2/io/grpc/grpc-alts/1.53.0/grpc-alts-1.53.0.jar ...\n",
      "\t[SUCCESSFUL ] io.grpc#grpc-alts;1.53.0!grpc-alts.jar (273ms)\n",
      "downloading https://repo1.maven.org/maven2/io/grpc/grpc-grpclb/1.53.0/grpc-grpclb-1.53.0.jar ...\n",
      "\t[SUCCESSFUL ] io.grpc#grpc-grpclb;1.53.0!grpc-grpclb.jar (248ms)\n",
      "downloading https://repo1.maven.org/maven2/org/conscrypt/conscrypt-openjdk-uber/2.5.2/conscrypt-openjdk-uber-2.5.2.jar ...\n",
      "\t[SUCCESSFUL ] org.conscrypt#conscrypt-openjdk-uber;2.5.2!conscrypt-openjdk-uber.jar (377ms)\n",
      "downloading https://repo1.maven.org/maven2/io/grpc/grpc-auth/1.53.0/grpc-auth-1.53.0.jar ...\n",
      "\t[SUCCESSFUL ] io.grpc#grpc-auth;1.53.0!grpc-auth.jar (246ms)\n",
      "downloading https://repo1.maven.org/maven2/io/grpc/grpc-protobuf/1.53.0/grpc-protobuf-1.53.0.jar ...\n",
      "\t[SUCCESSFUL ] io.grpc#grpc-protobuf;1.53.0!grpc-protobuf.jar (250ms)\n",
      "downloading https://repo1.maven.org/maven2/io/grpc/grpc-protobuf-lite/1.53.0/grpc-protobuf-lite-1.53.0.jar ...\n",
      "\t[SUCCESSFUL ] io.grpc#grpc-protobuf-lite;1.53.0!grpc-protobuf-lite.jar (247ms)\n",
      "downloading https://repo1.maven.org/maven2/io/grpc/grpc-core/1.53.0/grpc-core-1.53.0.jar ...\n",
      "\t[SUCCESSFUL ] io.grpc#grpc-core;1.53.0!grpc-core.jar (255ms)\n",
      "downloading https://repo1.maven.org/maven2/com/google/api/gax/2.23.2/gax-2.23.2.jar ...\n",
      "\t[SUCCESSFUL ] com.google.api#gax;2.23.2!gax.jar (250ms)\n",
      "downloading https://repo1.maven.org/maven2/com/google/api/gax-grpc/2.23.2/gax-grpc-2.23.2.jar ...\n",
      "\t[SUCCESSFUL ] com.google.api#gax-grpc;2.23.2!gax-grpc.jar (247ms)\n",
      "downloading https://repo1.maven.org/maven2/com/google/auth/google-auth-library-credentials/1.16.0/google-auth-library-credentials-1.16.0.jar ...\n",
      "\t[SUCCESSFUL ] com.google.auth#google-auth-library-credentials;1.16.0!google-auth-library-credentials.jar (246ms)\n",
      "downloading https://repo1.maven.org/maven2/com/google/auth/google-auth-library-oauth2-http/1.16.0/google-auth-library-oauth2-http-1.16.0.jar ...\n",
      "\t[SUCCESSFUL ] com.google.auth#google-auth-library-oauth2-http;1.16.0!google-auth-library-oauth2-http.jar (249ms)\n",
      "downloading https://repo1.maven.org/maven2/com/google/api/api-common/2.6.2/api-common-2.6.2.jar ...\n",
      "\t[SUCCESSFUL ] com.google.api#api-common;2.6.2!api-common.jar (247ms)\n",
      "downloading https://repo1.maven.org/maven2/io/opencensus/opencensus-api/0.31.1/opencensus-api-0.31.1.jar ...\n",
      "\t[SUCCESSFUL ] io.opencensus#opencensus-api;0.31.1!opencensus-api.jar (249ms)\n",
      "downloading https://repo1.maven.org/maven2/com/google/api/grpc/proto-google-iam-v1/1.9.2/proto-google-iam-v1-1.9.2.jar ...\n",
      "\t[SUCCESSFUL ] com.google.api.grpc#proto-google-iam-v1;1.9.2!proto-google-iam-v1.jar (249ms)\n",
      "downloading https://repo1.maven.org/maven2/com/google/protobuf/protobuf-java/3.21.12/protobuf-java-3.21.12.jar ...\n",
      "\t[SUCCESSFUL ] com.google.protobuf#protobuf-java;3.21.12!protobuf-java.jar(bundle) (274ms)\n",
      "downloading https://repo1.maven.org/maven2/com/google/protobuf/protobuf-java-util/3.21.12/protobuf-java-util-3.21.12.jar ...\n",
      "\t[SUCCESSFUL ] com.google.protobuf#protobuf-java-util;3.21.12!protobuf-java-util.jar(bundle) (247ms)\n",
      "downloading https://repo1.maven.org/maven2/com/google/api/grpc/proto-google-common-protos/2.14.2/proto-google-common-protos-2.14.2.jar ...\n",
      "\t[SUCCESSFUL ] com.google.api.grpc#proto-google-common-protos;2.14.2!proto-google-common-protos.jar (267ms)\n",
      "downloading https://repo1.maven.org/maven2/org/threeten/threetenbp/1.6.5/threetenbp-1.6.5.jar ...\n",
      "\t[SUCCESSFUL ] org.threeten#threetenbp;1.6.5!threetenbp.jar (253ms)\n",
      "downloading https://repo1.maven.org/maven2/com/google/api/grpc/proto-google-cloud-storage-v2/2.20.1-alpha/proto-google-cloud-storage-v2-2.20.1-alpha.jar ...\n",
      "\t[SUCCESSFUL ] com.google.api.grpc#proto-google-cloud-storage-v2;2.20.1-alpha!proto-google-cloud-storage-v2.jar (256ms)\n",
      "downloading https://repo1.maven.org/maven2/com/google/api/grpc/grpc-google-cloud-storage-v2/2.20.1-alpha/grpc-google-cloud-storage-v2-2.20.1-alpha.jar ...\n",
      "\t[SUCCESSFUL ] com.google.api.grpc#grpc-google-cloud-storage-v2;2.20.1-alpha!grpc-google-cloud-storage-v2.jar (249ms)\n",
      "downloading https://repo1.maven.org/maven2/com/google/api/grpc/gapic-google-cloud-storage-v2/2.20.1-alpha/gapic-google-cloud-storage-v2-2.20.1-alpha.jar ...\n",
      "\t[SUCCESSFUL ] com.google.api.grpc#gapic-google-cloud-storage-v2;2.20.1-alpha!gapic-google-cloud-storage-v2.jar (247ms)\n",
      "downloading https://repo1.maven.org/maven2/com/fasterxml/jackson/core/jackson-core/2.14.2/jackson-core-2.14.2.jar ...\n",
      "\t[SUCCESSFUL ] com.fasterxml.jackson.core#jackson-core;2.14.2!jackson-core.jar(bundle) (251ms)\n",
      "downloading https://repo1.maven.org/maven2/com/google/code/findbugs/jsr305/3.0.2/jsr305-3.0.2.jar ...\n",
      "\t[SUCCESSFUL ] com.google.code.findbugs#jsr305;3.0.2!jsr305.jar (244ms)\n",
      "downloading https://repo1.maven.org/maven2/io/grpc/grpc-api/1.53.0/grpc-api-1.53.0.jar ...\n",
      "\t[SUCCESSFUL ] io.grpc#grpc-api;1.53.0!grpc-api.jar (252ms)\n",
      "downloading https://repo1.maven.org/maven2/io/grpc/grpc-stub/1.53.0/grpc-stub-1.53.0.jar ...\n",
      "\t[SUCCESSFUL ] io.grpc#grpc-stub;1.53.0!grpc-stub.jar (244ms)\n",
      "downloading https://repo1.maven.org/maven2/org/checkerframework/checker-qual/3.31.0/checker-qual-3.31.0.jar ...\n",
      "\t[SUCCESSFUL ] org.checkerframework#checker-qual;3.31.0!checker-qual.jar (248ms)\n",
      "downloading https://repo1.maven.org/maven2/io/perfmark/perfmark-api/0.26.0/perfmark-api-0.26.0.jar ...\n",
      "\t[SUCCESSFUL ] io.perfmark#perfmark-api;0.26.0!perfmark-api.jar (246ms)\n",
      "downloading https://repo1.maven.org/maven2/com/google/android/annotations/4.1.1.4/annotations-4.1.1.4.jar ...\n",
      "\t[SUCCESSFUL ] com.google.android#annotations;4.1.1.4!annotations.jar (244ms)\n",
      "downloading https://repo1.maven.org/maven2/org/codehaus/mojo/animal-sniffer-annotations/1.22/animal-sniffer-annotations-1.22.jar ...\n",
      "\t[SUCCESSFUL ] org.codehaus.mojo#animal-sniffer-annotations;1.22!animal-sniffer-annotations.jar (243ms)\n",
      "downloading https://repo1.maven.org/maven2/io/opencensus/opencensus-proto/0.2.0/opencensus-proto-0.2.0.jar ...\n",
      "\t[SUCCESSFUL ] io.opencensus#opencensus-proto;0.2.0!opencensus-proto.jar (252ms)\n",
      "downloading https://repo1.maven.org/maven2/io/grpc/grpc-services/1.53.0/grpc-services-1.53.0.jar ...\n",
      "\t[SUCCESSFUL ] io.grpc#grpc-services;1.53.0!grpc-services.jar (255ms)\n",
      "downloading https://repo1.maven.org/maven2/com/google/re2j/re2j/1.6/re2j-1.6.jar ...\n",
      "\t[SUCCESSFUL ] com.google.re2j#re2j;1.6!re2j.jar (245ms)\n",
      "downloading https://repo1.maven.org/maven2/io/grpc/grpc-netty-shaded/1.53.0/grpc-netty-shaded-1.53.0.jar ...\n",
      "\t[SUCCESSFUL ] io.grpc#grpc-netty-shaded;1.53.0!grpc-netty-shaded.jar (495ms)\n",
      "downloading https://repo1.maven.org/maven2/io/grpc/grpc-googleapis/1.53.0/grpc-googleapis-1.53.0.jar ...\n",
      "\t[SUCCESSFUL ] io.grpc#grpc-googleapis;1.53.0!grpc-googleapis.jar (247ms)\n",
      "downloading https://repo1.maven.org/maven2/io/grpc/grpc-xds/1.53.0/grpc-xds-1.53.0.jar ...\n",
      "\t[SUCCESSFUL ] io.grpc#grpc-xds;1.53.0!grpc-xds.jar (533ms)\n",
      "downloading https://repo1.maven.org/maven2/dk/brics/automaton/automaton/1.11-8/automaton-1.11-8.jar ...\n",
      "\t[SUCCESSFUL ] dk.brics.automaton#automaton;1.11-8!automaton.jar (248ms)\n",
      ":: resolution report :: resolve 69512ms :: artifacts dl 38717ms\n",
      "\t:: modules in use:\n",
      "\tcom.amazonaws#aws-java-sdk-bundle;1.11.828 from central in [default]\n",
      "\tcom.fasterxml.jackson.core#jackson-core;2.14.2 from central in [default]\n",
      "\tcom.github.universal-automata#liblevenshtein;3.0.0 from central in [default]\n",
      "\tcom.google.android#annotations;4.1.1.4 from central in [default]\n",
      "\tcom.google.api#api-common;2.6.2 from central in [default]\n",
      "\tcom.google.api#gax;2.23.2 from central in [default]\n",
      "\tcom.google.api#gax-grpc;2.23.2 from central in [default]\n",
      "\tcom.google.api#gax-httpjson;0.108.2 from central in [default]\n",
      "\tcom.google.api-client#google-api-client;2.2.0 from central in [default]\n",
      "\tcom.google.api.grpc#gapic-google-cloud-storage-v2;2.20.1-alpha from central in [default]\n",
      "\tcom.google.api.grpc#grpc-google-cloud-storage-v2;2.20.1-alpha from central in [default]\n",
      "\tcom.google.api.grpc#proto-google-cloud-storage-v2;2.20.1-alpha from central in [default]\n",
      "\tcom.google.api.grpc#proto-google-common-protos;2.14.2 from central in [default]\n",
      "\tcom.google.api.grpc#proto-google-iam-v1;1.9.2 from central in [default]\n",
      "\tcom.google.apis#google-api-services-storage;v1-rev20220705-2.0.0 from central in [default]\n",
      "\tcom.google.auth#google-auth-library-credentials;1.16.0 from central in [default]\n",
      "\tcom.google.auth#google-auth-library-oauth2-http;1.16.0 from central in [default]\n",
      "\tcom.google.auto.value#auto-value;1.10.1 from central in [default]\n",
      "\tcom.google.auto.value#auto-value-annotations;1.10.1 from central in [default]\n",
      "\tcom.google.cloud#google-cloud-core;2.12.0 from central in [default]\n",
      "\tcom.google.cloud#google-cloud-core-grpc;2.12.0 from central in [default]\n",
      "\tcom.google.cloud#google-cloud-core-http;2.12.0 from central in [default]\n",
      "\tcom.google.cloud#google-cloud-storage;2.20.1 from central in [default]\n",
      "\tcom.google.code.findbugs#jsr305;3.0.2 from central in [default]\n",
      "\tcom.google.code.gson#gson;2.10.1 from central in [default]\n",
      "\tcom.google.errorprone#error_prone_annotations;2.18.0 from central in [default]\n",
      "\tcom.google.guava#failureaccess;1.0.1 from central in [default]\n",
      "\tcom.google.guava#guava;31.1-jre from central in [default]\n",
      "\tcom.google.guava#listenablefuture;9999.0-empty-to-avoid-conflict-with-guava from central in [default]\n",
      "\tcom.google.http-client#google-http-client;1.43.0 from central in [default]\n",
      "\tcom.google.http-client#google-http-client-apache-v2;1.43.0 from central in [default]\n",
      "\tcom.google.http-client#google-http-client-appengine;1.43.0 from central in [default]\n",
      "\tcom.google.http-client#google-http-client-gson;1.43.0 from central in [default]\n",
      "\tcom.google.http-client#google-http-client-jackson2;1.43.0 from central in [default]\n",
      "\tcom.google.j2objc#j2objc-annotations;1.3 from central in [default]\n",
      "\tcom.google.oauth-client#google-oauth-client;1.34.1 from central in [default]\n",
      "\tcom.google.protobuf#protobuf-java;3.21.12 from central in [default]\n",
      "\tcom.google.protobuf#protobuf-java-util;3.21.12 from central in [default]\n",
      "\tcom.google.re2j#re2j;1.6 from central in [default]\n",
      "\tcom.johnsnowlabs.nlp#spark-nlp_2.12;5.2.0 from central in [default]\n",
      "\tcom.johnsnowlabs.nlp#tensorflow-cpu_2.12;0.4.4 from central in [default]\n",
      "\tcom.microsoft.onnxruntime#onnxruntime;1.16.3 from central in [default]\n",
      "\tcom.navigamez#greex;1.0 from central in [default]\n",
      "\tcom.typesafe#config;1.4.2 from central in [default]\n",
      "\tcommons-codec#commons-codec;1.15 from central in [default]\n",
      "\tcommons-logging#commons-logging;1.2 from central in [default]\n",
      "\tdk.brics.automaton#automaton;1.11-8 from central in [default]\n",
      "\tio.grpc#grpc-alts;1.53.0 from central in [default]\n",
      "\tio.grpc#grpc-api;1.53.0 from central in [default]\n",
      "\tio.grpc#grpc-auth;1.53.0 from central in [default]\n",
      "\tio.grpc#grpc-context;1.53.0 from central in [default]\n",
      "\tio.grpc#grpc-core;1.53.0 from central in [default]\n",
      "\tio.grpc#grpc-googleapis;1.53.0 from central in [default]\n",
      "\tio.grpc#grpc-grpclb;1.53.0 from central in [default]\n",
      "\tio.grpc#grpc-netty-shaded;1.53.0 from central in [default]\n",
      "\tio.grpc#grpc-protobuf;1.53.0 from central in [default]\n",
      "\tio.grpc#grpc-protobuf-lite;1.53.0 from central in [default]\n",
      "\tio.grpc#grpc-services;1.53.0 from central in [default]\n",
      "\tio.grpc#grpc-stub;1.53.0 from central in [default]\n",
      "\tio.grpc#grpc-xds;1.53.0 from central in [default]\n",
      "\tio.opencensus#opencensus-api;0.31.1 from central in [default]\n",
      "\tio.opencensus#opencensus-contrib-http-util;0.31.1 from central in [default]\n",
      "\tio.opencensus#opencensus-proto;0.2.0 from central in [default]\n",
      "\tio.perfmark#perfmark-api;0.26.0 from central in [default]\n",
      "\tit.unimi.dsi#fastutil;7.0.12 from central in [default]\n",
      "\tjavax.annotation#javax.annotation-api;1.3.2 from central in [default]\n",
      "\torg.checkerframework#checker-qual;3.31.0 from central in [default]\n",
      "\torg.codehaus.mojo#animal-sniffer-annotations;1.22 from central in [default]\n",
      "\torg.conscrypt#conscrypt-openjdk-uber;2.5.2 from central in [default]\n",
      "\torg.projectlombok#lombok;1.16.8 from central in [default]\n",
      "\torg.rocksdb#rocksdbjni;6.29.5 from central in [default]\n",
      "\torg.threeten#threetenbp;1.6.5 from central in [default]\n",
      "\t:: evicted modules:\n",
      "\tcom.google.protobuf#protobuf-java-util;3.0.0-beta-3 by [com.google.protobuf#protobuf-java-util;3.21.12] in [default]\n",
      "\tcom.google.protobuf#protobuf-java;3.0.0-beta-3 by [com.google.protobuf#protobuf-java;3.21.12] in [default]\n",
      "\tcom.google.code.gson#gson;2.3 by [com.google.code.gson#gson;2.10.1] in [default]\n",
      "\t---------------------------------------------------------------------\n",
      "\t|                  |            modules            ||   artifacts   |\n",
      "\t|       conf       | number| search|dwnlded|evicted|| number|dwnlded|\n",
      "\t---------------------------------------------------------------------\n",
      "\t|      default     |   75  |   75  |   75  |   3   ||   72  |   72  |\n",
      "\t---------------------------------------------------------------------\n",
      ":: retrieving :: org.apache.spark#spark-submit-parent-10cc83a7-9e8b-4e80-be43-d28ebfb743e0\n",
      "\tconfs: [default]\n",
      "\t72 artifacts copied, 0 already retrieved (701488kB/723ms)\n",
      "23/12/10 04:15:30 WARN NativeCodeLoader: Unable to load native-hadoop library for your platform... using builtin-java classes where applicable\n",
      "Setting default log level to \"WARN\".\n",
      "To adjust logging level use sc.setLogLevel(newLevel). For SparkR, use setLogLevel(newLevel).\n",
      "23/12/10 04:15:45 ERROR Inbox: Ignoring error\n",
      "java.lang.NullPointerException\n",
      "\tat org.apache.spark.storage.BlockManagerMasterEndpoint.org$apache$spark$storage$BlockManagerMasterEndpoint$$register(BlockManagerMasterEndpoint.scala:677)\n",
      "\tat org.apache.spark.storage.BlockManagerMasterEndpoint$$anonfun$receiveAndReply$1.applyOrElse(BlockManagerMasterEndpoint.scala:133)\n",
      "\tat org.apache.spark.rpc.netty.Inbox.$anonfun$process$1(Inbox.scala:103)\n",
      "\tat org.apache.spark.rpc.netty.Inbox.safelyCall(Inbox.scala:213)\n",
      "\tat org.apache.spark.rpc.netty.Inbox.process(Inbox.scala:100)\n",
      "\tat org.apache.spark.rpc.netty.MessageLoop.org$apache$spark$rpc$netty$MessageLoop$$receiveLoop(MessageLoop.scala:75)\n",
      "\tat org.apache.spark.rpc.netty.MessageLoop$$anon$1.run(MessageLoop.scala:41)\n",
      "\tat java.base/java.util.concurrent.ThreadPoolExecutor.runWorker(ThreadPoolExecutor.java:1128)\n",
      "\tat java.base/java.util.concurrent.ThreadPoolExecutor$Worker.run(ThreadPoolExecutor.java:628)\n",
      "\tat java.base/java.lang.Thread.run(Thread.java:829)\n",
      "23/12/10 04:15:45 WARN Executor: Issue communicating with driver in heartbeater\n",
      "org.apache.spark.SparkException: Exception thrown in awaitResult: \n",
      "\tat org.apache.spark.util.SparkThreadUtils$.awaitResult(SparkThreadUtils.scala:56)\n",
      "\tat org.apache.spark.util.ThreadUtils$.awaitResult(ThreadUtils.scala:310)\n",
      "\tat org.apache.spark.rpc.RpcTimeout.awaitResult(RpcTimeout.scala:75)\n",
      "\tat org.apache.spark.rpc.RpcEndpointRef.askSync(RpcEndpointRef.scala:101)\n",
      "\tat org.apache.spark.rpc.RpcEndpointRef.askSync(RpcEndpointRef.scala:85)\n",
      "\tat org.apache.spark.storage.BlockManagerMaster.registerBlockManager(BlockManagerMaster.scala:80)\n",
      "\tat org.apache.spark.storage.BlockManager.reregister(BlockManager.scala:642)\n",
      "\tat org.apache.spark.executor.Executor.reportHeartBeat(Executor.scala:1223)\n",
      "\tat org.apache.spark.executor.Executor.$anonfun$heartbeater$1(Executor.scala:295)\n",
      "\tat scala.runtime.java8.JFunction0$mcV$sp.apply(JFunction0$mcV$sp.java:23)\n",
      "\tat org.apache.spark.util.Utils$.logUncaughtExceptions(Utils.scala:1928)\n",
      "\tat org.apache.spark.Heartbeater$$anon$1.run(Heartbeater.scala:46)\n",
      "\tat java.base/java.util.concurrent.Executors$RunnableAdapter.call(Executors.java:515)\n",
      "\tat java.base/java.util.concurrent.FutureTask.runAndReset(FutureTask.java:305)\n",
      "\tat java.base/java.util.concurrent.ScheduledThreadPoolExecutor$ScheduledFutureTask.run(ScheduledThreadPoolExecutor.java:305)\n",
      "\tat java.base/java.util.concurrent.ThreadPoolExecutor.runWorker(ThreadPoolExecutor.java:1128)\n",
      "\tat java.base/java.util.concurrent.ThreadPoolExecutor$Worker.run(ThreadPoolExecutor.java:628)\n",
      "\tat java.base/java.lang.Thread.run(Thread.java:829)\n",
      "Caused by: java.lang.NullPointerException\n",
      "\tat org.apache.spark.storage.BlockManagerMasterEndpoint.org$apache$spark$storage$BlockManagerMasterEndpoint$$register(BlockManagerMasterEndpoint.scala:677)\n",
      "\tat org.apache.spark.storage.BlockManagerMasterEndpoint$$anonfun$receiveAndReply$1.applyOrElse(BlockManagerMasterEndpoint.scala:133)\n",
      "\tat org.apache.spark.rpc.netty.Inbox.$anonfun$process$1(Inbox.scala:103)\n",
      "\tat org.apache.spark.rpc.netty.Inbox.safelyCall(Inbox.scala:213)\n",
      "\tat org.apache.spark.rpc.netty.Inbox.process(Inbox.scala:100)\n",
      "\tat org.apache.spark.rpc.netty.MessageLoop.org$apache$spark$rpc$netty$MessageLoop$$receiveLoop(MessageLoop.scala:75)\n",
      "\tat org.apache.spark.rpc.netty.MessageLoop$$anon$1.run(MessageLoop.scala:41)\n",
      "\t... 3 more\n"
     ]
    },
    {
     "name": "stdout",
     "output_type": "stream",
     "text": [
      "Warning::Spark Session already created, some configs may not take.\n",
      "lemma download started this may take some time.\n",
      "Approximate size to download 90.6 KB\n",
      "[ | ]lemma download started this may take some time.\n",
      "Approximate size to download 90.6 KB\n",
      "[ / ]Download done! Loading the resource.\n",
      "[OK!]\n",
      "Warning::Spark Session already created, some configs may not take.\n"
     ]
    },
    {
     "name": "stderr",
     "output_type": "stream",
     "text": [
      "WARNING: An illegal reflective access operation has occurred\n",
      "WARNING: Illegal reflective access by org.apache.spark.util.SizeEstimator$ (file:/opt/conda/lib/python3.10/site-packages/pyspark/jars/spark-core_2.12-3.5.0.jar) to field java.util.regex.Pattern.pattern\n",
      "WARNING: Please consider reporting this to the maintainers of org.apache.spark.util.SizeEstimator$\n",
      "WARNING: Use --illegal-access=warn to enable warnings of further illegal reflective access operations\n",
      "WARNING: All illegal access operations will be denied in a future release\n",
      "                                                                                \r"
     ]
    },
    {
     "data": {
      "text/html": [
       "<div>\n",
       "<style scoped>\n",
       "    .dataframe tbody tr th:only-of-type {\n",
       "        vertical-align: middle;\n",
       "    }\n",
       "\n",
       "    .dataframe tbody tr th {\n",
       "        vertical-align: top;\n",
       "    }\n",
       "\n",
       "    .dataframe thead th {\n",
       "        text-align: right;\n",
       "    }\n",
       "</style>\n",
       "<table border=\"1\" class=\"dataframe\">\n",
       "  <thead>\n",
       "    <tr style=\"text-align: right;\">\n",
       "      <th></th>\n",
       "      <th>document</th>\n",
       "      <th>lem</th>\n",
       "    </tr>\n",
       "  </thead>\n",
       "  <tbody>\n",
       "    <tr>\n",
       "      <th>0</th>\n",
       "      <td>মুগ্ধ হয়ে গেলাম মামু. আর তোমায় কি কমু. বলো ত...</td>\n",
       "      <td>[মুগ্ধ, হয়ে, যাওয়া, মামু, ., আর, তোমায়, কি, ...</td>\n",
       "    </tr>\n",
       "    <tr>\n",
       "      <th>1</th>\n",
       "      <td>এই কুত্তার বাচ্চাদের জন্য দেশটা আজ এমন অবস্তায...</td>\n",
       "      <td>[এই, কুত্তার, বাচ্চা, জন্য, দেশটা, আজ, এমন, অব...</td>\n",
       "    </tr>\n",
       "    <tr>\n",
       "      <th>2</th>\n",
       "      <td>ভাই আপনার কথাই যাদু রয়েছে</td>\n",
       "      <td>[ভাই, আপনি, কথাই, যাদু, রয়েছে]</td>\n",
       "    </tr>\n",
       "    <tr>\n",
       "      <th>3</th>\n",
       "      <td>উওরটা আমার অনেক ভাল লেগেছে</td>\n",
       "      <td>[উওরটা, আমি, অনেক, ভাল, লাগা]</td>\n",
       "    </tr>\n",
       "    <tr>\n",
       "      <th>4</th>\n",
       "      <td>আমার নিজের গাড়ী নিয়ে কি সাজেক যেতে পারবো না ...</td>\n",
       "      <td>[আমি, নিজ, গাড়ী, নিয়ে, কি, সাজেক, যাওয়া, পার...</td>\n",
       "    </tr>\n",
       "    <tr>\n",
       "      <th>...</th>\n",
       "      <td>...</td>\n",
       "      <td>...</td>\n",
       "    </tr>\n",
       "    <tr>\n",
       "      <th>12570</th>\n",
       "      <td>বর্ডারে অনেক লেট হয়ে যাওয়াতে আমরা জিপে করে চ...</td>\n",
       "      <td>[বর্ডারে, অনেক, লেট, হয়ে, যাওয়াতে, আমি, জিপে...</td>\n",
       "    </tr>\n",
       "    <tr>\n",
       "      <th>12571</th>\n",
       "      <td>আমার সোনার বাংলাতে এমন রক্ষক নামের ভক্ষকের কোন...</td>\n",
       "      <td>[আমি, সোনা, বাংলাতে, এমন, রক্ষক, নাম, ভক্ষকের,...</td>\n",
       "    </tr>\n",
       "    <tr>\n",
       "      <th>12572</th>\n",
       "      <td>ওনারা এত হাইজিনিক ও এত সুন্দর পরিবেশে রান্না ক...</td>\n",
       "      <td>[ওনারা, এত, হাইজিনিক, ও, এত, সুন্দর, পরিবেশ, র...</td>\n",
       "    </tr>\n",
       "    <tr>\n",
       "      <th>12573</th>\n",
       "      <td>বাংলাদেশ আমরা পুলিশ চাই না এই ধরনে পুলিশ দরকার...</td>\n",
       "      <td>[বাংলাদেশ, আমি, পুলিশ, চাওয়া, না, এই, ধরনে, পু...</td>\n",
       "    </tr>\n",
       "    <tr>\n",
       "      <th>12574</th>\n",
       "      <td>বসুন্ধরা শাখার হাজি বিরিয়ানি একবারেই ফালতু</td>\n",
       "      <td>[বসুন্ধরা, শাখার, হাজি, বিরিয়ানি, একবারেই, ফা...</td>\n",
       "    </tr>\n",
       "  </tbody>\n",
       "</table>\n",
       "<p>12575 rows × 2 columns</p>\n",
       "</div>"
      ],
      "text/plain": [
       "                                                document  \\\n",
       "0      মুগ্ধ হয়ে গেলাম মামু. আর তোমায় কি কমু. বলো ত...   \n",
       "1      এই কুত্তার বাচ্চাদের জন্য দেশটা আজ এমন অবস্তায...   \n",
       "2                             ভাই আপনার কথাই যাদু রয়েছে   \n",
       "3                             উওরটা আমার অনেক ভাল লেগেছে   \n",
       "4      আমার নিজের গাড়ী নিয়ে কি সাজেক যেতে পারবো না ...   \n",
       "...                                                  ...   \n",
       "12570  বর্ডারে অনেক লেট হয়ে যাওয়াতে আমরা জিপে করে চ...   \n",
       "12571  আমার সোনার বাংলাতে এমন রক্ষক নামের ভক্ষকের কোন...   \n",
       "12572  ওনারা এত হাইজিনিক ও এত সুন্দর পরিবেশে রান্না ক...   \n",
       "12573  বাংলাদেশ আমরা পুলিশ চাই না এই ধরনে পুলিশ দরকার...   \n",
       "12574        বসুন্ধরা শাখার হাজি বিরিয়ানি একবারেই ফালতু   \n",
       "\n",
       "                                                     lem  \n",
       "0      [মুগ্ধ, হয়ে, যাওয়া, মামু, ., আর, তোমায়, কি, ...  \n",
       "1      [এই, কুত্তার, বাচ্চা, জন্য, দেশটা, আজ, এমন, অব...  \n",
       "2                        [ভাই, আপনি, কথাই, যাদু, রয়েছে]  \n",
       "3                          [উওরটা, আমি, অনেক, ভাল, লাগা]  \n",
       "4      [আমি, নিজ, গাড়ী, নিয়ে, কি, সাজেক, যাওয়া, পার...  \n",
       "...                                                  ...  \n",
       "12570  [বর্ডারে, অনেক, লেট, হয়ে, যাওয়াতে, আমি, জিপে...  \n",
       "12571  [আমি, সোনা, বাংলাতে, এমন, রক্ষক, নাম, ভক্ষকের,...  \n",
       "12572  [ওনারা, এত, হাইজিনিক, ও, এত, সুন্দর, পরিবেশ, র...  \n",
       "12573  [বাংলাদেশ, আমি, পুলিশ, চাওয়া, না, এই, ধরনে, পু...  \n",
       "12574  [বসুন্ধরা, শাখার, হাজি, বিরিয়ানি, একবারেই, ফা...  \n",
       "\n",
       "[12575 rows x 2 columns]"
      ]
     },
     "execution_count": 10,
     "metadata": {},
     "output_type": "execute_result"
    }
   ],
   "source": [
    "text_list = train_df[\"Data\"].tolist()\n",
    "lemmatized_result = nlu.load('bn.lemma').predict(text_list, output_level = \"document\")\n",
    "lemmatized_result"
   ]
  },
  {
   "cell_type": "code",
   "execution_count": 11,
   "id": "af008342",
   "metadata": {
    "execution": {
     "iopub.execute_input": "2023-12-10T04:16:33.984053Z",
     "iopub.status.busy": "2023-12-10T04:16:33.983119Z",
     "iopub.status.idle": "2023-12-10T04:16:34.009315Z",
     "shell.execute_reply": "2023-12-10T04:16:34.008324Z"
    },
    "papermill": {
     "duration": 0.070468,
     "end_time": "2023-12-10T04:16:34.011830",
     "exception": false,
     "start_time": "2023-12-10T04:16:33.941362",
     "status": "completed"
    },
    "tags": []
   },
   "outputs": [],
   "source": [
    "# Extracting lemmatized text from the results\n",
    "lemmatized_text_list = lemmatized_result['lem']\n",
    "\n",
    "# Adding lemmatized text as a new column to train_df\n",
    "train_df['Lemmatized_Text'] = lemmatized_text_list\n",
    "\n",
    "train_df['Lemmatized_Text']=train_df['Lemmatized_Text'].apply(create_lemma)"
   ]
  },
  {
   "cell_type": "code",
   "execution_count": 12,
   "id": "c54273de",
   "metadata": {
    "execution": {
     "iopub.execute_input": "2023-12-10T04:16:34.094916Z",
     "iopub.status.busy": "2023-12-10T04:16:34.094037Z",
     "iopub.status.idle": "2023-12-10T04:16:34.106574Z",
     "shell.execute_reply": "2023-12-10T04:16:34.105573Z"
    },
    "papermill": {
     "duration": 0.056392,
     "end_time": "2023-12-10T04:16:34.108868",
     "exception": false,
     "start_time": "2023-12-10T04:16:34.052476",
     "status": "completed"
    },
    "tags": []
   },
   "outputs": [
    {
     "data": {
      "text/html": [
       "<div>\n",
       "<style scoped>\n",
       "    .dataframe tbody tr th:only-of-type {\n",
       "        vertical-align: middle;\n",
       "    }\n",
       "\n",
       "    .dataframe tbody tr th {\n",
       "        vertical-align: top;\n",
       "    }\n",
       "\n",
       "    .dataframe thead th {\n",
       "        text-align: right;\n",
       "    }\n",
       "</style>\n",
       "<table border=\"1\" class=\"dataframe\">\n",
       "  <thead>\n",
       "    <tr style=\"text-align: right;\">\n",
       "      <th></th>\n",
       "      <th>Data</th>\n",
       "      <th>Label</th>\n",
       "      <th>Lemmatized_Text</th>\n",
       "    </tr>\n",
       "  </thead>\n",
       "  <tbody>\n",
       "    <tr>\n",
       "      <th>0</th>\n",
       "      <td>মুগ্ধ হয়ে গেলাম মামু. আর তোমায় কি কমু. বলো ত...</td>\n",
       "      <td>1</td>\n",
       "      <td>মুগ্ধ হয়ে যাওয়া মামু . আর তোমায় কি কমু . বলা...</td>\n",
       "    </tr>\n",
       "    <tr>\n",
       "      <th>1</th>\n",
       "      <td>এই কুত্তার বাচ্চাদের জন্য দেশটা আজ এমন অবস্তায...</td>\n",
       "      <td>2</td>\n",
       "      <td>এই কুত্তার বাচ্চা জন্য দেশটা আজ এমন অবস্তায় এ...</td>\n",
       "    </tr>\n",
       "    <tr>\n",
       "      <th>2</th>\n",
       "      <td>ভাই আপনার কথাই যাদু রয়েছে</td>\n",
       "      <td>1</td>\n",
       "      <td>ভাই আপনি কথাই যাদু রয়েছে</td>\n",
       "    </tr>\n",
       "    <tr>\n",
       "      <th>3</th>\n",
       "      <td>উওরটা আমার অনেক ভাল লেগেছে</td>\n",
       "      <td>1</td>\n",
       "      <td>উওরটা আমি অনেক ভাল লাগা</td>\n",
       "    </tr>\n",
       "    <tr>\n",
       "      <th>4</th>\n",
       "      <td>আমার নিজের গাড়ী নিয়ে কি সাজেক যেতে পারবো না ...</td>\n",
       "      <td>0</td>\n",
       "      <td>আমি নিজ গাড়ী নিয়ে কি সাজেক যাওয়া পারবো না ? ...</td>\n",
       "    </tr>\n",
       "    <tr>\n",
       "      <th>...</th>\n",
       "      <td>...</td>\n",
       "      <td>...</td>\n",
       "      <td>...</td>\n",
       "    </tr>\n",
       "    <tr>\n",
       "      <th>12570</th>\n",
       "      <td>বর্ডারে অনেক লেট হয়ে যাওয়াতে আমরা জিপে করে চ...</td>\n",
       "      <td>1</td>\n",
       "      <td>বর্ডারে অনেক লেট হয়ে যাওয়াতে আমি জিপে করা চল...</td>\n",
       "    </tr>\n",
       "    <tr>\n",
       "      <th>12571</th>\n",
       "      <td>আমার সোনার বাংলাতে এমন রক্ষক নামের ভক্ষকের কোন...</td>\n",
       "      <td>2</td>\n",
       "      <td>আমি সোনা বাংলাতে এমন রক্ষক নাম ভক্ষকের কোন জায...</td>\n",
       "    </tr>\n",
       "    <tr>\n",
       "      <th>12572</th>\n",
       "      <td>ওনারা এত হাইজিনিক ও এত সুন্দর পরিবেশে রান্না ক...</td>\n",
       "      <td>1</td>\n",
       "      <td>ওনারা এত হাইজিনিক ও এত সুন্দর পরিবেশ রান্না কর...</td>\n",
       "    </tr>\n",
       "    <tr>\n",
       "      <th>12573</th>\n",
       "      <td>বাংলাদেশ আমরা পুলিশ চাই না এই ধরনে পুলিশ দরকার...</td>\n",
       "      <td>2</td>\n",
       "      <td>বাংলাদেশ আমি পুলিশ চাওয়া না এই ধরনে পুলিশ দরকা...</td>\n",
       "    </tr>\n",
       "    <tr>\n",
       "      <th>12574</th>\n",
       "      <td>বসুন্ধরা শাখার হাজি বিরিয়ানি একবারেই ফালতু</td>\n",
       "      <td>2</td>\n",
       "      <td>বসুন্ধরা শাখার হাজি বিরিয়ানি একবারেই ফালতু</td>\n",
       "    </tr>\n",
       "  </tbody>\n",
       "</table>\n",
       "<p>12575 rows × 3 columns</p>\n",
       "</div>"
      ],
      "text/plain": [
       "                                                    Data  Label  \\\n",
       "0      মুগ্ধ হয়ে গেলাম মামু. আর তোমায় কি কমু. বলো ত...      1   \n",
       "1      এই কুত্তার বাচ্চাদের জন্য দেশটা আজ এমন অবস্তায...      2   \n",
       "2                             ভাই আপনার কথাই যাদু রয়েছে      1   \n",
       "3                            উওরটা আমার অনেক ভাল লেগেছে       1   \n",
       "4      আমার নিজের গাড়ী নিয়ে কি সাজেক যেতে পারবো না ...      0   \n",
       "...                                                  ...    ...   \n",
       "12570  বর্ডারে অনেক লেট হয়ে যাওয়াতে আমরা জিপে করে চ...      1   \n",
       "12571  আমার সোনার বাংলাতে এমন রক্ষক নামের ভক্ষকের কোন...      2   \n",
       "12572  ওনারা এত হাইজিনিক ও এত সুন্দর পরিবেশে রান্না ক...      1   \n",
       "12573  বাংলাদেশ আমরা পুলিশ চাই না এই ধরনে পুলিশ দরকার...      2   \n",
       "12574        বসুন্ধরা শাখার হাজি বিরিয়ানি একবারেই ফালতু      2   \n",
       "\n",
       "                                         Lemmatized_Text  \n",
       "0      মুগ্ধ হয়ে যাওয়া মামু . আর তোমায় কি কমু . বলা...  \n",
       "1      এই কুত্তার বাচ্চা জন্য দেশটা আজ এমন অবস্তায় এ...  \n",
       "2                              ভাই আপনি কথাই যাদু রয়েছে  \n",
       "3                                উওরটা আমি অনেক ভাল লাগা  \n",
       "4      আমি নিজ গাড়ী নিয়ে কি সাজেক যাওয়া পারবো না ? ...  \n",
       "...                                                  ...  \n",
       "12570  বর্ডারে অনেক লেট হয়ে যাওয়াতে আমি জিপে করা চল...  \n",
       "12571  আমি সোনা বাংলাতে এমন রক্ষক নাম ভক্ষকের কোন জায...  \n",
       "12572  ওনারা এত হাইজিনিক ও এত সুন্দর পরিবেশ রান্না কর...  \n",
       "12573  বাংলাদেশ আমি পুলিশ চাওয়া না এই ধরনে পুলিশ দরকা...  \n",
       "12574        বসুন্ধরা শাখার হাজি বিরিয়ানি একবারেই ফালতু  \n",
       "\n",
       "[12575 rows x 3 columns]"
      ]
     },
     "execution_count": 12,
     "metadata": {},
     "output_type": "execute_result"
    }
   ],
   "source": [
    "train_df"
   ]
  },
  {
   "cell_type": "code",
   "execution_count": 13,
   "id": "23421b42",
   "metadata": {
    "execution": {
     "iopub.execute_input": "2023-12-10T04:16:34.195219Z",
     "iopub.status.busy": "2023-12-10T04:16:34.194334Z",
     "iopub.status.idle": "2023-12-10T04:16:34.204066Z",
     "shell.execute_reply": "2023-12-10T04:16:34.203209Z"
    },
    "papermill": {
     "duration": 0.053998,
     "end_time": "2023-12-10T04:16:34.206286",
     "exception": false,
     "start_time": "2023-12-10T04:16:34.152288",
     "status": "completed"
    },
    "tags": []
   },
   "outputs": [
    {
     "name": "stdout",
     "output_type": "stream",
     "text": [
      "361\n"
     ]
    }
   ],
   "source": [
    "longest_string = max(train_df[\"Lemmatized_Text\"], key=len)\n",
    "print(len(longest_string))"
   ]
  },
  {
   "cell_type": "code",
   "execution_count": 14,
   "id": "6b89e2e1",
   "metadata": {
    "execution": {
     "iopub.execute_input": "2023-12-10T04:16:34.289364Z",
     "iopub.status.busy": "2023-12-10T04:16:34.288874Z",
     "iopub.status.idle": "2023-12-10T04:16:34.932051Z",
     "shell.execute_reply": "2023-12-10T04:16:34.930937Z"
    },
    "papermill": {
     "duration": 0.687783,
     "end_time": "2023-12-10T04:16:34.934245",
     "exception": false,
     "start_time": "2023-12-10T04:16:34.246462",
     "status": "completed"
    },
    "tags": []
   },
   "outputs": [
    {
     "name": "stdout",
     "output_type": "stream",
     "text": [
      "Less important words:\n",
      "007            0.000041\n",
      "01614000789    0.000046\n",
      "01618804890    0.000046\n",
      "01625959562    0.000043\n",
      "01681003067    0.000034\n",
      "                 ...   \n",
      "৮৫             0.000028\n",
      "৮৫৭            0.000046\n",
      "৮৭             0.000047\n",
      "৮৯             0.000028\n",
      "৯৬             0.000041\n",
      "Length: 863, dtype: float64\n"
     ]
    }
   ],
   "source": [
    "# Initialize TF-IDF Vectorizer\n",
    "tfidf = TfidfVectorizer()\n",
    "\n",
    "# Fit and transform the text data\n",
    "tfidf_matrix = tfidf.fit_transform(train_df['Lemmatized_Text'])\n",
    "\n",
    "# Get feature names (words)\n",
    "feature_names = tfidf.get_feature_names_out()\n",
    "\n",
    "# Create a DataFrame of TF-IDF scores\n",
    "tfidf_df = pd.DataFrame(tfidf_matrix.toarray(), columns=feature_names)\n",
    "\n",
    "# Find mean TF-IDF score for each word across all documents\n",
    "word_scores = tfidf_df.mean(axis=0)\n",
    "\n",
    "# Set a threshold to identify less important words (adjust threshold as needed)\n",
    "threshold = 0.00005 # For example, you can set a threshold value\n",
    "\n",
    "# Get less important words based on threshold\n",
    "less_important_words = word_scores[word_scores < threshold]\n",
    "\n",
    "# Display words that will be removed\n",
    "print(\"Less important words:\")\n",
    "print(less_important_words)"
   ]
  },
  {
   "cell_type": "code",
   "execution_count": 15,
   "id": "f2b8ddc0",
   "metadata": {
    "execution": {
     "iopub.execute_input": "2023-12-10T04:16:35.023989Z",
     "iopub.status.busy": "2023-12-10T04:16:35.023030Z",
     "iopub.status.idle": "2023-12-10T04:16:39.045016Z",
     "shell.execute_reply": "2023-12-10T04:16:39.044079Z"
    },
    "papermill": {
     "duration": 4.06958,
     "end_time": "2023-12-10T04:16:39.047415",
     "exception": false,
     "start_time": "2023-12-10T04:16:34.977835",
     "status": "completed"
    },
    "tags": []
   },
   "outputs": [],
   "source": [
    "# Initialize tokenizer\n",
    "bnltk = NLTKTokenizer()\n",
    "\n",
    "# Function to remove less important words\n",
    "def remove_less_important_words(text):\n",
    "    words = bnltk.word_tokenize(text)\n",
    "    filtered_words = [word for word in words if word not in less_important_words]\n",
    "    return ' '.join(filtered_words)\n",
    "\n",
    "# Apply the function to 'text' column in the DataFrame\n",
    "train_df['Lemmatized_Text'] = train_df['Lemmatized_Text'].apply(remove_less_important_words)"
   ]
  },
  {
   "cell_type": "code",
   "execution_count": 16,
   "id": "ef8949fc",
   "metadata": {
    "execution": {
     "iopub.execute_input": "2023-12-10T04:16:39.131505Z",
     "iopub.status.busy": "2023-12-10T04:16:39.131135Z",
     "iopub.status.idle": "2023-12-10T04:16:39.139592Z",
     "shell.execute_reply": "2023-12-10T04:16:39.138657Z"
    },
    "papermill": {
     "duration": 0.053263,
     "end_time": "2023-12-10T04:16:39.141745",
     "exception": false,
     "start_time": "2023-12-10T04:16:39.088482",
     "status": "completed"
    },
    "tags": []
   },
   "outputs": [
    {
     "name": "stdout",
     "output_type": "stream",
     "text": [
      "358\n"
     ]
    }
   ],
   "source": [
    "longest_string = max(train_df[\"Lemmatized_Text\"], key=len)\n",
    "print(len(longest_string))"
   ]
  },
  {
   "cell_type": "code",
   "execution_count": 17,
   "id": "59d0d3f7",
   "metadata": {
    "execution": {
     "iopub.execute_input": "2023-12-10T04:16:39.227378Z",
     "iopub.status.busy": "2023-12-10T04:16:39.226600Z",
     "iopub.status.idle": "2023-12-10T04:16:39.236619Z",
     "shell.execute_reply": "2023-12-10T04:16:39.235790Z"
    },
    "papermill": {
     "duration": 0.055607,
     "end_time": "2023-12-10T04:16:39.238555",
     "exception": false,
     "start_time": "2023-12-10T04:16:39.182948",
     "status": "completed"
    },
    "tags": []
   },
   "outputs": [
    {
     "data": {
      "text/plain": [
       "Label\n",
       "1    5133\n",
       "2    4548\n",
       "0    2894\n",
       "Name: count, dtype: int64"
      ]
     },
     "execution_count": 17,
     "metadata": {},
     "output_type": "execute_result"
    }
   ],
   "source": [
    "train_df[\"Label\"].value_counts()"
   ]
  },
  {
   "cell_type": "code",
   "execution_count": 18,
   "id": "d7b2f4e9",
   "metadata": {
    "execution": {
     "iopub.execute_input": "2023-12-10T04:16:39.322908Z",
     "iopub.status.busy": "2023-12-10T04:16:39.322046Z",
     "iopub.status.idle": "2023-12-10T04:16:39.326100Z",
     "shell.execute_reply": "2023-12-10T04:16:39.325256Z"
    },
    "papermill": {
     "duration": 0.0484,
     "end_time": "2023-12-10T04:16:39.328042",
     "exception": false,
     "start_time": "2023-12-10T04:16:39.279642",
     "status": "completed"
    },
    "tags": []
   },
   "outputs": [],
   "source": [
    "##For test dataset"
   ]
  },
  {
   "cell_type": "code",
   "execution_count": 19,
   "id": "332109fd",
   "metadata": {
    "execution": {
     "iopub.execute_input": "2023-12-10T04:16:39.412342Z",
     "iopub.status.busy": "2023-12-10T04:16:39.411434Z",
     "iopub.status.idle": "2023-12-10T04:16:39.437529Z",
     "shell.execute_reply": "2023-12-10T04:16:39.436532Z"
    },
    "papermill": {
     "duration": 0.07068,
     "end_time": "2023-12-10T04:16:39.439679",
     "exception": false,
     "start_time": "2023-12-10T04:16:39.368999",
     "status": "completed"
    },
    "tags": []
   },
   "outputs": [],
   "source": [
    "test_df = pd.read_csv(\"/kaggle/input/sentnob-sentiment-analysis-in-noisy-bangla-texts/SentNoB Dataset/Val.csv\")"
   ]
  },
  {
   "cell_type": "code",
   "execution_count": 20,
   "id": "505b1341",
   "metadata": {
    "execution": {
     "iopub.execute_input": "2023-12-10T04:16:39.524323Z",
     "iopub.status.busy": "2023-12-10T04:16:39.523305Z",
     "iopub.status.idle": "2023-12-10T04:16:39.533426Z",
     "shell.execute_reply": "2023-12-10T04:16:39.532485Z"
    },
    "papermill": {
     "duration": 0.054281,
     "end_time": "2023-12-10T04:16:39.535501",
     "exception": false,
     "start_time": "2023-12-10T04:16:39.481220",
     "status": "completed"
    },
    "tags": []
   },
   "outputs": [
    {
     "data": {
      "text/html": [
       "<div>\n",
       "<style scoped>\n",
       "    .dataframe tbody tr th:only-of-type {\n",
       "        vertical-align: middle;\n",
       "    }\n",
       "\n",
       "    .dataframe tbody tr th {\n",
       "        vertical-align: top;\n",
       "    }\n",
       "\n",
       "    .dataframe thead th {\n",
       "        text-align: right;\n",
       "    }\n",
       "</style>\n",
       "<table border=\"1\" class=\"dataframe\">\n",
       "  <thead>\n",
       "    <tr style=\"text-align: right;\">\n",
       "      <th></th>\n",
       "      <th>Data</th>\n",
       "      <th>Label</th>\n",
       "    </tr>\n",
       "  </thead>\n",
       "  <tbody>\n",
       "    <tr>\n",
       "      <th>0</th>\n",
       "      <td>আর আমার খুবেই আনন্দ লাকছে ভাইটি চাকরি পেয়েছে</td>\n",
       "      <td>1</td>\n",
       "    </tr>\n",
       "    <tr>\n",
       "      <th>1</th>\n",
       "      <td>ভাই আমাদের আগের মেয়র আনিচুল হক নাই যে আমাদের ক...</td>\n",
       "      <td>2</td>\n",
       "    </tr>\n",
       "    <tr>\n",
       "      <th>2</th>\n",
       "      <td>আমি মার্ক ওয়েন আর সনির বিশাল ভক্ত । একটা সময় ভ...</td>\n",
       "      <td>1</td>\n",
       "    </tr>\n",
       "    <tr>\n",
       "      <th>3</th>\n",
       "      <td>৩ মাস না যেতেই একেকজন ফুলে ফেপে আলুর দম</td>\n",
       "      <td>2</td>\n",
       "    </tr>\n",
       "    <tr>\n",
       "      <th>4</th>\n",
       "      <td>বাংলাদেশের পুলিশ হলো নিরীহ মানুষের যম , আর অত্...</td>\n",
       "      <td>2</td>\n",
       "    </tr>\n",
       "  </tbody>\n",
       "</table>\n",
       "</div>"
      ],
      "text/plain": [
       "                                                Data  Label\n",
       "0       আর আমার খুবেই আনন্দ লাকছে ভাইটি চাকরি পেয়েছে      1\n",
       "1  ভাই আমাদের আগের মেয়র আনিচুল হক নাই যে আমাদের ক...      2\n",
       "2  আমি মার্ক ওয়েন আর সনির বিশাল ভক্ত । একটা সময় ভ...      1\n",
       "3            ৩ মাস না যেতেই একেকজন ফুলে ফেপে আলুর দম      2\n",
       "4  বাংলাদেশের পুলিশ হলো নিরীহ মানুষের যম , আর অত্...      2"
      ]
     },
     "execution_count": 20,
     "metadata": {},
     "output_type": "execute_result"
    }
   ],
   "source": [
    "test_df.head()"
   ]
  },
  {
   "cell_type": "code",
   "execution_count": 21,
   "id": "3cfbf9ac",
   "metadata": {
    "execution": {
     "iopub.execute_input": "2023-12-10T04:16:39.625421Z",
     "iopub.status.busy": "2023-12-10T04:16:39.624902Z",
     "iopub.status.idle": "2023-12-10T04:16:39.631114Z",
     "shell.execute_reply": "2023-12-10T04:16:39.630148Z"
    },
    "papermill": {
     "duration": 0.053481,
     "end_time": "2023-12-10T04:16:39.633169",
     "exception": false,
     "start_time": "2023-12-10T04:16:39.579688",
     "status": "completed"
    },
    "tags": []
   },
   "outputs": [],
   "source": [
    "test_df.dropna(inplace=True)"
   ]
  },
  {
   "cell_type": "code",
   "execution_count": 22,
   "id": "8310c444",
   "metadata": {
    "execution": {
     "iopub.execute_input": "2023-12-10T04:16:39.721942Z",
     "iopub.status.busy": "2023-12-10T04:16:39.721559Z",
     "iopub.status.idle": "2023-12-10T04:16:39.727615Z",
     "shell.execute_reply": "2023-12-10T04:16:39.726696Z"
    },
    "papermill": {
     "duration": 0.052471,
     "end_time": "2023-12-10T04:16:39.729705",
     "exception": false,
     "start_time": "2023-12-10T04:16:39.677234",
     "status": "completed"
    },
    "tags": []
   },
   "outputs": [
    {
     "name": "stdout",
     "output_type": "stream",
     "text": [
      "288\n"
     ]
    }
   ],
   "source": [
    "longest_string = max(test_df[\"Data\"], key=len)\n",
    "print(len(longest_string))"
   ]
  },
  {
   "cell_type": "code",
   "execution_count": 23,
   "id": "a329a935",
   "metadata": {
    "execution": {
     "iopub.execute_input": "2023-12-10T04:16:39.814575Z",
     "iopub.status.busy": "2023-12-10T04:16:39.813925Z",
     "iopub.status.idle": "2023-12-10T04:16:40.160300Z",
     "shell.execute_reply": "2023-12-10T04:16:40.159449Z"
    },
    "papermill": {
     "duration": 0.391325,
     "end_time": "2023-12-10T04:16:40.162577",
     "exception": false,
     "start_time": "2023-12-10T04:16:39.771252",
     "status": "completed"
    },
    "tags": []
   },
   "outputs": [],
   "source": [
    "clean_text = CleanText(\n",
    "   fix_unicode=True,\n",
    "   unicode_norm=True,\n",
    "   unicode_norm_form=\"NFKC\",\n",
    "   remove_url=False,\n",
    "   remove_email=False,\n",
    "   remove_emoji=False,\n",
    "   remove_number=False,\n",
    "   remove_digits=False,\n",
    "   remove_punct=False,\n",
    "   replace_with_url=\"<URL>\",\n",
    "   replace_with_email=\"<EMAIL>\",\n",
    "   replace_with_number=\"<NUMBER>\",\n",
    "   replace_with_digit=\"<DIGIT>\",\n",
    "   replace_with_punct = \"<PUNC>\"\n",
    ")\n",
    "\n",
    "test_df['Data'] = test_df['Data'].apply(clean_text)"
   ]
  },
  {
   "cell_type": "code",
   "execution_count": 24,
   "id": "fa511a9e",
   "metadata": {
    "execution": {
     "iopub.execute_input": "2023-12-10T04:16:40.248615Z",
     "iopub.status.busy": "2023-12-10T04:16:40.247774Z",
     "iopub.status.idle": "2023-12-10T04:16:40.253951Z",
     "shell.execute_reply": "2023-12-10T04:16:40.252996Z"
    },
    "papermill": {
     "duration": 0.051801,
     "end_time": "2023-12-10T04:16:40.255879",
     "exception": false,
     "start_time": "2023-12-10T04:16:40.204078",
     "status": "completed"
    },
    "tags": []
   },
   "outputs": [
    {
     "name": "stdout",
     "output_type": "stream",
     "text": [
      "292\n"
     ]
    }
   ],
   "source": [
    "longest_string = max(test_df[\"Data\"], key=len)\n",
    "print(len(longest_string))"
   ]
  },
  {
   "cell_type": "code",
   "execution_count": 25,
   "id": "0ea54661",
   "metadata": {
    "execution": {
     "iopub.execute_input": "2023-12-10T04:16:40.341042Z",
     "iopub.status.busy": "2023-12-10T04:16:40.340670Z",
     "iopub.status.idle": "2023-12-10T04:16:40.345246Z",
     "shell.execute_reply": "2023-12-10T04:16:40.344321Z"
    },
    "papermill": {
     "duration": 0.049378,
     "end_time": "2023-12-10T04:16:40.347175",
     "exception": false,
     "start_time": "2023-12-10T04:16:40.297797",
     "status": "completed"
    },
    "tags": []
   },
   "outputs": [],
   "source": [
    "def create_lemma(text):\n",
    "     return \" \".join(text)"
   ]
  },
  {
   "cell_type": "code",
   "execution_count": 26,
   "id": "099cccbc",
   "metadata": {
    "execution": {
     "iopub.execute_input": "2023-12-10T04:16:40.431312Z",
     "iopub.status.busy": "2023-12-10T04:16:40.430929Z",
     "iopub.status.idle": "2023-12-10T04:16:50.291129Z",
     "shell.execute_reply": "2023-12-10T04:16:50.290168Z"
    },
    "papermill": {
     "duration": 9.905107,
     "end_time": "2023-12-10T04:16:50.293515",
     "exception": false,
     "start_time": "2023-12-10T04:16:40.388408",
     "status": "completed"
    },
    "tags": []
   },
   "outputs": [
    {
     "name": "stdout",
     "output_type": "stream",
     "text": [
      "Warning::Spark Session already created, some configs may not take.\n",
      "Warning::Spark Session already created, some configs may not take.\n",
      "lemma download started this may take some time.\n",
      "Approximate size to download 90.6 KB\n",
      "[OK!]\n",
      "Warning::Spark Session already created, some configs may not take.\n"
     ]
    },
    {
     "name": "stderr",
     "output_type": "stream",
     "text": [
      "                                                                                \r"
     ]
    },
    {
     "data": {
      "text/html": [
       "<div>\n",
       "<style scoped>\n",
       "    .dataframe tbody tr th:only-of-type {\n",
       "        vertical-align: middle;\n",
       "    }\n",
       "\n",
       "    .dataframe tbody tr th {\n",
       "        vertical-align: top;\n",
       "    }\n",
       "\n",
       "    .dataframe thead th {\n",
       "        text-align: right;\n",
       "    }\n",
       "</style>\n",
       "<table border=\"1\" class=\"dataframe\">\n",
       "  <thead>\n",
       "    <tr style=\"text-align: right;\">\n",
       "      <th></th>\n",
       "      <th>document</th>\n",
       "      <th>lem</th>\n",
       "    </tr>\n",
       "  </thead>\n",
       "  <tbody>\n",
       "    <tr>\n",
       "      <th>0</th>\n",
       "      <td>আর আমার খুবেই আনন্দ লাকছে ভাইটি চাকরি পেয়েছে</td>\n",
       "      <td>[আর, আমি, খুবেই, আনন্দ, লাকছে, ভাইটি, চাকরি, প...</td>\n",
       "    </tr>\n",
       "    <tr>\n",
       "      <th>1</th>\n",
       "      <td>ভাই আমাদের আগের মেয়র আনিচুল হক নাই যে আমাদের ...</td>\n",
       "      <td>[ভাই, আমি, আগ, মেয়র, আনিচুল, হক, না, যে, আমি,...</td>\n",
       "    </tr>\n",
       "    <tr>\n",
       "      <th>2</th>\n",
       "      <td>আমি মার্ক ওয়েন আর সনির বিশাল ভক্ত । একটা সময়...</td>\n",
       "      <td>[আমি, মার্ক, ওয়েন, আর, সনির, বিশাল, ভক্ত, ।, ...</td>\n",
       "    </tr>\n",
       "    <tr>\n",
       "      <th>3</th>\n",
       "      <td>৩ মাস না যেতেই একেকজন ফুলে ফেপে আলুর দম</td>\n",
       "      <td>[৩, মাস, না, যাওয়া, একেকজন, ফুলে, ফেপে, আলু, দম]</td>\n",
       "    </tr>\n",
       "    <tr>\n",
       "      <th>4</th>\n",
       "      <td>বাংলাদেশের পুলিশ হলো নিরীহ মানুষের যম , আর অত্...</td>\n",
       "      <td>[বাংলাদেশের, পুলিশ, হলো, নিরীহ, মানুষ, যম, ,, ...</td>\n",
       "    </tr>\n",
       "    <tr>\n",
       "      <th>...</th>\n",
       "      <td>...</td>\n",
       "      <td>...</td>\n",
       "    </tr>\n",
       "    <tr>\n",
       "      <th>1562</th>\n",
       "      <td>আর বিচার হবে বলে মনে হয় না</td>\n",
       "      <td>[আর, বিচার, হওয়া, বলে, মন, হয়, না]</td>\n",
       "    </tr>\n",
       "    <tr>\n",
       "      <th>1563</th>\n",
       "      <td>ভাই রাতে গেলে পাবেন , ০১৮৬২২৮৪৪৯৫ অথবা ০১৮৬২৮০...</td>\n",
       "      <td>[ভাই, রাত, যাওয়া, পাওয়া, ,, ০১৮৬২২৮৪৪৯৫, অথবা,...</td>\n",
       "    </tr>\n",
       "    <tr>\n",
       "      <th>1564</th>\n",
       "      <td>আমাকে যে দিন ( যেই তারিখ এ ) ডক্টর এ্যাপয়েনমে...</td>\n",
       "      <td>[আমি, যে, দেওয়া, (, যে, তারিখ, এ, ), ডক্টর, এ্...</td>\n",
       "    </tr>\n",
       "    <tr>\n",
       "      <th>1565</th>\n",
       "      <td>আরে ভাই এখান থেকে তো রাজনীতি করে বড় হচ্ছে আর ...</td>\n",
       "      <td>[আরে, ভাই, এখান, থেকে, তো, রাজনীতি, করা, বড়, ...</td>\n",
       "    </tr>\n",
       "    <tr>\n",
       "      <th>1566</th>\n",
       "      <td>কেননা আপনার আরেকটা প্রশ্ন ছিক , যে ড্রেস ছেলেদ...</td>\n",
       "      <td>[কেননা, আপনি, আরেকটা, প্রশ্ন, ছিক, ,, যে, ড্রে...</td>\n",
       "    </tr>\n",
       "  </tbody>\n",
       "</table>\n",
       "<p>1567 rows × 2 columns</p>\n",
       "</div>"
      ],
      "text/plain": [
       "                                               document  \\\n",
       "0         আর আমার খুবেই আনন্দ লাকছে ভাইটি চাকরি পেয়েছে   \n",
       "1     ভাই আমাদের আগের মেয়র আনিচুল হক নাই যে আমাদের ...   \n",
       "2     আমি মার্ক ওয়েন আর সনির বিশাল ভক্ত । একটা সময়...   \n",
       "3               ৩ মাস না যেতেই একেকজন ফুলে ফেপে আলুর দম   \n",
       "4     বাংলাদেশের পুলিশ হলো নিরীহ মানুষের যম , আর অত্...   \n",
       "...                                                 ...   \n",
       "1562                        আর বিচার হবে বলে মনে হয় না   \n",
       "1563  ভাই রাতে গেলে পাবেন , ০১৮৬২২৮৪৪৯৫ অথবা ০১৮৬২৮০...   \n",
       "1564  আমাকে যে দিন ( যেই তারিখ এ ) ডক্টর এ্যাপয়েনমে...   \n",
       "1565  আরে ভাই এখান থেকে তো রাজনীতি করে বড় হচ্ছে আর ...   \n",
       "1566  কেননা আপনার আরেকটা প্রশ্ন ছিক , যে ড্রেস ছেলেদ...   \n",
       "\n",
       "                                                    lem  \n",
       "0     [আর, আমি, খুবেই, আনন্দ, লাকছে, ভাইটি, চাকরি, প...  \n",
       "1     [ভাই, আমি, আগ, মেয়র, আনিচুল, হক, না, যে, আমি,...  \n",
       "2     [আমি, মার্ক, ওয়েন, আর, সনির, বিশাল, ভক্ত, ।, ...  \n",
       "3      [৩, মাস, না, যাওয়া, একেকজন, ফুলে, ফেপে, আলু, দম]  \n",
       "4     [বাংলাদেশের, পুলিশ, হলো, নিরীহ, মানুষ, যম, ,, ...  \n",
       "...                                                 ...  \n",
       "1562                [আর, বিচার, হওয়া, বলে, মন, হয়, না]  \n",
       "1563  [ভাই, রাত, যাওয়া, পাওয়া, ,, ০১৮৬২২৮৪৪৯৫, অথবা,...  \n",
       "1564  [আমি, যে, দেওয়া, (, যে, তারিখ, এ, ), ডক্টর, এ্...  \n",
       "1565  [আরে, ভাই, এখান, থেকে, তো, রাজনীতি, করা, বড়, ...  \n",
       "1566  [কেননা, আপনি, আরেকটা, প্রশ্ন, ছিক, ,, যে, ড্রে...  \n",
       "\n",
       "[1567 rows x 2 columns]"
      ]
     },
     "execution_count": 26,
     "metadata": {},
     "output_type": "execute_result"
    }
   ],
   "source": [
    "text_list = test_df[\"Data\"].tolist()\n",
    "lemmatized_result = nlu.load('bn.lemma').predict(text_list, output_level = \"document\")\n",
    "lemmatized_result"
   ]
  },
  {
   "cell_type": "code",
   "execution_count": 27,
   "id": "5c417400",
   "metadata": {
    "execution": {
     "iopub.execute_input": "2023-12-10T04:16:50.382658Z",
     "iopub.status.busy": "2023-12-10T04:16:50.381760Z",
     "iopub.status.idle": "2023-12-10T04:16:50.393904Z",
     "shell.execute_reply": "2023-12-10T04:16:50.392838Z"
    },
    "papermill": {
     "duration": 0.059031,
     "end_time": "2023-12-10T04:16:50.396357",
     "exception": false,
     "start_time": "2023-12-10T04:16:50.337326",
     "status": "completed"
    },
    "tags": []
   },
   "outputs": [],
   "source": [
    "# Extracting lemmatized text from the results\n",
    "lemmatized_text_list = lemmatized_result['lem']\n",
    "\n",
    "# Adding lemmatized text as a new column to train_df\n",
    "test_df['Lemmatized_Text'] = lemmatized_text_list\n",
    "\n",
    "test_df['Lemmatized_Text']=test_df['Lemmatized_Text'].apply(create_lemma)"
   ]
  },
  {
   "cell_type": "code",
   "execution_count": 28,
   "id": "24621a36",
   "metadata": {
    "execution": {
     "iopub.execute_input": "2023-12-10T04:16:50.491027Z",
     "iopub.status.busy": "2023-12-10T04:16:50.490647Z",
     "iopub.status.idle": "2023-12-10T04:16:50.504667Z",
     "shell.execute_reply": "2023-12-10T04:16:50.503563Z"
    },
    "papermill": {
     "duration": 0.061835,
     "end_time": "2023-12-10T04:16:50.506996",
     "exception": false,
     "start_time": "2023-12-10T04:16:50.445161",
     "status": "completed"
    },
    "tags": []
   },
   "outputs": [
    {
     "data": {
      "text/html": [
       "<div>\n",
       "<style scoped>\n",
       "    .dataframe tbody tr th:only-of-type {\n",
       "        vertical-align: middle;\n",
       "    }\n",
       "\n",
       "    .dataframe tbody tr th {\n",
       "        vertical-align: top;\n",
       "    }\n",
       "\n",
       "    .dataframe thead th {\n",
       "        text-align: right;\n",
       "    }\n",
       "</style>\n",
       "<table border=\"1\" class=\"dataframe\">\n",
       "  <thead>\n",
       "    <tr style=\"text-align: right;\">\n",
       "      <th></th>\n",
       "      <th>Data</th>\n",
       "      <th>Label</th>\n",
       "      <th>Lemmatized_Text</th>\n",
       "    </tr>\n",
       "  </thead>\n",
       "  <tbody>\n",
       "    <tr>\n",
       "      <th>0</th>\n",
       "      <td>আর আমার খুবেই আনন্দ লাকছে ভাইটি চাকরি পেয়েছে</td>\n",
       "      <td>1</td>\n",
       "      <td>আর আমি খুবেই আনন্দ লাকছে ভাইটি চাকরি পেয়েছে</td>\n",
       "    </tr>\n",
       "    <tr>\n",
       "      <th>1</th>\n",
       "      <td>ভাই আমাদের আগের মেয়র আনিচুল হক নাই যে আমাদের ...</td>\n",
       "      <td>2</td>\n",
       "      <td>ভাই আমি আগ মেয়র আনিচুল হক না যে আমি কে সুখ সা...</td>\n",
       "    </tr>\n",
       "    <tr>\n",
       "      <th>2</th>\n",
       "      <td>আমি মার্ক ওয়েন আর সনির বিশাল ভক্ত । একটা সময়...</td>\n",
       "      <td>1</td>\n",
       "      <td>আমি মার্ক ওয়েন আর সনির বিশাল ভক্ত । এক সময় ভ...</td>\n",
       "    </tr>\n",
       "    <tr>\n",
       "      <th>3</th>\n",
       "      <td>৩ মাস না যেতেই একেকজন ফুলে ফেপে আলুর দম</td>\n",
       "      <td>2</td>\n",
       "      <td>৩ মাস না যাওয়া একেকজন ফুলে ফেপে আলু দম</td>\n",
       "    </tr>\n",
       "    <tr>\n",
       "      <th>4</th>\n",
       "      <td>বাংলাদেশের পুলিশ হলো নিরীহ মানুষের যম , আর অত্...</td>\n",
       "      <td>2</td>\n",
       "      <td>বাংলাদেশের পুলিশ হলো নিরীহ মানুষ যম , আর অত্চা...</td>\n",
       "    </tr>\n",
       "    <tr>\n",
       "      <th>...</th>\n",
       "      <td>...</td>\n",
       "      <td>...</td>\n",
       "      <td>...</td>\n",
       "    </tr>\n",
       "    <tr>\n",
       "      <th>1562</th>\n",
       "      <td>আর বিচার হবে বলে মনে হয় না</td>\n",
       "      <td>2</td>\n",
       "      <td>আর বিচার হওয়া বলে মন হয় না</td>\n",
       "    </tr>\n",
       "    <tr>\n",
       "      <th>1563</th>\n",
       "      <td>ভাই রাতে গেলে পাবেন , ০১৮৬২২৮৪৪৯৫ অথবা ০১৮৬২৮০...</td>\n",
       "      <td>1</td>\n",
       "      <td>ভাই রাত যাওয়া পাওয়া , ০১৮৬২২৮৪৪৯৫ অথবা ০১৮৬২৮০...</td>\n",
       "    </tr>\n",
       "    <tr>\n",
       "      <th>1564</th>\n",
       "      <td>আমাকে যে দিন ( যেই তারিখ এ ) ডক্টর এ্যাপয়েনমে...</td>\n",
       "      <td>1</td>\n",
       "      <td>আমি যে দেওয়া ( যে তারিখ এ ) ডক্টর এ্যাপয়েনমেন...</td>\n",
       "    </tr>\n",
       "    <tr>\n",
       "      <th>1565</th>\n",
       "      <td>আরে ভাই এখান থেকে তো রাজনীতি করে বড় হচ্ছে আর ...</td>\n",
       "      <td>2</td>\n",
       "      <td>আরে ভাই এখান থেকে তো রাজনীতি করা বড় হওয়া আর য...</td>\n",
       "    </tr>\n",
       "    <tr>\n",
       "      <th>1566</th>\n",
       "      <td>কেননা আপনার আরেকটা প্রশ্ন ছিক , যে ড্রেস ছেলেদ...</td>\n",
       "      <td>0</td>\n",
       "      <td>কেননা আপনি আরেকটা প্রশ্ন ছিক , যে ড্রেস ছেলেদে...</td>\n",
       "    </tr>\n",
       "  </tbody>\n",
       "</table>\n",
       "<p>1567 rows × 3 columns</p>\n",
       "</div>"
      ],
      "text/plain": [
       "                                                   Data  Label  \\\n",
       "0         আর আমার খুবেই আনন্দ লাকছে ভাইটি চাকরি পেয়েছে      1   \n",
       "1     ভাই আমাদের আগের মেয়র আনিচুল হক নাই যে আমাদের ...      2   \n",
       "2     আমি মার্ক ওয়েন আর সনির বিশাল ভক্ত । একটা সময়...      1   \n",
       "3               ৩ মাস না যেতেই একেকজন ফুলে ফেপে আলুর দম      2   \n",
       "4     বাংলাদেশের পুলিশ হলো নিরীহ মানুষের যম , আর অত্...      2   \n",
       "...                                                 ...    ...   \n",
       "1562                        আর বিচার হবে বলে মনে হয় না      2   \n",
       "1563  ভাই রাতে গেলে পাবেন , ০১৮৬২২৮৪৪৯৫ অথবা ০১৮৬২৮০...      1   \n",
       "1564  আমাকে যে দিন ( যেই তারিখ এ ) ডক্টর এ্যাপয়েনমে...      1   \n",
       "1565  আরে ভাই এখান থেকে তো রাজনীতি করে বড় হচ্ছে আর ...      2   \n",
       "1566  কেননা আপনার আরেকটা প্রশ্ন ছিক , যে ড্রেস ছেলেদ...      0   \n",
       "\n",
       "                                        Lemmatized_Text  \n",
       "0          আর আমি খুবেই আনন্দ লাকছে ভাইটি চাকরি পেয়েছে  \n",
       "1     ভাই আমি আগ মেয়র আনিচুল হক না যে আমি কে সুখ সা...  \n",
       "2     আমি মার্ক ওয়েন আর সনির বিশাল ভক্ত । এক সময় ভ...  \n",
       "3                ৩ মাস না যাওয়া একেকজন ফুলে ফেপে আলু দম  \n",
       "4     বাংলাদেশের পুলিশ হলো নিরীহ মানুষ যম , আর অত্চা...  \n",
       "...                                                 ...  \n",
       "1562                        আর বিচার হওয়া বলে মন হয় না  \n",
       "1563  ভাই রাত যাওয়া পাওয়া , ০১৮৬২২৮৪৪৯৫ অথবা ০১৮৬২৮০...  \n",
       "1564  আমি যে দেওয়া ( যে তারিখ এ ) ডক্টর এ্যাপয়েনমেন...  \n",
       "1565  আরে ভাই এখান থেকে তো রাজনীতি করা বড় হওয়া আর য...  \n",
       "1566  কেননা আপনি আরেকটা প্রশ্ন ছিক , যে ড্রেস ছেলেদে...  \n",
       "\n",
       "[1567 rows x 3 columns]"
      ]
     },
     "execution_count": 28,
     "metadata": {},
     "output_type": "execute_result"
    }
   ],
   "source": [
    "test_df"
   ]
  },
  {
   "cell_type": "code",
   "execution_count": 29,
   "id": "adb8b165",
   "metadata": {
    "execution": {
     "iopub.execute_input": "2023-12-10T04:16:50.608726Z",
     "iopub.status.busy": "2023-12-10T04:16:50.607716Z",
     "iopub.status.idle": "2023-12-10T04:16:50.614171Z",
     "shell.execute_reply": "2023-12-10T04:16:50.613171Z"
    },
    "papermill": {
     "duration": 0.058911,
     "end_time": "2023-12-10T04:16:50.616208",
     "exception": false,
     "start_time": "2023-12-10T04:16:50.557297",
     "status": "completed"
    },
    "tags": []
   },
   "outputs": [
    {
     "name": "stdout",
     "output_type": "stream",
     "text": [
      "293\n"
     ]
    }
   ],
   "source": [
    "longest_string = max(test_df[\"Lemmatized_Text\"], key=len)\n",
    "print(len(longest_string))"
   ]
  },
  {
   "cell_type": "code",
   "execution_count": 30,
   "id": "8f1c96e5",
   "metadata": {
    "execution": {
     "iopub.execute_input": "2023-12-10T04:16:50.705473Z",
     "iopub.status.busy": "2023-12-10T04:16:50.705067Z",
     "iopub.status.idle": "2023-12-10T04:16:50.795748Z",
     "shell.execute_reply": "2023-12-10T04:16:50.794670Z"
    },
    "papermill": {
     "duration": 0.138505,
     "end_time": "2023-12-10T04:16:50.798315",
     "exception": false,
     "start_time": "2023-12-10T04:16:50.659810",
     "status": "completed"
    },
    "tags": []
   },
   "outputs": [
    {
     "name": "stdout",
     "output_type": "stream",
     "text": [
      "Less important words:\n",
      "Series([], dtype: float64)\n"
     ]
    }
   ],
   "source": [
    "# Initialize TF-IDF Vectorizer\n",
    "tfidf = TfidfVectorizer()\n",
    "\n",
    "# Fit and transform the text data\n",
    "tfidf_matrix = tfidf.fit_transform(test_df['Lemmatized_Text'])\n",
    "\n",
    "# Get feature names (words)\n",
    "feature_names = tfidf.get_feature_names_out()\n",
    "\n",
    "# Create a DataFrame of TF-IDF scores\n",
    "tfidf_df = pd.DataFrame(tfidf_matrix.toarray(), columns=feature_names)\n",
    "\n",
    "# Find mean TF-IDF score for each word across all documents\n",
    "word_scores = tfidf_df.mean(axis=0)\n",
    "\n",
    "# Set a threshold to identify less important words (adjust threshold as needed)\n",
    "threshold = 0.00005 # For example, you can set a threshold value\n",
    "\n",
    "# Get less important words based on threshold\n",
    "less_important_words = word_scores[word_scores < threshold]\n",
    "\n",
    "# Display words that will be removed\n",
    "print(\"Less important words:\")\n",
    "print(less_important_words)"
   ]
  },
  {
   "cell_type": "code",
   "execution_count": 31,
   "id": "957437ff",
   "metadata": {
    "execution": {
     "iopub.execute_input": "2023-12-10T04:16:50.891907Z",
     "iopub.status.busy": "2023-12-10T04:16:50.891528Z",
     "iopub.status.idle": "2023-12-10T04:16:51.405584Z",
     "shell.execute_reply": "2023-12-10T04:16:51.404566Z"
    },
    "papermill": {
     "duration": 0.562023,
     "end_time": "2023-12-10T04:16:51.407982",
     "exception": false,
     "start_time": "2023-12-10T04:16:50.845959",
     "status": "completed"
    },
    "tags": []
   },
   "outputs": [],
   "source": [
    "# Initialize tokenizer\n",
    "bnltk = NLTKTokenizer()\n",
    "\n",
    "# Function to remove less important words\n",
    "def remove_less_important_words(text):\n",
    "    words = bnltk.word_tokenize(text)\n",
    "    filtered_words = [word for word in words if word not in less_important_words]\n",
    "    return ' '.join(filtered_words)\n",
    "\n",
    "# Apply the function to 'text' column in the DataFrame\n",
    "test_df['Lemmatized_Text'] = test_df['Lemmatized_Text'].apply(remove_less_important_words)"
   ]
  },
  {
   "cell_type": "code",
   "execution_count": 32,
   "id": "b2cb34a2",
   "metadata": {
    "execution": {
     "iopub.execute_input": "2023-12-10T04:16:51.496284Z",
     "iopub.status.busy": "2023-12-10T04:16:51.495889Z",
     "iopub.status.idle": "2023-12-10T04:16:51.502002Z",
     "shell.execute_reply": "2023-12-10T04:16:51.501138Z"
    },
    "papermill": {
     "duration": 0.053404,
     "end_time": "2023-12-10T04:16:51.504203",
     "exception": false,
     "start_time": "2023-12-10T04:16:51.450799",
     "status": "completed"
    },
    "tags": []
   },
   "outputs": [
    {
     "name": "stdout",
     "output_type": "stream",
     "text": [
      "295\n"
     ]
    }
   ],
   "source": [
    "longest_string = max(test_df[\"Lemmatized_Text\"], key=len)\n",
    "print(len(longest_string))"
   ]
  },
  {
   "cell_type": "code",
   "execution_count": 33,
   "id": "e7019b10",
   "metadata": {
    "execution": {
     "iopub.execute_input": "2023-12-10T04:16:51.593191Z",
     "iopub.status.busy": "2023-12-10T04:16:51.592259Z",
     "iopub.status.idle": "2023-12-10T04:16:51.600001Z",
     "shell.execute_reply": "2023-12-10T04:16:51.599068Z"
    },
    "papermill": {
     "duration": 0.054421,
     "end_time": "2023-12-10T04:16:51.601992",
     "exception": false,
     "start_time": "2023-12-10T04:16:51.547571",
     "status": "completed"
    },
    "tags": []
   },
   "outputs": [
    {
     "data": {
      "text/plain": [
       "Label\n",
       "1    623\n",
       "2    590\n",
       "0    354\n",
       "Name: count, dtype: int64"
      ]
     },
     "execution_count": 33,
     "metadata": {},
     "output_type": "execute_result"
    }
   ],
   "source": [
    "test_df[\"Label\"].value_counts()"
   ]
  },
  {
   "cell_type": "code",
   "execution_count": 34,
   "id": "f22436f4",
   "metadata": {
    "execution": {
     "iopub.execute_input": "2023-12-10T04:16:51.689803Z",
     "iopub.status.busy": "2023-12-10T04:16:51.689415Z",
     "iopub.status.idle": "2023-12-10T04:16:51.693584Z",
     "shell.execute_reply": "2023-12-10T04:16:51.692681Z"
    },
    "papermill": {
     "duration": 0.050684,
     "end_time": "2023-12-10T04:16:51.695543",
     "exception": false,
     "start_time": "2023-12-10T04:16:51.644859",
     "status": "completed"
    },
    "tags": []
   },
   "outputs": [],
   "source": [
    "#Stops word removal"
   ]
  },
  {
   "cell_type": "code",
   "execution_count": 35,
   "id": "1f95f016",
   "metadata": {
    "execution": {
     "iopub.execute_input": "2023-12-10T04:16:51.786251Z",
     "iopub.status.busy": "2023-12-10T04:16:51.785840Z",
     "iopub.status.idle": "2023-12-10T04:16:51.795285Z",
     "shell.execute_reply": "2023-12-10T04:16:51.794324Z"
    },
    "papermill": {
     "duration": 0.057155,
     "end_time": "2023-12-10T04:16:51.797347",
     "exception": false,
     "start_time": "2023-12-10T04:16:51.740192",
     "status": "completed"
    },
    "tags": []
   },
   "outputs": [],
   "source": [
    "stop_words={'অতএব',\n",
    " 'অথচ',\n",
    "  'অবধি',\n",
    " 'অর্থাত',\n",
    " 'আই',\n",
    " 'আর',\n",
    " 'আরও',\n",
    " 'ই',\n",
    " 'ইহা',\n",
    "  'এ',\n",
    " 'এই',\n",
    " 'একই',\n",
    " 'একে',\n",
    " 'এটা',\n",
    " 'এটাই',\n",
    "  'এত',\n",
    "  'এতে',\n",
    "  'এব',\n",
    " 'এর',\n",
    " 'এস',\n",
    " 'ঐ',\n",
    " 'ও',\n",
    " 'ওঁর',\n",
    " 'ওঁরা',\n",
    " 'ওই',\n",
    " 'ওকে',\n",
    "  'ওর',\n",
    " 'ওরা',\n",
    " 'কমনে',\n",
    "  'করা',\n",
    " 'করাই',\n",
    " 'করায়',\n",
    " 'করিয়ে',\n",
    " 'করেই',\n",
    " 'কাছ',\n",
    " 'কারও',\n",
    " 'কি',\n",
    " 'কিংবা',\n",
    "  'কী',\n",
    " 'কে',\n",
    " 'কেউ',\n",
    " 'কেউই',\n",
    " 'কেখা',\n",
    " 'ছাড়াও',\n",
    " 'জন্যওজে',\n",
    " 'জানিয়েছে',\n",
    " 'জে',\n",
    " 'জ্নজন',\n",
    " 'টি',\n",
    " 'তত',\n",
    " 'তা',\n",
    " 'তাঁাহারা',\n",
    " 'তাই',\n",
    " 'তাও',\n",
    " 'তাতে',\n",
    " 'তারৈ',\n",
    " 'তাহা',\n",
    " 'তাহাতে',\n",
    " 'তিনঐ',\n",
    " 'তুলে',\n",
    " 'তো',\n",
    " 'দু',\n",
    " 'ধামার',\n",
    " 'পরেই',\n",
    " 'পাচ',\n",
    " 'পি',\n",
    " 'পেয়্র্',\n",
    " 'প্রযন্ত',\n",
    " 'ফের',\n",
    " 'বরং',\n",
    " 'বহু',\n",
    " 'বা',\n",
    " 'বি',\n",
    " 'মোটেই',\n",
    " 'যা',\n",
    " 'যে',\n",
    " 'র',\n",
    " 'সহ',\n",
    " 'সহিত',\n",
    " 'সি',\n",
    " 'সে',\n",
    " 'সেই',\n",
    " 'সেটাই',\n",
    " 'স্বয়ং',\n",
    " 'হত',\n",
    " 'হতেই',\n",
    " 'হন',\n",
    "  'হয়েই',\n",
    " 'হলেই',\n",
    " 'হৈলে'}"
   ]
  },
  {
   "cell_type": "code",
   "execution_count": 36,
   "id": "fd1a919c",
   "metadata": {
    "execution": {
     "iopub.execute_input": "2023-12-10T04:16:51.884311Z",
     "iopub.status.busy": "2023-12-10T04:16:51.883872Z",
     "iopub.status.idle": "2023-12-10T04:17:00.782975Z",
     "shell.execute_reply": "2023-12-10T04:17:00.782150Z"
    },
    "papermill": {
     "duration": 8.944809,
     "end_time": "2023-12-10T04:17:00.785058",
     "exception": false,
     "start_time": "2023-12-10T04:16:51.840249",
     "status": "completed"
    },
    "tags": []
   },
   "outputs": [],
   "source": [
    "#Tokenizer\n",
    "from bnlp import NLTKTokenizer\n",
    "bnltk = NLTKTokenizer()\n",
    "\n",
    "#for Train Set\n",
    "for i in range(0,train_df.shape[0]):\n",
    "    text = bnltk.word_tokenize(train_df['Lemmatized_Text'][i])\n",
    "    train_df['Lemmatized_Text'][i] = text\n",
    "#For Test Set   \n",
    "for i in range(0,test_df.shape[0]):\n",
    "    text = bnltk.word_tokenize(test_df['Lemmatized_Text'][i])\n",
    "    test_df['Lemmatized_Text'][i] = text"
   ]
  },
  {
   "cell_type": "code",
   "execution_count": 37,
   "id": "9fcabfac",
   "metadata": {
    "execution": {
     "iopub.execute_input": "2023-12-10T04:17:00.874009Z",
     "iopub.status.busy": "2023-12-10T04:17:00.873599Z",
     "iopub.status.idle": "2023-12-10T04:17:04.403963Z",
     "shell.execute_reply": "2023-12-10T04:17:04.403001Z"
    },
    "papermill": {
     "duration": 3.577428,
     "end_time": "2023-12-10T04:17:04.406441",
     "exception": false,
     "start_time": "2023-12-10T04:17:00.829013",
     "status": "completed"
    },
    "tags": []
   },
   "outputs": [],
   "source": [
    "for i in range(0,train_df.shape[0]):\n",
    "    words = train_df['Lemmatized_Text'][i]\n",
    "    train_df['Lemmatized_Text'][i] =  ([word for word in words if word.lower() not in stop_words])"
   ]
  },
  {
   "cell_type": "code",
   "execution_count": 38,
   "id": "cfb59e33",
   "metadata": {
    "execution": {
     "iopub.execute_input": "2023-12-10T04:17:04.495927Z",
     "iopub.status.busy": "2023-12-10T04:17:04.495025Z",
     "iopub.status.idle": "2023-12-10T04:17:04.952755Z",
     "shell.execute_reply": "2023-12-10T04:17:04.951851Z"
    },
    "papermill": {
     "duration": 0.50521,
     "end_time": "2023-12-10T04:17:04.954593",
     "exception": false,
     "start_time": "2023-12-10T04:17:04.449383",
     "status": "completed"
    },
    "tags": []
   },
   "outputs": [],
   "source": [
    "for i in range(0,test_df.shape[0]):\n",
    "    words = test_df['Lemmatized_Text'][i]\n",
    "    test_df['Lemmatized_Text'][i] =  ([word for word in words if word.lower() not in stop_words])"
   ]
  },
  {
   "cell_type": "code",
   "execution_count": 39,
   "id": "f24a1aa4",
   "metadata": {
    "execution": {
     "iopub.execute_input": "2023-12-10T04:17:05.044387Z",
     "iopub.status.busy": "2023-12-10T04:17:05.043995Z",
     "iopub.status.idle": "2023-12-10T04:17:05.048419Z",
     "shell.execute_reply": "2023-12-10T04:17:05.047548Z"
    },
    "papermill": {
     "duration": 0.051809,
     "end_time": "2023-12-10T04:17:05.050255",
     "exception": false,
     "start_time": "2023-12-10T04:17:04.998446",
     "status": "completed"
    },
    "tags": []
   },
   "outputs": [],
   "source": [
    "def rejoin_text(text):\n",
    "     return \" \".join(text)"
   ]
  },
  {
   "cell_type": "code",
   "execution_count": 40,
   "id": "2a81242d",
   "metadata": {
    "execution": {
     "iopub.execute_input": "2023-12-10T04:17:05.137777Z",
     "iopub.status.busy": "2023-12-10T04:17:05.137394Z",
     "iopub.status.idle": "2023-12-10T04:17:09.077590Z",
     "shell.execute_reply": "2023-12-10T04:17:09.076415Z"
    },
    "papermill": {
     "duration": 3.986811,
     "end_time": "2023-12-10T04:17:09.080200",
     "exception": false,
     "start_time": "2023-12-10T04:17:05.093389",
     "status": "completed"
    },
    "tags": []
   },
   "outputs": [],
   "source": [
    "for i in range(0,train_df.shape[0]):\n",
    "    train_df['Lemmatized_Text'][i] = rejoin_text(train_df['Lemmatized_Text'][i])\n",
    "    \n",
    "for i in range(0,test_df.shape[0]):\n",
    "    test_df['Lemmatized_Text'][i] = rejoin_text(test_df['Lemmatized_Text'][i])"
   ]
  },
  {
   "cell_type": "code",
   "execution_count": 41,
   "id": "176b3601",
   "metadata": {
    "execution": {
     "iopub.execute_input": "2023-12-10T04:17:09.169663Z",
     "iopub.status.busy": "2023-12-10T04:17:09.168796Z",
     "iopub.status.idle": "2023-12-10T04:17:09.175958Z",
     "shell.execute_reply": "2023-12-10T04:17:09.175123Z"
    },
    "papermill": {
     "duration": 0.053329,
     "end_time": "2023-12-10T04:17:09.177882",
     "exception": false,
     "start_time": "2023-12-10T04:17:09.124553",
     "status": "completed"
    },
    "tags": []
   },
   "outputs": [
    {
     "data": {
      "text/plain": [
       "0    মুগ্ধ হয়ে যাওয়া মামু . তোমায় কমু . বলা তোমায...\n",
       "1    কুত্তার বাচ্চা জন্য দেশটা আজ এমন অবস্তায় তিনট...\n",
       "2                            ভাই আপনি কথাই যাদু রয়েছে\n",
       "3                              উওরটা আমি অনেক ভাল লাগা\n",
       "4    আমি নিজ গাড়ী নিয়ে সাজেক যাওয়া পারবো না ? প্র...\n",
       "Name: Lemmatized_Text, dtype: object"
      ]
     },
     "execution_count": 41,
     "metadata": {},
     "output_type": "execute_result"
    }
   ],
   "source": [
    "train_df['Lemmatized_Text'].head()"
   ]
  },
  {
   "cell_type": "code",
   "execution_count": 42,
   "id": "1f0ef5a9",
   "metadata": {
    "execution": {
     "iopub.execute_input": "2023-12-10T04:17:09.266572Z",
     "iopub.status.busy": "2023-12-10T04:17:09.266202Z",
     "iopub.status.idle": "2023-12-10T04:17:09.273238Z",
     "shell.execute_reply": "2023-12-10T04:17:09.272403Z"
    },
    "papermill": {
     "duration": 0.053263,
     "end_time": "2023-12-10T04:17:09.275200",
     "exception": false,
     "start_time": "2023-12-10T04:17:09.221937",
     "status": "completed"
    },
    "tags": []
   },
   "outputs": [
    {
     "data": {
      "text/plain": [
       "0            আমি খুবেই আনন্দ লাকছে ভাইটি চাকরি পেয়েছে\n",
       "1    ভাই আমি আগ মেয়র আনিচুল হক না আমি সুখ সান্তিতে...\n",
       "2    আমি মার্ক ওয়েন সনির বিশাল ভক্ত । এক সময় ভাবত...\n",
       "3               ৩ মাস না যাওয়া একেকজন ফুলে ফেপে আলু দম\n",
       "4    বাংলাদেশের পুলিশ হলো নিরীহ মানুষ যম , অত্চারির...\n",
       "Name: Lemmatized_Text, dtype: object"
      ]
     },
     "execution_count": 42,
     "metadata": {},
     "output_type": "execute_result"
    }
   ],
   "source": [
    "test_df['Lemmatized_Text'].head()"
   ]
  },
  {
   "cell_type": "code",
   "execution_count": 43,
   "id": "4eb04160",
   "metadata": {
    "execution": {
     "iopub.execute_input": "2023-12-10T04:17:09.363443Z",
     "iopub.status.busy": "2023-12-10T04:17:09.363039Z",
     "iopub.status.idle": "2023-12-10T04:17:09.369087Z",
     "shell.execute_reply": "2023-12-10T04:17:09.368160Z"
    },
    "papermill": {
     "duration": 0.052964,
     "end_time": "2023-12-10T04:17:09.370958",
     "exception": false,
     "start_time": "2023-12-10T04:17:09.317994",
     "status": "completed"
    },
    "tags": []
   },
   "outputs": [],
   "source": [
    "# from sklearn.model_selection import train_test_split\n",
    "train = train_df['Lemmatized_Text'].values.tolist()\n",
    "test = test_df['Lemmatized_Text'].values.tolist()\n",
    "train_cluster_id = train_df['Label'].tolist()\n",
    "test_cluster_id = test_df['Label'].tolist()"
   ]
  },
  {
   "cell_type": "code",
   "execution_count": 44,
   "id": "8ee73829",
   "metadata": {
    "execution": {
     "iopub.execute_input": "2023-12-10T04:17:09.457844Z",
     "iopub.status.busy": "2023-12-10T04:17:09.456983Z",
     "iopub.status.idle": "2023-12-10T04:17:09.461684Z",
     "shell.execute_reply": "2023-12-10T04:17:09.460953Z"
    },
    "papermill": {
     "duration": 0.049902,
     "end_time": "2023-12-10T04:17:09.463483",
     "exception": false,
     "start_time": "2023-12-10T04:17:09.413581",
     "status": "completed"
    },
    "tags": []
   },
   "outputs": [],
   "source": [
    "X_train = train\n",
    "y_train = train_cluster_id\n",
    "X_test = test\n",
    "y_test = test_cluster_id"
   ]
  },
  {
   "cell_type": "code",
   "execution_count": 45,
   "id": "fa95edd8",
   "metadata": {
    "execution": {
     "iopub.execute_input": "2023-12-10T04:17:09.550529Z",
     "iopub.status.busy": "2023-12-10T04:17:09.550163Z",
     "iopub.status.idle": "2023-12-10T04:17:56.016078Z",
     "shell.execute_reply": "2023-12-10T04:17:56.014611Z"
    },
    "papermill": {
     "duration": 46.511944,
     "end_time": "2023-12-10T04:17:56.018129",
     "exception": false,
     "start_time": "2023-12-10T04:17:09.506185",
     "status": "completed"
    },
    "tags": []
   },
   "outputs": [
    {
     "name": "stdout",
     "output_type": "stream",
     "text": [
      "Collecting ktrain\r\n",
      "  Downloading ktrain-0.39.0.tar.gz (25.3 MB)\r\n",
      "\u001b[2K     \u001b[90m━━━━━━━━━━━━━━━━━━━━━━━━━━━━━━━━━━━━━━━━\u001b[0m \u001b[32m25.3/25.3 MB\u001b[0m \u001b[31m43.8 MB/s\u001b[0m eta \u001b[36m0:00:00\u001b[0m\r\n",
      "\u001b[?25h  Preparing metadata (setup.py) ... \u001b[?25l-\b \bdone\r\n",
      "\u001b[?25hRequirement already satisfied: scikit-learn in /opt/conda/lib/python3.10/site-packages (from ktrain) (1.2.2)\r\n",
      "Requirement already satisfied: matplotlib>=3.0.0 in /opt/conda/lib/python3.10/site-packages (from ktrain) (3.7.4)\r\n",
      "Requirement already satisfied: pandas>=1.0.1 in /opt/conda/lib/python3.10/site-packages (from ktrain) (2.0.3)\r\n",
      "Requirement already satisfied: fastprogress>=0.1.21 in /opt/conda/lib/python3.10/site-packages (from ktrain) (1.0.3)\r\n",
      "Requirement already satisfied: requests in /opt/conda/lib/python3.10/site-packages (from ktrain) (2.31.0)\r\n",
      "Requirement already satisfied: joblib in /opt/conda/lib/python3.10/site-packages (from ktrain) (1.3.2)\r\n",
      "Requirement already satisfied: packaging in /opt/conda/lib/python3.10/site-packages (from ktrain) (21.3)\r\n",
      "Collecting langdetect (from ktrain)\r\n",
      "  Downloading langdetect-1.0.9.tar.gz (981 kB)\r\n",
      "\u001b[2K     \u001b[90m━━━━━━━━━━━━━━━━━━━━━━━━━━━━━━━━━━━━━━\u001b[0m \u001b[32m981.5/981.5 kB\u001b[0m \u001b[31m58.7 MB/s\u001b[0m eta \u001b[36m0:00:00\u001b[0m\r\n",
      "\u001b[?25h  Preparing metadata (setup.py) ... \u001b[?25l-\b \bdone\r\n",
      "\u001b[?25hRequirement already satisfied: jieba in /opt/conda/lib/python3.10/site-packages (from ktrain) (0.42.1)\r\n",
      "Requirement already satisfied: charset-normalizer in /opt/conda/lib/python3.10/site-packages (from ktrain) (3.2.0)\r\n",
      "Collecting chardet (from ktrain)\r\n",
      "  Obtaining dependency information for chardet from https://files.pythonhosted.org/packages/38/6f/f5fbc992a329ee4e0f288c1fe0e2ad9485ed064cac731ed2fe47dcc38cbf/chardet-5.2.0-py3-none-any.whl.metadata\r\n",
      "  Downloading chardet-5.2.0-py3-none-any.whl.metadata (3.4 kB)\r\n",
      "Collecting syntok>1.3.3 (from ktrain)\r\n",
      "  Downloading syntok-1.4.4-py3-none-any.whl (24 kB)\r\n",
      "Collecting tika (from ktrain)\r\n",
      "  Downloading tika-2.6.0.tar.gz (27 kB)\r\n",
      "  Preparing metadata (setup.py) ... \u001b[?25l-\b \bdone\r\n",
      "\u001b[?25hRequirement already satisfied: transformers>=4.17.0 in /opt/conda/lib/python3.10/site-packages (from ktrain) (4.35.2)\r\n",
      "Requirement already satisfied: sentencepiece in /opt/conda/lib/python3.10/site-packages (from ktrain) (0.1.99)\r\n",
      "Collecting keras_bert>=0.86.0 (from ktrain)\r\n",
      "  Downloading keras-bert-0.89.0.tar.gz (25 kB)\r\n",
      "  Preparing metadata (setup.py) ... \u001b[?25l-\b \bdone\r\n",
      "\u001b[?25hCollecting whoosh (from ktrain)\r\n",
      "  Downloading Whoosh-2.7.4-py2.py3-none-any.whl (468 kB)\r\n",
      "\u001b[2K     \u001b[90m━━━━━━━━━━━━━━━━━━━━━━━━━━━━━━━━━━━━━━\u001b[0m \u001b[32m468.8/468.8 kB\u001b[0m \u001b[31m37.9 MB/s\u001b[0m eta \u001b[36m0:00:00\u001b[0m\r\n",
      "\u001b[?25hRequirement already satisfied: numpy in /opt/conda/lib/python3.10/site-packages (from keras_bert>=0.86.0->ktrain) (1.24.3)\r\n",
      "Collecting keras-transformer==0.40.0 (from keras_bert>=0.86.0->ktrain)\r\n",
      "  Downloading keras-transformer-0.40.0.tar.gz (9.7 kB)\r\n",
      "  Preparing metadata (setup.py) ... \u001b[?25l-\b \bdone\r\n",
      "\u001b[?25hCollecting keras-pos-embd==0.13.0 (from keras-transformer==0.40.0->keras_bert>=0.86.0->ktrain)\r\n",
      "  Downloading keras-pos-embd-0.13.0.tar.gz (5.6 kB)\r\n",
      "  Preparing metadata (setup.py) ... \u001b[?25l-\b \bdone\r\n",
      "\u001b[?25hCollecting keras-multi-head==0.29.0 (from keras-transformer==0.40.0->keras_bert>=0.86.0->ktrain)\r\n",
      "  Downloading keras-multi-head-0.29.0.tar.gz (13 kB)\r\n",
      "  Preparing metadata (setup.py) ... \u001b[?25l-\b \bdone\r\n",
      "\u001b[?25hCollecting keras-layer-normalization==0.16.0 (from keras-transformer==0.40.0->keras_bert>=0.86.0->ktrain)\r\n",
      "  Downloading keras-layer-normalization-0.16.0.tar.gz (3.9 kB)\r\n",
      "  Preparing metadata (setup.py) ... \u001b[?25l-\b \bdone\r\n",
      "\u001b[?25hCollecting keras-position-wise-feed-forward==0.8.0 (from keras-transformer==0.40.0->keras_bert>=0.86.0->ktrain)\r\n",
      "  Downloading keras-position-wise-feed-forward-0.8.0.tar.gz (4.1 kB)\r\n",
      "  Preparing metadata (setup.py) ... \u001b[?25l-\b \bdone\r\n",
      "\u001b[?25hCollecting keras-embed-sim==0.10.0 (from keras-transformer==0.40.0->keras_bert>=0.86.0->ktrain)\r\n",
      "  Downloading keras-embed-sim-0.10.0.tar.gz (3.6 kB)\r\n",
      "  Preparing metadata (setup.py) ... \u001b[?25l-\b \bdone\r\n",
      "\u001b[?25hCollecting keras-self-attention==0.51.0 (from keras-multi-head==0.29.0->keras-transformer==0.40.0->keras_bert>=0.86.0->ktrain)\r\n",
      "  Downloading keras-self-attention-0.51.0.tar.gz (11 kB)\r\n",
      "  Preparing metadata (setup.py) ... \u001b[?25l-\b \bdone\r\n",
      "\u001b[?25hRequirement already satisfied: contourpy>=1.0.1 in /opt/conda/lib/python3.10/site-packages (from matplotlib>=3.0.0->ktrain) (1.1.0)\r\n",
      "Requirement already satisfied: cycler>=0.10 in /opt/conda/lib/python3.10/site-packages (from matplotlib>=3.0.0->ktrain) (0.11.0)\r\n",
      "Requirement already satisfied: fonttools>=4.22.0 in /opt/conda/lib/python3.10/site-packages (from matplotlib>=3.0.0->ktrain) (4.42.1)\r\n",
      "Requirement already satisfied: kiwisolver>=1.0.1 in /opt/conda/lib/python3.10/site-packages (from matplotlib>=3.0.0->ktrain) (1.4.4)\r\n",
      "Requirement already satisfied: pillow>=6.2.0 in /opt/conda/lib/python3.10/site-packages (from matplotlib>=3.0.0->ktrain) (10.1.0)\r\n",
      "Requirement already satisfied: pyparsing>=2.3.1 in /opt/conda/lib/python3.10/site-packages (from matplotlib>=3.0.0->ktrain) (3.0.9)\r\n",
      "Requirement already satisfied: python-dateutil>=2.7 in /opt/conda/lib/python3.10/site-packages (from matplotlib>=3.0.0->ktrain) (2.8.2)\r\n",
      "Requirement already satisfied: pytz>=2020.1 in /opt/conda/lib/python3.10/site-packages (from pandas>=1.0.1->ktrain) (2023.3)\r\n",
      "Requirement already satisfied: tzdata>=2022.1 in /opt/conda/lib/python3.10/site-packages (from pandas>=1.0.1->ktrain) (2023.3)\r\n",
      "Requirement already satisfied: regex>2016 in /opt/conda/lib/python3.10/site-packages (from syntok>1.3.3->ktrain) (2023.8.8)\r\n",
      "Requirement already satisfied: filelock in /opt/conda/lib/python3.10/site-packages (from transformers>=4.17.0->ktrain) (3.12.2)\r\n",
      "Requirement already satisfied: huggingface-hub<1.0,>=0.16.4 in /opt/conda/lib/python3.10/site-packages (from transformers>=4.17.0->ktrain) (0.19.4)\r\n",
      "Requirement already satisfied: pyyaml>=5.1 in /opt/conda/lib/python3.10/site-packages (from transformers>=4.17.0->ktrain) (6.0.1)\r\n",
      "Requirement already satisfied: tokenizers<0.19,>=0.14 in /opt/conda/lib/python3.10/site-packages (from transformers>=4.17.0->ktrain) (0.15.0)\r\n",
      "Requirement already satisfied: safetensors>=0.3.1 in /opt/conda/lib/python3.10/site-packages (from transformers>=4.17.0->ktrain) (0.4.1)\r\n",
      "Requirement already satisfied: tqdm>=4.27 in /opt/conda/lib/python3.10/site-packages (from transformers>=4.17.0->ktrain) (4.66.1)\r\n",
      "Requirement already satisfied: six in /opt/conda/lib/python3.10/site-packages (from langdetect->ktrain) (1.16.0)\r\n",
      "Requirement already satisfied: idna<4,>=2.5 in /opt/conda/lib/python3.10/site-packages (from requests->ktrain) (3.4)\r\n",
      "Requirement already satisfied: urllib3<3,>=1.21.1 in /opt/conda/lib/python3.10/site-packages (from requests->ktrain) (1.26.15)\r\n",
      "Requirement already satisfied: certifi>=2017.4.17 in /opt/conda/lib/python3.10/site-packages (from requests->ktrain) (2023.11.17)\r\n",
      "Requirement already satisfied: scipy>=1.3.2 in /opt/conda/lib/python3.10/site-packages (from scikit-learn->ktrain) (1.11.4)\r\n",
      "Requirement already satisfied: threadpoolctl>=2.0.0 in /opt/conda/lib/python3.10/site-packages (from scikit-learn->ktrain) (3.2.0)\r\n",
      "Requirement already satisfied: setuptools in /opt/conda/lib/python3.10/site-packages (from tika->ktrain) (68.1.2)\r\n",
      "Requirement already satisfied: fsspec>=2023.5.0 in /opt/conda/lib/python3.10/site-packages (from huggingface-hub<1.0,>=0.16.4->transformers>=4.17.0->ktrain) (2023.12.1)\r\n",
      "Requirement already satisfied: typing-extensions>=3.7.4.3 in /opt/conda/lib/python3.10/site-packages (from huggingface-hub<1.0,>=0.16.4->transformers>=4.17.0->ktrain) (4.5.0)\r\n",
      "Downloading chardet-5.2.0-py3-none-any.whl (199 kB)\r\n",
      "\u001b[2K   \u001b[90m━━━━━━━━━━━━━━━━━━━━━━━━━━━━━━━━━━━━━━━━\u001b[0m \u001b[32m199.4/199.4 kB\u001b[0m \u001b[31m20.6 MB/s\u001b[0m eta \u001b[36m0:00:00\u001b[0m\r\n",
      "\u001b[?25hBuilding wheels for collected packages: ktrain, keras_bert, keras-transformer, keras-embed-sim, keras-layer-normalization, keras-multi-head, keras-pos-embd, keras-position-wise-feed-forward, keras-self-attention, langdetect, tika\r\n",
      "  Building wheel for ktrain (setup.py) ... \u001b[?25l-\b \b\\\b \bdone\r\n",
      "\u001b[?25h  Created wheel for ktrain: filename=ktrain-0.39.0-py3-none-any.whl size=25319738 sha256=05eace224e933ec404fa95ee785329b8faa54e1d80dc141be4f87b7d3c846890\r\n",
      "  Stored in directory: /root/.cache/pip/wheels/98/fd/0a/ef6252223f3d2c49b06d18e71c74caa43bbf4c64a8c183a46e\r\n",
      "  Building wheel for keras_bert (setup.py) ... \u001b[?25l-\b \b\\\b \bdone\r\n",
      "\u001b[?25h  Created wheel for keras_bert: filename=keras_bert-0.89.0-py3-none-any.whl size=33499 sha256=bc6dfe694b87f5679432728fb3b695b6b41130c7ed82d38774d2432e5f2d149e\r\n",
      "  Stored in directory: /root/.cache/pip/wheels/89/0c/04/646b6fdf6375911b42c8d540a8a3fda8d5d77634e5dcbe7b26\r\n",
      "  Building wheel for keras-transformer (setup.py) ... \u001b[?25l-\b \b\\\b \bdone\r\n",
      "\u001b[?25h  Created wheel for keras-transformer: filename=keras_transformer-0.40.0-py3-none-any.whl size=12285 sha256=4a993cf08e85c6b2cf1dc28fd62cfd5a76c34d8a411131c14a1d8a6f835dca6e\r\n",
      "  Stored in directory: /root/.cache/pip/wheels/f2/cb/22/75a0ad376129177f7c95c0d91331a18f5368fd657f4035ba7c\r\n",
      "  Building wheel for keras-embed-sim (setup.py) ... \u001b[?25l-\b \b\\\b \bdone\r\n",
      "\u001b[?25h  Created wheel for keras-embed-sim: filename=keras_embed_sim-0.10.0-py3-none-any.whl size=3945 sha256=e7236709dacd449143fdcf025119f463eff5b8008377dbaf28733cac1330965f\r\n",
      "  Stored in directory: /root/.cache/pip/wheels/82/32/c7/fd35d0d1b840a6c7cbd4343f808d10d0f7b87d271a4dbe796f\r\n",
      "  Building wheel for keras-layer-normalization (setup.py) ... \u001b[?25l-\b \b\\\b \bdone\r\n",
      "\u001b[?25h  Created wheel for keras-layer-normalization: filename=keras_layer_normalization-0.16.0-py3-none-any.whl size=4654 sha256=9fd84970239c933dda69f16129452a3a6ff278a18df7d624c58c151cc28e2295\r\n",
      "  Stored in directory: /root/.cache/pip/wheels/ed/3a/4b/21db23c0cc56c4b219616e181f258eb7c57d36cc5d056fae9a\r\n",
      "  Building wheel for keras-multi-head (setup.py) ... \u001b[?25l-\b \b\\\b \bdone\r\n",
      "\u001b[?25h  Created wheel for keras-multi-head: filename=keras_multi_head-0.29.0-py3-none-any.whl size=14977 sha256=75577153fa3c64659a9b33a6d2aa30b1da2eca79017c8e1b426cad9b8f6e49f7\r\n",
      "  Stored in directory: /root/.cache/pip/wheels/cb/23/4b/06d7ae21714f70fcc25b48f972cc8e5e7f4b6b764a038b509d\r\n",
      "  Building wheel for keras-pos-embd (setup.py) ... \u001b[?25l-\b \b\\\b \bdone\r\n",
      "\u001b[?25h  Created wheel for keras-pos-embd: filename=keras_pos_embd-0.13.0-py3-none-any.whl size=6945 sha256=e17ad19fa919e783b5ca083d0def51b2e0749e7b594bc690d990235819199487\r\n",
      "  Stored in directory: /root/.cache/pip/wheels/78/07/1b/b1ca47b6ac338554b75c8f52c54e6a2bfbe1b07d79579979a4\r\n",
      "  Building wheel for keras-position-wise-feed-forward (setup.py) ... \u001b[?25l-\b \b\\\b \bdone\r\n",
      "\u001b[?25h  Created wheel for keras-position-wise-feed-forward: filename=keras_position_wise_feed_forward-0.8.0-py3-none-any.whl size=4969 sha256=b6c69cf8290a6850f02defacf219639378a483a94b2e31a965c78083c62f4d39\r\n",
      "  Stored in directory: /root/.cache/pip/wheels/c1/6a/04/d1706a53b23b2cb5f9a0a76269bf87925daa1bca09eac01b21\r\n",
      "  Building wheel for keras-self-attention (setup.py) ... \u001b[?25l-\b \b\\\b \bdone\r\n",
      "\u001b[?25h  Created wheel for keras-self-attention: filename=keras_self_attention-0.51.0-py3-none-any.whl size=18895 sha256=a64e1c00c9ee9404ec97205d54b4235577087dd62123bb8fca102817fdfe184f\r\n",
      "  Stored in directory: /root/.cache/pip/wheels/b8/f7/24/607b483144fb9c47b4ba2c5fba6b68e54aeee2d5bf6c05302e\r\n",
      "  Building wheel for langdetect (setup.py) ... \u001b[?25l-\b \bdone\r\n",
      "\u001b[?25h  Created wheel for langdetect: filename=langdetect-1.0.9-py3-none-any.whl size=993224 sha256=3e83e00dc73a4513ea1607236009e3e5959b3a0eeecfdb34600cad27cc27ea8f\r\n",
      "  Stored in directory: /root/.cache/pip/wheels/95/03/7d/59ea870c70ce4e5a370638b5462a7711ab78fba2f655d05106\r\n",
      "  Building wheel for tika (setup.py) ... \u001b[?25l-\b \bdone\r\n",
      "\u001b[?25h  Created wheel for tika: filename=tika-2.6.0-py3-none-any.whl size=32621 sha256=cfa335b223d712d9aecf4e7bab7189724ca79dc32c10a05d17ac101756b2eae8\r\n",
      "  Stored in directory: /root/.cache/pip/wheels/5f/71/c7/b757709531121b1700cffda5b6b0d4aad095fb507ec84316d0\r\n",
      "Successfully built ktrain keras_bert keras-transformer keras-embed-sim keras-layer-normalization keras-multi-head keras-pos-embd keras-position-wise-feed-forward keras-self-attention langdetect tika\r\n",
      "Installing collected packages: whoosh, syntok, langdetect, keras-self-attention, keras-position-wise-feed-forward, keras-pos-embd, keras-layer-normalization, keras-embed-sim, chardet, tika, keras-multi-head, keras-transformer, keras_bert, ktrain\r\n",
      "Successfully installed chardet-5.2.0 keras-embed-sim-0.10.0 keras-layer-normalization-0.16.0 keras-multi-head-0.29.0 keras-pos-embd-0.13.0 keras-position-wise-feed-forward-0.8.0 keras-self-attention-0.51.0 keras-transformer-0.40.0 keras_bert-0.89.0 ktrain-0.39.0 langdetect-1.0.9 syntok-1.4.4 tika-2.6.0 whoosh-2.7.4\r\n",
      "Note: you may need to restart the kernel to use updated packages.\n"
     ]
    }
   ],
   "source": [
    "pip install ktrain"
   ]
  },
  {
   "cell_type": "code",
   "execution_count": 46,
   "id": "de9d3413",
   "metadata": {
    "execution": {
     "iopub.execute_input": "2023-12-10T04:17:56.125984Z",
     "iopub.status.busy": "2023-12-10T04:17:56.125045Z",
     "iopub.status.idle": "2023-12-10T04:18:52.426845Z",
     "shell.execute_reply": "2023-12-10T04:18:52.425834Z"
    },
    "papermill": {
     "duration": 56.358587,
     "end_time": "2023-12-10T04:18:52.429155",
     "exception": false,
     "start_time": "2023-12-10T04:17:56.070568",
     "status": "completed"
    },
    "tags": []
   },
   "outputs": [
    {
     "data": {
      "application/vnd.jupyter.widget-view+json": {
       "model_id": "589c857d0206480fbe71b94a3a7cc897",
       "version_major": 2,
       "version_minor": 0
      },
      "text/plain": [
       "config.json:   0%|          | 0.00/586 [00:00<?, ?B/s]"
      ]
     },
     "metadata": {},
     "output_type": "display_data"
    },
    {
     "data": {
      "application/vnd.jupyter.widget-view+json": {
       "model_id": "6d23256b62fa484d8bb4e101dd6af153",
       "version_major": 2,
       "version_minor": 0
      },
      "text/plain": [
       "pytorch_model.bin:   0%|          | 0.00/443M [00:00<?, ?B/s]"
      ]
     },
     "metadata": {},
     "output_type": "display_data"
    }
   ],
   "source": [
    "import ktrain\n",
    "from ktrain import text\n",
    "MODEL_NAME = 'csebuetnlp/banglabert'\n",
    "t = text.Transformer(MODEL_NAME, maxlen=500)"
   ]
  },
  {
   "cell_type": "code",
   "execution_count": 47,
   "id": "28488550",
   "metadata": {
    "execution": {
     "iopub.execute_input": "2023-12-10T04:18:52.536322Z",
     "iopub.status.busy": "2023-12-10T04:18:52.535871Z",
     "iopub.status.idle": "2023-12-10T04:18:52.548759Z",
     "shell.execute_reply": "2023-12-10T04:18:52.547232Z"
    },
    "papermill": {
     "duration": 0.068993,
     "end_time": "2023-12-10T04:18:52.551394",
     "exception": false,
     "start_time": "2023-12-10T04:18:52.482401",
     "status": "completed"
    },
    "tags": []
   },
   "outputs": [],
   "source": [
    "y_train = [str(x) for x in train_cluster_id]\n",
    "y_test = [str(x) for x in test_cluster_id]"
   ]
  },
  {
   "cell_type": "code",
   "execution_count": 48,
   "id": "bde9f7ff",
   "metadata": {
    "execution": {
     "iopub.execute_input": "2023-12-10T04:18:52.679043Z",
     "iopub.status.busy": "2023-12-10T04:18:52.677939Z",
     "iopub.status.idle": "2023-12-10T04:19:00.498832Z",
     "shell.execute_reply": "2023-12-10T04:19:00.497783Z"
    },
    "papermill": {
     "duration": 7.8869,
     "end_time": "2023-12-10T04:19:00.501079",
     "exception": false,
     "start_time": "2023-12-10T04:18:52.614179",
     "status": "completed"
    },
    "tags": []
   },
   "outputs": [
    {
     "name": "stdout",
     "output_type": "stream",
     "text": [
      "preprocessing train...\n",
      "language: bn\n",
      "train sequence lengths:\n",
      "\tmean : 14\n",
      "\t95percentile : 33\n",
      "\t99percentile : 42\n"
     ]
    },
    {
     "data": {
      "application/vnd.jupyter.widget-view+json": {
       "model_id": "315ea8b48cf242abbe2b0d5c672a2703",
       "version_major": 2,
       "version_minor": 0
      },
      "text/plain": [
       "tokenizer_config.json:   0%|          | 0.00/119 [00:00<?, ?B/s]"
      ]
     },
     "metadata": {},
     "output_type": "display_data"
    },
    {
     "data": {
      "application/vnd.jupyter.widget-view+json": {
       "model_id": "c1b4f8e8830743ec94ba9ba8942494d0",
       "version_major": 2,
       "version_minor": 0
      },
      "text/plain": [
       "vocab.txt:   0%|          | 0.00/528k [00:00<?, ?B/s]"
      ]
     },
     "metadata": {},
     "output_type": "display_data"
    },
    {
     "data": {
      "application/vnd.jupyter.widget-view+json": {
       "model_id": "322fe03234214c9da52018e4e5f1cdf4",
       "version_major": 2,
       "version_minor": 0
      },
      "text/plain": [
       "special_tokens_map.json:   0%|          | 0.00/112 [00:00<?, ?B/s]"
      ]
     },
     "metadata": {},
     "output_type": "display_data"
    },
    {
     "data": {
      "text/html": [
       "\n",
       "<style>\n",
       "    /* Turns off some styling */\n",
       "    progress {\n",
       "        /* gets rid of default border in Firefox and Opera. */\n",
       "        border: none;\n",
       "        /* Needs to be in here for Safari polyfill so background images work as expected. */\n",
       "        background-size: auto;\n",
       "    }\n",
       "    progress:not([value]), progress:not([value])::-webkit-progress-bar {\n",
       "        background: repeating-linear-gradient(45deg, #7e7e7e, #7e7e7e 10px, #5c5c5c 10px, #5c5c5c 20px);\n",
       "    }\n",
       "    .progress-bar-interrupted, .progress-bar-interrupted::-webkit-progress-bar {\n",
       "        background: #F44336;\n",
       "    }\n",
       "</style>\n"
      ],
      "text/plain": [
       "<IPython.core.display.HTML object>"
      ]
     },
     "metadata": {},
     "output_type": "display_data"
    },
    {
     "data": {
      "text/html": [],
      "text/plain": [
       "<IPython.core.display.HTML object>"
      ]
     },
     "metadata": {},
     "output_type": "display_data"
    },
    {
     "name": "stdout",
     "output_type": "stream",
     "text": [
      "Is Multi-Label? False\n",
      "preprocessing test...\n",
      "language: bn\n",
      "test sequence lengths:\n",
      "\tmean : 14\n",
      "\t95percentile : 33\n",
      "\t99percentile : 42\n"
     ]
    },
    {
     "data": {
      "text/html": [
       "\n",
       "<style>\n",
       "    /* Turns off some styling */\n",
       "    progress {\n",
       "        /* gets rid of default border in Firefox and Opera. */\n",
       "        border: none;\n",
       "        /* Needs to be in here for Safari polyfill so background images work as expected. */\n",
       "        background-size: auto;\n",
       "    }\n",
       "    progress:not([value]), progress:not([value])::-webkit-progress-bar {\n",
       "        background: repeating-linear-gradient(45deg, #7e7e7e, #7e7e7e 10px, #5c5c5c 10px, #5c5c5c 20px);\n",
       "    }\n",
       "    .progress-bar-interrupted, .progress-bar-interrupted::-webkit-progress-bar {\n",
       "        background: #F44336;\n",
       "    }\n",
       "</style>\n"
      ],
      "text/plain": [
       "<IPython.core.display.HTML object>"
      ]
     },
     "metadata": {},
     "output_type": "display_data"
    },
    {
     "data": {
      "text/html": [],
      "text/plain": [
       "<IPython.core.display.HTML object>"
      ]
     },
     "metadata": {},
     "output_type": "display_data"
    }
   ],
   "source": [
    "trn = t.preprocess_train(X_train, y_train)\n",
    "val = t.preprocess_test(X_test, y_test)"
   ]
  },
  {
   "cell_type": "code",
   "execution_count": 49,
   "id": "26ccb94a",
   "metadata": {
    "execution": {
     "iopub.execute_input": "2023-12-10T04:19:00.609871Z",
     "iopub.status.busy": "2023-12-10T04:19:00.608986Z",
     "iopub.status.idle": "2023-12-10T04:19:00.613897Z",
     "shell.execute_reply": "2023-12-10T04:19:00.613007Z"
    },
    "papermill": {
     "duration": 0.061708,
     "end_time": "2023-12-10T04:19:00.616197",
     "exception": false,
     "start_time": "2023-12-10T04:19:00.554489",
     "status": "completed"
    },
    "tags": []
   },
   "outputs": [
    {
     "name": "stdout",
     "output_type": "stream",
     "text": [
      "<ktrain.text.dataset.TransformerDataset object at 0x7ac6bfa39090>\n"
     ]
    }
   ],
   "source": [
    "print(trn)"
   ]
  },
  {
   "cell_type": "code",
   "execution_count": 50,
   "id": "a89cafe2",
   "metadata": {
    "execution": {
     "iopub.execute_input": "2023-12-10T04:19:00.724612Z",
     "iopub.status.busy": "2023-12-10T04:19:00.724245Z",
     "iopub.status.idle": "2023-12-10T04:19:01.337481Z",
     "shell.execute_reply": "2023-12-10T04:19:01.336540Z"
    },
    "papermill": {
     "duration": 0.669588,
     "end_time": "2023-12-10T04:19:01.339597",
     "exception": false,
     "start_time": "2023-12-10T04:19:00.670009",
     "status": "completed"
    },
    "tags": []
   },
   "outputs": [
    {
     "data": {
      "image/png": "[encoded data removed]",
      "text/plain": [
       "<Figure size 1000x600 with 1 Axes>"
      ]
     },
     "metadata": {},
     "output_type": "display_data"
    }
   ],
   "source": [
    "import matplotlib.pyplot as plt\n",
    "\n",
    "# Calculate token lengths for train and test datasets\n",
    "train_token_lengths = [len(t.split()) for t in X_train]\n",
    "test_token_lengths = [len(t.split()) for t in X_test]\n",
    "\n",
    "# Plot token length distribution\n",
    "plt.figure(figsize=(10, 6))\n",
    "plt.hist(train_token_lengths, bins=50, alpha=0.5, color='blue', label='Train')\n",
    "plt.hist(test_token_lengths, bins=50, alpha=0.5, color='orange', label='Test')\n",
    "plt.xlabel('Token Length')\n",
    "plt.ylabel('Frequency')\n",
    "plt.title('Token Length Distribution')\n",
    "plt.legend()\n",
    "plt.show()"
   ]
  },
  {
   "cell_type": "code",
   "execution_count": 51,
   "id": "c0f06a12",
   "metadata": {
    "execution": {
     "iopub.execute_input": "2023-12-10T04:19:01.449953Z",
     "iopub.status.busy": "2023-12-10T04:19:01.449042Z",
     "iopub.status.idle": "2023-12-10T04:19:03.692132Z",
     "shell.execute_reply": "2023-12-10T04:19:03.691077Z"
    },
    "papermill": {
     "duration": 2.301051,
     "end_time": "2023-12-10T04:19:03.694684",
     "exception": false,
     "start_time": "2023-12-10T04:19:01.393633",
     "status": "completed"
    },
    "tags": []
   },
   "outputs": [],
   "source": [
    "model = t.get_classifier()"
   ]
  },
  {
   "cell_type": "code",
   "execution_count": 52,
   "id": "675959dd",
   "metadata": {
    "execution": {
     "iopub.execute_input": "2023-12-10T04:19:03.811138Z",
     "iopub.status.busy": "2023-12-10T04:19:03.810720Z",
     "iopub.status.idle": "2023-12-10T04:19:04.706183Z",
     "shell.execute_reply": "2023-12-10T04:19:04.705144Z"
    },
    "papermill": {
     "duration": 0.955681,
     "end_time": "2023-12-10T04:19:04.708696",
     "exception": false,
     "start_time": "2023-12-10T04:19:03.753015",
     "status": "completed"
    },
    "tags": []
   },
   "outputs": [],
   "source": [
    "learner = ktrain.get_learner(model, train_data=trn, val_data=val, batch_size=16)"
   ]
  },
  {
   "cell_type": "code",
   "execution_count": 53,
   "id": "eadebc65",
   "metadata": {
    "execution": {
     "iopub.execute_input": "2023-12-10T04:19:04.826611Z",
     "iopub.status.busy": "2023-12-10T04:19:04.825927Z",
     "iopub.status.idle": "2023-12-10T04:19:04.831557Z",
     "shell.execute_reply": "2023-12-10T04:19:04.830635Z"
    },
    "papermill": {
     "duration": 0.066576,
     "end_time": "2023-12-10T04:19:04.833457",
     "exception": false,
     "start_time": "2023-12-10T04:19:04.766881",
     "status": "completed"
    },
    "tags": []
   },
   "outputs": [],
   "source": [
    "# Adding early stopping callback from TensorFlow\n",
    "from tensorflow.keras.callbacks import EarlyStopping\n",
    "early_stopping = EarlyStopping(monitor='val_loss', patience=5, mode='auto')"
   ]
  },
  {
   "cell_type": "code",
   "execution_count": 54,
   "id": "710df13b",
   "metadata": {
    "execution": {
     "iopub.execute_input": "2023-12-10T04:19:04.946857Z",
     "iopub.status.busy": "2023-12-10T04:19:04.945831Z",
     "iopub.status.idle": "2023-12-10T05:29:25.710574Z",
     "shell.execute_reply": "2023-12-10T05:29:25.709665Z"
    },
    "papermill": {
     "duration": 4220.823786,
     "end_time": "2023-12-10T05:29:25.712795",
     "exception": false,
     "start_time": "2023-12-10T04:19:04.889009",
     "status": "completed"
    },
    "tags": []
   },
   "outputs": [
    {
     "name": "stdout",
     "output_type": "stream",
     "text": [
      "\n",
      "\n",
      "begin training using onecycle policy with max lr of 0.0001...\n",
      "Epoch 1/5\n",
      "786/786 [==============================] - 868s 1s/step - loss: 0.7921 - accuracy: 0.6538 - val_loss: 0.6470 - val_accuracy: 0.7262\n",
      "Epoch 2/5\n",
      "786/786 [==============================] - 839s 1s/step - loss: 0.6311 - accuracy: 0.7435 - val_loss: 0.6995 - val_accuracy: 0.7039\n",
      "Epoch 3/5\n",
      "786/786 [==============================] - 838s 1s/step - loss: 0.5130 - accuracy: 0.8009 - val_loss: 0.6534 - val_accuracy: 0.7524\n",
      "Epoch 4/5\n",
      "786/786 [==============================] - 837s 1s/step - loss: 0.2935 - accuracy: 0.8976 - val_loss: 0.7205 - val_accuracy: 0.7518\n",
      "Epoch 5/5\n",
      "786/786 [==============================] - 838s 1s/step - loss: 0.1278 - accuracy: 0.9593 - val_loss: 0.8566 - val_accuracy: 0.7543\n"
     ]
    }
   ],
   "source": [
    "history = learner.fit_onecycle (1e-4, 5, callbacks=[early_stopping])"
   ]
  },
  {
   "cell_type": "code",
   "execution_count": 55,
   "id": "7b92f4b9",
   "metadata": {
    "execution": {
     "iopub.execute_input": "2023-12-10T05:29:26.525246Z",
     "iopub.status.busy": "2023-12-10T05:29:26.524839Z",
     "iopub.status.idle": "2023-12-10T05:29:27.576065Z",
     "shell.execute_reply": "2023-12-10T05:29:27.575076Z"
    },
    "papermill": {
     "duration": 1.42457,
     "end_time": "2023-12-10T05:29:27.578653",
     "exception": false,
     "start_time": "2023-12-10T05:29:26.154083",
     "status": "completed"
    },
    "tags": []
   },
   "outputs": [],
   "source": [
    "# Save the trained model\n",
    "learner.save_model('/kaggle/output/tf-idf_nlu_lemma.zip')"
   ]
  },
  {
   "cell_type": "code",
   "execution_count": 56,
   "id": "792cee67",
   "metadata": {
    "execution": {
     "iopub.execute_input": "2023-12-10T05:29:28.336827Z",
     "iopub.status.busy": "2023-12-10T05:29:28.336443Z",
     "iopub.status.idle": "2023-12-10T05:29:28.341017Z",
     "shell.execute_reply": "2023-12-10T05:29:28.340050Z"
    },
    "papermill": {
     "duration": 0.397526,
     "end_time": "2023-12-10T05:29:28.342883",
     "exception": false,
     "start_time": "2023-12-10T05:29:27.945357",
     "status": "completed"
    },
    "tags": []
   },
   "outputs": [],
   "source": [
    "classes=t.get_classes()"
   ]
  },
  {
   "cell_type": "code",
   "execution_count": 57,
   "id": "a95ed737",
   "metadata": {
    "execution": {
     "iopub.execute_input": "2023-12-10T05:29:29.075179Z",
     "iopub.status.busy": "2023-12-10T05:29:29.074768Z",
     "iopub.status.idle": "2023-12-10T05:29:37.803496Z",
     "shell.execute_reply": "2023-12-10T05:29:37.802499Z"
    },
    "papermill": {
     "duration": 9.09893,
     "end_time": "2023-12-10T05:29:37.805620",
     "exception": false,
     "start_time": "2023-12-10T05:29:28.706690",
     "status": "completed"
    },
    "tags": []
   },
   "outputs": [
    {
     "name": "stdout",
     "output_type": "stream",
     "text": [
      "49/49 [==============================] - 9s 111ms/step\n",
      "              precision    recall  f1-score   support\n",
      "\n",
      "           0       0.60      0.55      0.57       354\n",
      "           1       0.76      0.83      0.79       623\n",
      "           2       0.84      0.79      0.82       590\n",
      "\n",
      "    accuracy                           0.75      1567\n",
      "   macro avg       0.73      0.73      0.73      1567\n",
      "weighted avg       0.75      0.75      0.75      1567\n",
      "\n"
     ]
    }
   ],
   "source": [
    "cm = learner.validate(class_names=t.get_classes())"
   ]
  }
 ],
 "metadata": {
  "kaggle": {
   "accelerator": "gpu",
   "dataSources": [
    {
     "datasetId": 1627069,
     "sourceId": 2674057,
     "sourceType": "datasetVersion"
    }
   ],
   "dockerImageVersionId": 30616,
   "isGpuEnabled": true,
   "isInternetEnabled": true,
   "language": "python",
   "sourceType": "notebook"
  },
  "kernelspec": {
   "display_name": "Python 3",
   "language": "python",
   "name": "python3"
  },
  "language_info": {
   "codemirror_mode": {
    "name": "ipython",
    "version": 3
   },
   "file_extension": ".py",
   "mimetype": "text/x-python",
   "name": "python",
   "nbconvert_exporter": "python",
   "pygments_lexer": "ipython3",
   "version": "3.10.12"
  },
  "papermill": {
   "default_parameters": {},
   "duration": 4661.072068,
   "end_time": "2023-12-10T05:29:41.126253",
   "environment_variables": {},
   "exception": null,
   "input_path": "__notebook__.ipynb",
   "output_path": "__notebook__.ipynb",
   "parameters": {},
   "start_time": "2023-12-10T04:12:00.054185",
   "version": "2.4.0"
  },
  "widgets": {
   "application/vnd.jupyter.widget-state+json": {
    "state": {
     "00bc154403a44d2e871b9b408f3100e7": {
      "model_module": "@jupyter-widgets/base",
      "model_module_version": "1.2.0",
      "model_name": "LayoutModel",
      "state": {
       "_model_module": "@jupyter-widgets/base",
       "_model_module_version": "1.2.0",
       "_model_name": "LayoutModel",
       "_view_count": null,
       "_view_module": "@jupyter-widgets/base",
       "_view_module_version": "1.2.0",
       "_view_name": "LayoutView",
       "align_content": null,
       "align_items": null,
       "align_self": null,
       "border": null,
       "bottom": null,
       "display": null,
       "flex": null,
       "flex_flow": null,
       "grid_area": null,
       "grid_auto_columns": null,
       "grid_auto_flow": null,
       "grid_auto_rows": null,
       "grid_column": null,
       "grid_gap": null,
       "grid_row": null,
       "grid_template_areas": null,
       "grid_template_columns": null,
       "grid_template_rows": null,
       "height": null,
       "justify_content": null,
       "justify_items": null,
       "left": null,
       "margin": null,
       "max_height": null,
       "max_width": null,
       "min_height": null,
       "min_width": null,
       "object_fit": null,
       "object_position": null,
       "order": null,
       "overflow": null,
       "overflow_x": null,
       "overflow_y": null,
       "padding": null,
       "right": null,
       "top": null,
       "visibility": null,
       "width": null
      }
     },
     "01fae8c3841a4e51a742a96bede4477a": {
      "model_module": "@jupyter-widgets/controls",
      "model_module_version": "1.5.0",
      "model_name": "HTMLModel",
      "state": {
       "_dom_classes": [],
       "_model_module": "@jupyter-widgets/controls",
       "_model_module_version": "1.5.0",
       "_model_name": "HTMLModel",
       "_view_count": null,
       "_view_module": "@jupyter-widgets/controls",
       "_view_module_version": "1.5.0",
       "_view_name": "HTMLView",
       "description": "",
       "description_tooltip": null,
       "layout": "IPY_MODEL_1bd0fca97e694528a98768d6286abab7",
       "placeholder": "​",
       "style": "IPY_MODEL_0364dbd1e4cf4bf1b10b295c2f4acaa5",
       "value": "config.json: 100%"
      }
     },
     "031807d38c394d7b8840be5179a8cee8": {
      "model_module": "@jupyter-widgets/base",
      "model_module_version": "1.2.0",
      "model_name": "LayoutModel",
      "state": {
       "_model_module": "@jupyter-widgets/base",
       "_model_module_version": "1.2.0",
       "_model_name": "LayoutModel",
       "_view_count": null,
       "_view_module": "@jupyter-widgets/base",
       "_view_module_version": "1.2.0",
       "_view_name": "LayoutView",
       "align_content": null,
       "align_items": null,
       "align_self": null,
       "border": null,
       "bottom": null,
       "display": null,
       "flex": null,
       "flex_flow": null,
       "grid_area": null,
       "grid_auto_columns": null,
       "grid_auto_flow": null,
       "grid_auto_rows": null,
       "grid_column": null,
       "grid_gap": null,
       "grid_row": null,
       "grid_template_areas": null,
       "grid_template_columns": null,
       "grid_template_rows": null,
       "height": null,
       "justify_content": null,
       "justify_items": null,
       "left": null,
       "margin": null,
       "max_height": null,
       "max_width": null,
       "min_height": null,
       "min_width": null,
       "object_fit": null,
       "object_position": null,
       "order": null,
       "overflow": null,
       "overflow_x": null,
       "overflow_y": null,
       "padding": null,
       "right": null,
       "top": null,
       "visibility": null,
       "width": null
      }
     },
     "0364dbd1e4cf4bf1b10b295c2f4acaa5": {
      "model_module": "@jupyter-widgets/controls",
      "model_module_version": "1.5.0",
      "model_name": "DescriptionStyleModel",
      "state": {
       "_model_module": "@jupyter-widgets/controls",
       "_model_module_version": "1.5.0",
       "_model_name": "DescriptionStyleModel",
       "_view_count": null,
       "_view_module": "@jupyter-widgets/base",
       "_view_module_version": "1.2.0",
       "_view_name": "StyleView",
       "description_width": ""
      }
     },
     "0e4a8f6d93fa4a2ea022164a3ed9a245": {
      "model_module": "@jupyter-widgets/controls",
      "model_module_version": "1.5.0",
      "model_name": "ProgressStyleModel",
      "state": {
       "_model_module": "@jupyter-widgets/controls",
       "_model_module_version": "1.5.0",
       "_model_name": "ProgressStyleModel",
       "_view_count": null,
       "_view_module": "@jupyter-widgets/base",
       "_view_module_version": "1.2.0",
       "_view_name": "StyleView",
       "bar_color": null,
       "description_width": ""
      }
     },
     "1039c87bbb7b4f3490aa03bb111af019": {
      "model_module": "@jupyter-widgets/base",
      "model_module_version": "1.2.0",
      "model_name": "LayoutModel",
      "state": {
       "_model_module": "@jupyter-widgets/base",
       "_model_module_version": "1.2.0",
       "_model_name": "LayoutModel",
       "_view_count": null,
       "_view_module": "@jupyter-widgets/base",
       "_view_module_version": "1.2.0",
       "_view_name": "LayoutView",
       "align_content": null,
       "align_items": null,
       "align_self": null,
       "border": null,
       "bottom": null,
       "display": null,
       "flex": null,
       "flex_flow": null,
       "grid_area": null,
       "grid_auto_columns": null,
       "grid_auto_flow": null,
       "grid_auto_rows": null,
       "grid_column": null,
       "grid_gap": null,
       "grid_row": null,
       "grid_template_areas": null,
       "grid_template_columns": null,
       "grid_template_rows": null,
       "height": null,
       "justify_content": null,
       "justify_items": null,
       "left": null,
       "margin": null,
       "max_height": null,
       "max_width": null,
       "min_height": null,
       "min_width": null,
       "object_fit": null,
       "object_position": null,
       "order": null,
       "overflow": null,
       "overflow_x": null,
       "overflow_y": null,
       "padding": null,
       "right": null,
       "top": null,
       "visibility": null,
       "width": null
      }
     },
     "13387ab3724c454c857e660d00658bd7": {
      "model_module": "@jupyter-widgets/controls",
      "model_module_version": "1.5.0",
      "model_name": "DescriptionStyleModel",
      "state": {
       "_model_module": "@jupyter-widgets/controls",
       "_model_module_version": "1.5.0",
       "_model_name": "DescriptionStyleModel",
       "_view_count": null,
       "_view_module": "@jupyter-widgets/base",
       "_view_module_version": "1.2.0",
       "_view_name": "StyleView",
       "description_width": ""
      }
     },
     "19cd99519cfc46dabc0d6c3963961675": {
      "model_module": "@jupyter-widgets/controls",
      "model_module_version": "1.5.0",
      "model_name": "HTMLModel",
      "state": {
       "_dom_classes": [],
       "_model_module": "@jupyter-widgets/controls",
       "_model_module_version": "1.5.0",
       "_model_name": "HTMLModel",
       "_view_count": null,
       "_view_module": "@jupyter-widgets/controls",
       "_view_module_version": "1.5.0",
       "_view_name": "HTMLView",
       "description": "",
       "description_tooltip": null,
       "layout": "IPY_MODEL_cafdcf68534a4031b4ea77ba86a2e619",
       "placeholder": "​",
       "style": "IPY_MODEL_3a0aced6d3d0493e832cc4d7b0dcf714",
       "value": " 119/119 [00:00&lt;00:00, 7.54kB/s]"
      }
     },
     "1bd0fca97e694528a98768d6286abab7": {
      "model_module": "@jupyter-widgets/base",
      "model_module_version": "1.2.0",
      "model_name": "LayoutModel",
      "state": {
       "_model_module": "@jupyter-widgets/base",
       "_model_module_version": "1.2.0",
       "_model_name": "LayoutModel",
       "_view_count": null,
       "_view_module": "@jupyter-widgets/base",
       "_view_module_version": "1.2.0",
       "_view_name": "LayoutView",
       "align_content": null,
       "align_items": null,
       "align_self": null,
       "border": null,
       "bottom": null,
       "display": null,
       "flex": null,
       "flex_flow": null,
       "grid_area": null,
       "grid_auto_columns": null,
       "grid_auto_flow": null,
       "grid_auto_rows": null,
       "grid_column": null,
       "grid_gap": null,
       "grid_row": null,
       "grid_template_areas": null,
       "grid_template_columns": null,
       "grid_template_rows": null,
       "height": null,
       "justify_content": null,
       "justify_items": null,
       "left": null,
       "margin": null,
       "max_height": null,
       "max_width": null,
       "min_height": null,
       "min_width": null,
       "object_fit": null,
       "object_position": null,
       "order": null,
       "overflow": null,
       "overflow_x": null,
       "overflow_y": null,
       "padding": null,
       "right": null,
       "top": null,
       "visibility": null,
       "width": null
      }
     },
     "1c9962505e3e476097845bba00492ee2": {
      "model_module": "@jupyter-widgets/controls",
      "model_module_version": "1.5.0",
      "model_name": "FloatProgressModel",
      "state": {
       "_dom_classes": [],
       "_model_module": "@jupyter-widgets/controls",
       "_model_module_version": "1.5.0",
       "_model_name": "FloatProgressModel",
       "_view_count": null,
       "_view_module": "@jupyter-widgets/controls",
       "_view_module_version": "1.5.0",
       "_view_name": "ProgressView",
       "bar_style": "success",
       "description": "",
       "description_tooltip": null,
       "layout": "IPY_MODEL_55873e01db554115b8e153136a2e941c",
       "max": 586.0,
       "min": 0.0,
       "orientation": "horizontal",
       "style": "IPY_MODEL_333faf868d7f45d292ea81855e97a020",
       "value": 586.0
      }
     },
     "205382228c3c4227889252ac2e156e55": {
      "model_module": "@jupyter-widgets/controls",
      "model_module_version": "1.5.0",
      "model_name": "HTMLModel",
      "state": {
       "_dom_classes": [],
       "_model_module": "@jupyter-widgets/controls",
       "_model_module_version": "1.5.0",
       "_model_name": "HTMLModel",
       "_view_count": null,
       "_view_module": "@jupyter-widgets/controls",
       "_view_module_version": "1.5.0",
       "_view_name": "HTMLView",
       "description": "",
       "description_tooltip": null,
       "layout": "IPY_MODEL_00bc154403a44d2e871b9b408f3100e7",
       "placeholder": "​",
       "style": "IPY_MODEL_13387ab3724c454c857e660d00658bd7",
       "value": "pytorch_model.bin: 100%"
      }
     },
     "26a3fb48f4674287bbb880428ac179f2": {
      "model_module": "@jupyter-widgets/controls",
      "model_module_version": "1.5.0",
      "model_name": "DescriptionStyleModel",
      "state": {
       "_model_module": "@jupyter-widgets/controls",
       "_model_module_version": "1.5.0",
       "_model_name": "DescriptionStyleModel",
       "_view_count": null,
       "_view_module": "@jupyter-widgets/base",
       "_view_module_version": "1.2.0",
       "_view_name": "StyleView",
       "description_width": ""
      }
     },
     "2775d92c1e614a858a723431c401addd": {
      "model_module": "@jupyter-widgets/controls",
      "model_module_version": "1.5.0",
      "model_name": "FloatProgressModel",
      "state": {
       "_dom_classes": [],
       "_model_module": "@jupyter-widgets/controls",
       "_model_module_version": "1.5.0",
       "_model_name": "FloatProgressModel",
       "_view_count": null,
       "_view_module": "@jupyter-widgets/controls",
       "_view_module_version": "1.5.0",
       "_view_name": "ProgressView",
       "bar_style": "success",
       "description": "",
       "description_tooltip": null,
       "layout": "IPY_MODEL_4206d08b7f5a4bf782c3d5f999be8c00",
       "max": 442560329.0,
       "min": 0.0,
       "orientation": "horizontal",
       "style": "IPY_MODEL_0e4a8f6d93fa4a2ea022164a3ed9a245",
       "value": 442560329.0
      }
     },
     "299028e41c8e4df88e0f7aff3997da23": {
      "model_module": "@jupyter-widgets/controls",
      "model_module_version": "1.5.0",
      "model_name": "FloatProgressModel",
      "state": {
       "_dom_classes": [],
       "_model_module": "@jupyter-widgets/controls",
       "_model_module_version": "1.5.0",
       "_model_name": "FloatProgressModel",
       "_view_count": null,
       "_view_module": "@jupyter-widgets/controls",
       "_view_module_version": "1.5.0",
       "_view_name": "ProgressView",
       "bar_style": "success",
       "description": "",
       "description_tooltip": null,
       "layout": "IPY_MODEL_4d2aa7d3bdaa49c48c21fcccac950cc7",
       "max": 112.0,
       "min": 0.0,
       "orientation": "horizontal",
       "style": "IPY_MODEL_bdb63ecdbb094c998929ccd4892bbace",
       "value": 112.0
      }
     },
     "315ea8b48cf242abbe2b0d5c672a2703": {
      "model_module": "@jupyter-widgets/controls",
      "model_module_version": "1.5.0",
      "model_name": "HBoxModel",
      "state": {
       "_dom_classes": [],
       "_model_module": "@jupyter-widgets/controls",
       "_model_module_version": "1.5.0",
       "_model_name": "HBoxModel",
       "_view_count": null,
       "_view_module": "@jupyter-widgets/controls",
       "_view_module_version": "1.5.0",
       "_view_name": "HBoxView",
       "box_style": "",
       "children": [
        "IPY_MODEL_6dac01eb360746d5aff18e9c5f21b6ef",
        "IPY_MODEL_ed025f56045e449184292bcbe7d1ba54",
        "IPY_MODEL_19cd99519cfc46dabc0d6c3963961675"
       ],
       "layout": "IPY_MODEL_5c652d72c2a84184bd1be427e20f7eed"
      }
     },
     "322fe03234214c9da52018e4e5f1cdf4": {
      "model_module": "@jupyter-widgets/controls",
      "model_module_version": "1.5.0",
      "model_name": "HBoxModel",
      "state": {
       "_dom_classes": [],
       "_model_module": "@jupyter-widgets/controls",
       "_model_module_version": "1.5.0",
       "_model_name": "HBoxModel",
       "_view_count": null,
       "_view_module": "@jupyter-widgets/controls",
       "_view_module_version": "1.5.0",
       "_view_name": "HBoxView",
       "box_style": "",
       "children": [
        "IPY_MODEL_4b73386a25c6461b9134c900d6788f3c",
        "IPY_MODEL_299028e41c8e4df88e0f7aff3997da23",
        "IPY_MODEL_f5e7efac5695404ca0812fb4e9e2c387"
       ],
       "layout": "IPY_MODEL_e12f0bc7b6194f55b8fcf5144f93958b"
      }
     },
     "333faf868d7f45d292ea81855e97a020": {
      "model_module": "@jupyter-widgets/controls",
      "model_module_version": "1.5.0",
      "model_name": "ProgressStyleModel",
      "state": {
       "_model_module": "@jupyter-widgets/controls",
       "_model_module_version": "1.5.0",
       "_model_name": "ProgressStyleModel",
       "_view_count": null,
       "_view_module": "@jupyter-widgets/base",
       "_view_module_version": "1.2.0",
       "_view_name": "StyleView",
       "bar_color": null,
       "description_width": ""
      }
     },
     "3a0aced6d3d0493e832cc4d7b0dcf714": {
      "model_module": "@jupyter-widgets/controls",
      "model_module_version": "1.5.0",
      "model_name": "DescriptionStyleModel",
      "state": {
       "_model_module": "@jupyter-widgets/controls",
       "_model_module_version": "1.5.0",
       "_model_name": "DescriptionStyleModel",
       "_view_count": null,
       "_view_module": "@jupyter-widgets/base",
       "_view_module_version": "1.2.0",
       "_view_name": "StyleView",
       "description_width": ""
      }
     },
     "3ccb22334344428da606bd7bd44fc554": {
      "model_module": "@jupyter-widgets/controls",
      "model_module_version": "1.5.0",
      "model_name": "HTMLModel",
      "state": {
       "_dom_classes": [],
       "_model_module": "@jupyter-widgets/controls",
       "_model_module_version": "1.5.0",
       "_model_name": "HTMLModel",
       "_view_count": null,
       "_view_module": "@jupyter-widgets/controls",
       "_view_module_version": "1.5.0",
       "_view_name": "HTMLView",
       "description": "",
       "description_tooltip": null,
       "layout": "IPY_MODEL_d4fc32f7117246979ace57169a0db64e",
       "placeholder": "​",
       "style": "IPY_MODEL_98408ea799d043f4963f76dc12306aa2",
       "value": " 528k/528k [00:00&lt;00:00, 902kB/s]"
      }
     },
     "4206d08b7f5a4bf782c3d5f999be8c00": {
      "model_module": "@jupyter-widgets/base",
      "model_module_version": "1.2.0",
      "model_name": "LayoutModel",
      "state": {
       "_model_module": "@jupyter-widgets/base",
       "_model_module_version": "1.2.0",
       "_model_name": "LayoutModel",
       "_view_count": null,
       "_view_module": "@jupyter-widgets/base",
       "_view_module_version": "1.2.0",
       "_view_name": "LayoutView",
       "align_content": null,
       "align_items": null,
       "align_self": null,
       "border": null,
       "bottom": null,
       "display": null,
       "flex": null,
       "flex_flow": null,
       "grid_area": null,
       "grid_auto_columns": null,
       "grid_auto_flow": null,
       "grid_auto_rows": null,
       "grid_column": null,
       "grid_gap": null,
       "grid_row": null,
       "grid_template_areas": null,
       "grid_template_columns": null,
       "grid_template_rows": null,
       "height": null,
       "justify_content": null,
       "justify_items": null,
       "left": null,
       "margin": null,
       "max_height": null,
       "max_width": null,
       "min_height": null,
       "min_width": null,
       "object_fit": null,
       "object_position": null,
       "order": null,
       "overflow": null,
       "overflow_x": null,
       "overflow_y": null,
       "padding": null,
       "right": null,
       "top": null,
       "visibility": null,
       "width": null
      }
     },
     "480e6185a6084ae1ac898dcf9285e9e3": {
      "model_module": "@jupyter-widgets/controls",
      "model_module_version": "1.5.0",
      "model_name": "DescriptionStyleModel",
      "state": {
       "_model_module": "@jupyter-widgets/controls",
       "_model_module_version": "1.5.0",
       "_model_name": "DescriptionStyleModel",
       "_view_count": null,
       "_view_module": "@jupyter-widgets/base",
       "_view_module_version": "1.2.0",
       "_view_name": "StyleView",
       "description_width": ""
      }
     },
     "4b73386a25c6461b9134c900d6788f3c": {
      "model_module": "@jupyter-widgets/controls",
      "model_module_version": "1.5.0",
      "model_name": "HTMLModel",
      "state": {
       "_dom_classes": [],
       "_model_module": "@jupyter-widgets/controls",
       "_model_module_version": "1.5.0",
       "_model_name": "HTMLModel",
       "_view_count": null,
       "_view_module": "@jupyter-widgets/controls",
       "_view_module_version": "1.5.0",
       "_view_name": "HTMLView",
       "description": "",
       "description_tooltip": null,
       "layout": "IPY_MODEL_1039c87bbb7b4f3490aa03bb111af019",
       "placeholder": "​",
       "style": "IPY_MODEL_caaef0217c404d71b354ed6591635238",
       "value": "special_tokens_map.json: 100%"
      }
     },
     "4d2aa7d3bdaa49c48c21fcccac950cc7": {
      "model_module": "@jupyter-widgets/base",
      "model_module_version": "1.2.0",
      "model_name": "LayoutModel",
      "state": {
       "_model_module": "@jupyter-widgets/base",
       "_model_module_version": "1.2.0",
       "_model_name": "LayoutModel",
       "_view_count": null,
       "_view_module": "@jupyter-widgets/base",
       "_view_module_version": "1.2.0",
       "_view_name": "LayoutView",
       "align_content": null,
       "align_items": null,
       "align_self": null,
       "border": null,
       "bottom": null,
       "display": null,
       "flex": null,
       "flex_flow": null,
       "grid_area": null,
       "grid_auto_columns": null,
       "grid_auto_flow": null,
       "grid_auto_rows": null,
       "grid_column": null,
       "grid_gap": null,
       "grid_row": null,
       "grid_template_areas": null,
       "grid_template_columns": null,
       "grid_template_rows": null,
       "height": null,
       "justify_content": null,
       "justify_items": null,
       "left": null,
       "margin": null,
       "max_height": null,
       "max_width": null,
       "min_height": null,
       "min_width": null,
       "object_fit": null,
       "object_position": null,
       "order": null,
       "overflow": null,
       "overflow_x": null,
       "overflow_y": null,
       "padding": null,
       "right": null,
       "top": null,
       "visibility": null,
       "width": null
      }
     },
     "55873e01db554115b8e153136a2e941c": {
      "model_module": "@jupyter-widgets/base",
      "model_module_version": "1.2.0",
      "model_name": "LayoutModel",
      "state": {
       "_model_module": "@jupyter-widgets/base",
       "_model_module_version": "1.2.0",
       "_model_name": "LayoutModel",
       "_view_count": null,
       "_view_module": "@jupyter-widgets/base",
       "_view_module_version": "1.2.0",
       "_view_name": "LayoutView",
       "align_content": null,
       "align_items": null,
       "align_self": null,
       "border": null,
       "bottom": null,
       "display": null,
       "flex": null,
       "flex_flow": null,
       "grid_area": null,
       "grid_auto_columns": null,
       "grid_auto_flow": null,
       "grid_auto_rows": null,
       "grid_column": null,
       "grid_gap": null,
       "grid_row": null,
       "grid_template_areas": null,
       "grid_template_columns": null,
       "grid_template_rows": null,
       "height": null,
       "justify_content": null,
       "justify_items": null,
       "left": null,
       "margin": null,
       "max_height": null,
       "max_width": null,
       "min_height": null,
       "min_width": null,
       "object_fit": null,
       "object_position": null,
       "order": null,
       "overflow": null,
       "overflow_x": null,
       "overflow_y": null,
       "padding": null,
       "right": null,
       "top": null,
       "visibility": null,
       "width": null
      }
     },
     "589c857d0206480fbe71b94a3a7cc897": {
      "model_module": "@jupyter-widgets/controls",
      "model_module_version": "1.5.0",
      "model_name": "HBoxModel",
      "state": {
       "_dom_classes": [],
       "_model_module": "@jupyter-widgets/controls",
       "_model_module_version": "1.5.0",
       "_model_name": "HBoxModel",
       "_view_count": null,
       "_view_module": "@jupyter-widgets/controls",
       "_view_module_version": "1.5.0",
       "_view_name": "HBoxView",
       "box_style": "",
       "children": [
        "IPY_MODEL_01fae8c3841a4e51a742a96bede4477a",
        "IPY_MODEL_1c9962505e3e476097845bba00492ee2",
        "IPY_MODEL_fa6fde3bef574f58bac6742f7143cf9a"
       ],
       "layout": "IPY_MODEL_031807d38c394d7b8840be5179a8cee8"
      }
     },
     "5c652d72c2a84184bd1be427e20f7eed": {
      "model_module": "@jupyter-widgets/base",
      "model_module_version": "1.2.0",
      "model_name": "LayoutModel",
      "state": {
       "_model_module": "@jupyter-widgets/base",
       "_model_module_version": "1.2.0",
       "_model_name": "LayoutModel",
       "_view_count": null,
       "_view_module": "@jupyter-widgets/base",
       "_view_module_version": "1.2.0",
       "_view_name": "LayoutView",
       "align_content": null,
       "align_items": null,
       "align_self": null,
       "border": null,
       "bottom": null,
       "display": null,
       "flex": null,
       "flex_flow": null,
       "grid_area": null,
       "grid_auto_columns": null,
       "grid_auto_flow": null,
       "grid_auto_rows": null,
       "grid_column": null,
       "grid_gap": null,
       "grid_row": null,
       "grid_template_areas": null,
       "grid_template_columns": null,
       "grid_template_rows": null,
       "height": null,
       "justify_content": null,
       "justify_items": null,
       "left": null,
       "margin": null,
       "max_height": null,
       "max_width": null,
       "min_height": null,
       "min_width": null,
       "object_fit": null,
       "object_position": null,
       "order": null,
       "overflow": null,
       "overflow_x": null,
       "overflow_y": null,
       "padding": null,
       "right": null,
       "top": null,
       "visibility": null,
       "width": null
      }
     },
     "5e99ddb03b33490384026c79a7fac0e8": {
      "model_module": "@jupyter-widgets/controls",
      "model_module_version": "1.5.0",
      "model_name": "HTMLModel",
      "state": {
       "_dom_classes": [],
       "_model_module": "@jupyter-widgets/controls",
       "_model_module_version": "1.5.0",
       "_model_name": "HTMLModel",
       "_view_count": null,
       "_view_module": "@jupyter-widgets/controls",
       "_view_module_version": "1.5.0",
       "_view_name": "HTMLView",
       "description": "",
       "description_tooltip": null,
       "layout": "IPY_MODEL_885965bfdd084d77a030eb1cd25c0fa4",
       "placeholder": "​",
       "style": "IPY_MODEL_26a3fb48f4674287bbb880428ac179f2",
       "value": "vocab.txt: 100%"
      }
     },
     "64bdff4280344994ac4648c8de346642": {
      "model_module": "@jupyter-widgets/base",
      "model_module_version": "1.2.0",
      "model_name": "LayoutModel",
      "state": {
       "_model_module": "@jupyter-widgets/base",
       "_model_module_version": "1.2.0",
       "_model_name": "LayoutModel",
       "_view_count": null,
       "_view_module": "@jupyter-widgets/base",
       "_view_module_version": "1.2.0",
       "_view_name": "LayoutView",
       "align_content": null,
       "align_items": null,
       "align_self": null,
       "border": null,
       "bottom": null,
       "display": null,
       "flex": null,
       "flex_flow": null,
       "grid_area": null,
       "grid_auto_columns": null,
       "grid_auto_flow": null,
       "grid_auto_rows": null,
       "grid_column": null,
       "grid_gap": null,
       "grid_row": null,
       "grid_template_areas": null,
       "grid_template_columns": null,
       "grid_template_rows": null,
       "height": null,
       "justify_content": null,
       "justify_items": null,
       "left": null,
       "margin": null,
       "max_height": null,
       "max_width": null,
       "min_height": null,
       "min_width": null,
       "object_fit": null,
       "object_position": null,
       "order": null,
       "overflow": null,
       "overflow_x": null,
       "overflow_y": null,
       "padding": null,
       "right": null,
       "top": null,
       "visibility": null,
       "width": null
      }
     },
     "6aba688e9d274fafadc8b9398a1f1abc": {
      "model_module": "@jupyter-widgets/base",
      "model_module_version": "1.2.0",
      "model_name": "LayoutModel",
      "state": {
       "_model_module": "@jupyter-widgets/base",
       "_model_module_version": "1.2.0",
       "_model_name": "LayoutModel",
       "_view_count": null,
       "_view_module": "@jupyter-widgets/base",
       "_view_module_version": "1.2.0",
       "_view_name": "LayoutView",
       "align_content": null,
       "align_items": null,
       "align_self": null,
       "border": null,
       "bottom": null,
       "display": null,
       "flex": null,
       "flex_flow": null,
       "grid_area": null,
       "grid_auto_columns": null,
       "grid_auto_flow": null,
       "grid_auto_rows": null,
       "grid_column": null,
       "grid_gap": null,
       "grid_row": null,
       "grid_template_areas": null,
       "grid_template_columns": null,
       "grid_template_rows": null,
       "height": null,
       "justify_content": null,
       "justify_items": null,
       "left": null,
       "margin": null,
       "max_height": null,
       "max_width": null,
       "min_height": null,
       "min_width": null,
       "object_fit": null,
       "object_position": null,
       "order": null,
       "overflow": null,
       "overflow_x": null,
       "overflow_y": null,
       "padding": null,
       "right": null,
       "top": null,
       "visibility": null,
       "width": null
      }
     },
     "6d23256b62fa484d8bb4e101dd6af153": {
      "model_module": "@jupyter-widgets/controls",
      "model_module_version": "1.5.0",
      "model_name": "HBoxModel",
      "state": {
       "_dom_classes": [],
       "_model_module": "@jupyter-widgets/controls",
       "_model_module_version": "1.5.0",
       "_model_name": "HBoxModel",
       "_view_count": null,
       "_view_module": "@jupyter-widgets/controls",
       "_view_module_version": "1.5.0",
       "_view_name": "HBoxView",
       "box_style": "",
       "children": [
        "IPY_MODEL_205382228c3c4227889252ac2e156e55",
        "IPY_MODEL_2775d92c1e614a858a723431c401addd",
        "IPY_MODEL_f55d14542fab4d2085f07c80de908454"
       ],
       "layout": "IPY_MODEL_75a5ed557a1f445bab3fb4828bec25bb"
      }
     },
     "6dac01eb360746d5aff18e9c5f21b6ef": {
      "model_module": "@jupyter-widgets/controls",
      "model_module_version": "1.5.0",
      "model_name": "HTMLModel",
      "state": {
       "_dom_classes": [],
       "_model_module": "@jupyter-widgets/controls",
       "_model_module_version": "1.5.0",
       "_model_name": "HTMLModel",
       "_view_count": null,
       "_view_module": "@jupyter-widgets/controls",
       "_view_module_version": "1.5.0",
       "_view_name": "HTMLView",
       "description": "",
       "description_tooltip": null,
       "layout": "IPY_MODEL_effa7852e99a4aa3b48ee19d85a49804",
       "placeholder": "​",
       "style": "IPY_MODEL_97e8827ba22c434a9ac940f1da49453f",
       "value": "tokenizer_config.json: 100%"
      }
     },
     "75a5ed557a1f445bab3fb4828bec25bb": {
      "model_module": "@jupyter-widgets/base",
      "model_module_version": "1.2.0",
      "model_name": "LayoutModel",
      "state": {
       "_model_module": "@jupyter-widgets/base",
       "_model_module_version": "1.2.0",
       "_model_name": "LayoutModel",
       "_view_count": null,
       "_view_module": "@jupyter-widgets/base",
       "_view_module_version": "1.2.0",
       "_view_name": "LayoutView",
       "align_content": null,
       "align_items": null,
       "align_self": null,
       "border": null,
       "bottom": null,
       "display": null,
       "flex": null,
       "flex_flow": null,
       "grid_area": null,
       "grid_auto_columns": null,
       "grid_auto_flow": null,
       "grid_auto_rows": null,
       "grid_column": null,
       "grid_gap": null,
       "grid_row": null,
       "grid_template_areas": null,
       "grid_template_columns": null,
       "grid_template_rows": null,
       "height": null,
       "justify_content": null,
       "justify_items": null,
       "left": null,
       "margin": null,
       "max_height": null,
       "max_width": null,
       "min_height": null,
       "min_width": null,
       "object_fit": null,
       "object_position": null,
       "order": null,
       "overflow": null,
       "overflow_x": null,
       "overflow_y": null,
       "padding": null,
       "right": null,
       "top": null,
       "visibility": null,
       "width": null
      }
     },
     "885965bfdd084d77a030eb1cd25c0fa4": {
      "model_module": "@jupyter-widgets/base",
      "model_module_version": "1.2.0",
      "model_name": "LayoutModel",
      "state": {
       "_model_module": "@jupyter-widgets/base",
       "_model_module_version": "1.2.0",
       "_model_name": "LayoutModel",
       "_view_count": null,
       "_view_module": "@jupyter-widgets/base",
       "_view_module_version": "1.2.0",
       "_view_name": "LayoutView",
       "align_content": null,
       "align_items": null,
       "align_self": null,
       "border": null,
       "bottom": null,
       "display": null,
       "flex": null,
       "flex_flow": null,
       "grid_area": null,
       "grid_auto_columns": null,
       "grid_auto_flow": null,
       "grid_auto_rows": null,
       "grid_column": null,
       "grid_gap": null,
       "grid_row": null,
       "grid_template_areas": null,
       "grid_template_columns": null,
       "grid_template_rows": null,
       "height": null,
       "justify_content": null,
       "justify_items": null,
       "left": null,
       "margin": null,
       "max_height": null,
       "max_width": null,
       "min_height": null,
       "min_width": null,
       "object_fit": null,
       "object_position": null,
       "order": null,
       "overflow": null,
       "overflow_x": null,
       "overflow_y": null,
       "padding": null,
       "right": null,
       "top": null,
       "visibility": null,
       "width": null
      }
     },
     "97e8827ba22c434a9ac940f1da49453f": {
      "model_module": "@jupyter-widgets/controls",
      "model_module_version": "1.5.0",
      "model_name": "DescriptionStyleModel",
      "state": {
       "_model_module": "@jupyter-widgets/controls",
       "_model_module_version": "1.5.0",
       "_model_name": "DescriptionStyleModel",
       "_view_count": null,
       "_view_module": "@jupyter-widgets/base",
       "_view_module_version": "1.2.0",
       "_view_name": "StyleView",
       "description_width": ""
      }
     },
     "98408ea799d043f4963f76dc12306aa2": {
      "model_module": "@jupyter-widgets/controls",
      "model_module_version": "1.5.0",
      "model_name": "DescriptionStyleModel",
      "state": {
       "_model_module": "@jupyter-widgets/controls",
       "_model_module_version": "1.5.0",
       "_model_name": "DescriptionStyleModel",
       "_view_count": null,
       "_view_module": "@jupyter-widgets/base",
       "_view_module_version": "1.2.0",
       "_view_name": "StyleView",
       "description_width": ""
      }
     },
     "9c6f9aec34b3433dadc268bb66b08a5c": {
      "model_module": "@jupyter-widgets/base",
      "model_module_version": "1.2.0",
      "model_name": "LayoutModel",
      "state": {
       "_model_module": "@jupyter-widgets/base",
       "_model_module_version": "1.2.0",
       "_model_name": "LayoutModel",
       "_view_count": null,
       "_view_module": "@jupyter-widgets/base",
       "_view_module_version": "1.2.0",
       "_view_name": "LayoutView",
       "align_content": null,
       "align_items": null,
       "align_self": null,
       "border": null,
       "bottom": null,
       "display": null,
       "flex": null,
       "flex_flow": null,
       "grid_area": null,
       "grid_auto_columns": null,
       "grid_auto_flow": null,
       "grid_auto_rows": null,
       "grid_column": null,
       "grid_gap": null,
       "grid_row": null,
       "grid_template_areas": null,
       "grid_template_columns": null,
       "grid_template_rows": null,
       "height": null,
       "justify_content": null,
       "justify_items": null,
       "left": null,
       "margin": null,
       "max_height": null,
       "max_width": null,
       "min_height": null,
       "min_width": null,
       "object_fit": null,
       "object_position": null,
       "order": null,
       "overflow": null,
       "overflow_x": null,
       "overflow_y": null,
       "padding": null,
       "right": null,
       "top": null,
       "visibility": null,
       "width": null
      }
     },
     "a2ebb3e635264422955fa391e162440a": {
      "model_module": "@jupyter-widgets/controls",
      "model_module_version": "1.5.0",
      "model_name": "ProgressStyleModel",
      "state": {
       "_model_module": "@jupyter-widgets/controls",
       "_model_module_version": "1.5.0",
       "_model_name": "ProgressStyleModel",
       "_view_count": null,
       "_view_module": "@jupyter-widgets/base",
       "_view_module_version": "1.2.0",
       "_view_name": "StyleView",
       "bar_color": null,
       "description_width": ""
      }
     },
     "b0ebb3ff49424eeb9fdf774b50d241a3": {
      "model_module": "@jupyter-widgets/controls",
      "model_module_version": "1.5.0",
      "model_name": "ProgressStyleModel",
      "state": {
       "_model_module": "@jupyter-widgets/controls",
       "_model_module_version": "1.5.0",
       "_model_name": "ProgressStyleModel",
       "_view_count": null,
       "_view_module": "@jupyter-widgets/base",
       "_view_module_version": "1.2.0",
       "_view_name": "StyleView",
       "bar_color": null,
       "description_width": ""
      }
     },
     "bdb63ecdbb094c998929ccd4892bbace": {
      "model_module": "@jupyter-widgets/controls",
      "model_module_version": "1.5.0",
      "model_name": "ProgressStyleModel",
      "state": {
       "_model_module": "@jupyter-widgets/controls",
       "_model_module_version": "1.5.0",
       "_model_name": "ProgressStyleModel",
       "_view_count": null,
       "_view_module": "@jupyter-widgets/base",
       "_view_module_version": "1.2.0",
       "_view_name": "StyleView",
       "bar_color": null,
       "description_width": ""
      }
     },
     "bf888dc9c6de4979ba85f588420f3aaf": {
      "model_module": "@jupyter-widgets/controls",
      "model_module_version": "1.5.0",
      "model_name": "FloatProgressModel",
      "state": {
       "_dom_classes": [],
       "_model_module": "@jupyter-widgets/controls",
       "_model_module_version": "1.5.0",
       "_model_name": "FloatProgressModel",
       "_view_count": null,
       "_view_module": "@jupyter-widgets/controls",
       "_view_module_version": "1.5.0",
       "_view_name": "ProgressView",
       "bar_style": "success",
       "description": "",
       "description_tooltip": null,
       "layout": "IPY_MODEL_c7b89a4b091b4d9c8f40d2d2f2b0efb6",
       "max": 528316.0,
       "min": 0.0,
       "orientation": "horizontal",
       "style": "IPY_MODEL_a2ebb3e635264422955fa391e162440a",
       "value": 528316.0
      }
     },
     "c1b4f8e8830743ec94ba9ba8942494d0": {
      "model_module": "@jupyter-widgets/controls",
      "model_module_version": "1.5.0",
      "model_name": "HBoxModel",
      "state": {
       "_dom_classes": [],
       "_model_module": "@jupyter-widgets/controls",
       "_model_module_version": "1.5.0",
       "_model_name": "HBoxModel",
       "_view_count": null,
       "_view_module": "@jupyter-widgets/controls",
       "_view_module_version": "1.5.0",
       "_view_name": "HBoxView",
       "box_style": "",
       "children": [
        "IPY_MODEL_5e99ddb03b33490384026c79a7fac0e8",
        "IPY_MODEL_bf888dc9c6de4979ba85f588420f3aaf",
        "IPY_MODEL_3ccb22334344428da606bd7bd44fc554"
       ],
       "layout": "IPY_MODEL_ccbfe7704d434755b6b884aae310c51a"
      }
     },
     "c3ac9f45c8244782904e2924a3d8e412": {
      "model_module": "@jupyter-widgets/controls",
      "model_module_version": "1.5.0",
      "model_name": "DescriptionStyleModel",
      "state": {
       "_model_module": "@jupyter-widgets/controls",
       "_model_module_version": "1.5.0",
       "_model_name": "DescriptionStyleModel",
       "_view_count": null,
       "_view_module": "@jupyter-widgets/base",
       "_view_module_version": "1.2.0",
       "_view_name": "StyleView",
       "description_width": ""
      }
     },
     "c7b89a4b091b4d9c8f40d2d2f2b0efb6": {
      "model_module": "@jupyter-widgets/base",
      "model_module_version": "1.2.0",
      "model_name": "LayoutModel",
      "state": {
       "_model_module": "@jupyter-widgets/base",
       "_model_module_version": "1.2.0",
       "_model_name": "LayoutModel",
       "_view_count": null,
       "_view_module": "@jupyter-widgets/base",
       "_view_module_version": "1.2.0",
       "_view_name": "LayoutView",
       "align_content": null,
       "align_items": null,
       "align_self": null,
       "border": null,
       "bottom": null,
       "display": null,
       "flex": null,
       "flex_flow": null,
       "grid_area": null,
       "grid_auto_columns": null,
       "grid_auto_flow": null,
       "grid_auto_rows": null,
       "grid_column": null,
       "grid_gap": null,
       "grid_row": null,
       "grid_template_areas": null,
       "grid_template_columns": null,
       "grid_template_rows": null,
       "height": null,
       "justify_content": null,
       "justify_items": null,
       "left": null,
       "margin": null,
       "max_height": null,
       "max_width": null,
       "min_height": null,
       "min_width": null,
       "object_fit": null,
       "object_position": null,
       "order": null,
       "overflow": null,
       "overflow_x": null,
       "overflow_y": null,
       "padding": null,
       "right": null,
       "top": null,
       "visibility": null,
       "width": null
      }
     },
     "c9da2c52830d41ec8a612c179e196e65": {
      "model_module": "@jupyter-widgets/controls",
      "model_module_version": "1.5.0",
      "model_name": "DescriptionStyleModel",
      "state": {
       "_model_module": "@jupyter-widgets/controls",
       "_model_module_version": "1.5.0",
       "_model_name": "DescriptionStyleModel",
       "_view_count": null,
       "_view_module": "@jupyter-widgets/base",
       "_view_module_version": "1.2.0",
       "_view_name": "StyleView",
       "description_width": ""
      }
     },
     "caaef0217c404d71b354ed6591635238": {
      "model_module": "@jupyter-widgets/controls",
      "model_module_version": "1.5.0",
      "model_name": "DescriptionStyleModel",
      "state": {
       "_model_module": "@jupyter-widgets/controls",
       "_model_module_version": "1.5.0",
       "_model_name": "DescriptionStyleModel",
       "_view_count": null,
       "_view_module": "@jupyter-widgets/base",
       "_view_module_version": "1.2.0",
       "_view_name": "StyleView",
       "description_width": ""
      }
     },
     "cafdcf68534a4031b4ea77ba86a2e619": {
      "model_module": "@jupyter-widgets/base",
      "model_module_version": "1.2.0",
      "model_name": "LayoutModel",
      "state": {
       "_model_module": "@jupyter-widgets/base",
       "_model_module_version": "1.2.0",
       "_model_name": "LayoutModel",
       "_view_count": null,
       "_view_module": "@jupyter-widgets/base",
       "_view_module_version": "1.2.0",
       "_view_name": "LayoutView",
       "align_content": null,
       "align_items": null,
       "align_self": null,
       "border": null,
       "bottom": null,
       "display": null,
       "flex": null,
       "flex_flow": null,
       "grid_area": null,
       "grid_auto_columns": null,
       "grid_auto_flow": null,
       "grid_auto_rows": null,
       "grid_column": null,
       "grid_gap": null,
       "grid_row": null,
       "grid_template_areas": null,
       "grid_template_columns": null,
       "grid_template_rows": null,
       "height": null,
       "justify_content": null,
       "justify_items": null,
       "left": null,
       "margin": null,
       "max_height": null,
       "max_width": null,
       "min_height": null,
       "min_width": null,
       "object_fit": null,
       "object_position": null,
       "order": null,
       "overflow": null,
       "overflow_x": null,
       "overflow_y": null,
       "padding": null,
       "right": null,
       "top": null,
       "visibility": null,
       "width": null
      }
     },
     "ccbfe7704d434755b6b884aae310c51a": {
      "model_module": "@jupyter-widgets/base",
      "model_module_version": "1.2.0",
      "model_name": "LayoutModel",
      "state": {
       "_model_module": "@jupyter-widgets/base",
       "_model_module_version": "1.2.0",
       "_model_name": "LayoutModel",
       "_view_count": null,
       "_view_module": "@jupyter-widgets/base",
       "_view_module_version": "1.2.0",
       "_view_name": "LayoutView",
       "align_content": null,
       "align_items": null,
       "align_self": null,
       "border": null,
       "bottom": null,
       "display": null,
       "flex": null,
       "flex_flow": null,
       "grid_area": null,
       "grid_auto_columns": null,
       "grid_auto_flow": null,
       "grid_auto_rows": null,
       "grid_column": null,
       "grid_gap": null,
       "grid_row": null,
       "grid_template_areas": null,
       "grid_template_columns": null,
       "grid_template_rows": null,
       "height": null,
       "justify_content": null,
       "justify_items": null,
       "left": null,
       "margin": null,
       "max_height": null,
       "max_width": null,
       "min_height": null,
       "min_width": null,
       "object_fit": null,
       "object_position": null,
       "order": null,
       "overflow": null,
       "overflow_x": null,
       "overflow_y": null,
       "padding": null,
       "right": null,
       "top": null,
       "visibility": null,
       "width": null
      }
     },
     "d4fc32f7117246979ace57169a0db64e": {
      "model_module": "@jupyter-widgets/base",
      "model_module_version": "1.2.0",
      "model_name": "LayoutModel",
      "state": {
       "_model_module": "@jupyter-widgets/base",
       "_model_module_version": "1.2.0",
       "_model_name": "LayoutModel",
       "_view_count": null,
       "_view_module": "@jupyter-widgets/base",
       "_view_module_version": "1.2.0",
       "_view_name": "LayoutView",
       "align_content": null,
       "align_items": null,
       "align_self": null,
       "border": null,
       "bottom": null,
       "display": null,
       "flex": null,
       "flex_flow": null,
       "grid_area": null,
       "grid_auto_columns": null,
       "grid_auto_flow": null,
       "grid_auto_rows": null,
       "grid_column": null,
       "grid_gap": null,
       "grid_row": null,
       "grid_template_areas": null,
       "grid_template_columns": null,
       "grid_template_rows": null,
       "height": null,
       "justify_content": null,
       "justify_items": null,
       "left": null,
       "margin": null,
       "max_height": null,
       "max_width": null,
       "min_height": null,
       "min_width": null,
       "object_fit": null,
       "object_position": null,
       "order": null,
       "overflow": null,
       "overflow_x": null,
       "overflow_y": null,
       "padding": null,
       "right": null,
       "top": null,
       "visibility": null,
       "width": null
      }
     },
     "e12f0bc7b6194f55b8fcf5144f93958b": {
      "model_module": "@jupyter-widgets/base",
      "model_module_version": "1.2.0",
      "model_name": "LayoutModel",
      "state": {
       "_model_module": "@jupyter-widgets/base",
       "_model_module_version": "1.2.0",
       "_model_name": "LayoutModel",
       "_view_count": null,
       "_view_module": "@jupyter-widgets/base",
       "_view_module_version": "1.2.0",
       "_view_name": "LayoutView",
       "align_content": null,
       "align_items": null,
       "align_self": null,
       "border": null,
       "bottom": null,
       "display": null,
       "flex": null,
       "flex_flow": null,
       "grid_area": null,
       "grid_auto_columns": null,
       "grid_auto_flow": null,
       "grid_auto_rows": null,
       "grid_column": null,
       "grid_gap": null,
       "grid_row": null,
       "grid_template_areas": null,
       "grid_template_columns": null,
       "grid_template_rows": null,
       "height": null,
       "justify_content": null,
       "justify_items": null,
       "left": null,
       "margin": null,
       "max_height": null,
       "max_width": null,
       "min_height": null,
       "min_width": null,
       "object_fit": null,
       "object_position": null,
       "order": null,
       "overflow": null,
       "overflow_x": null,
       "overflow_y": null,
       "padding": null,
       "right": null,
       "top": null,
       "visibility": null,
       "width": null
      }
     },
     "ea05a7db087d44fd965bb45d9f4c5567": {
      "model_module": "@jupyter-widgets/base",
      "model_module_version": "1.2.0",
      "model_name": "LayoutModel",
      "state": {
       "_model_module": "@jupyter-widgets/base",
       "_model_module_version": "1.2.0",
       "_model_name": "LayoutModel",
       "_view_count": null,
       "_view_module": "@jupyter-widgets/base",
       "_view_module_version": "1.2.0",
       "_view_name": "LayoutView",
       "align_content": null,
       "align_items": null,
       "align_self": null,
       "border": null,
       "bottom": null,
       "display": null,
       "flex": null,
       "flex_flow": null,
       "grid_area": null,
       "grid_auto_columns": null,
       "grid_auto_flow": null,
       "grid_auto_rows": null,
       "grid_column": null,
       "grid_gap": null,
       "grid_row": null,
       "grid_template_areas": null,
       "grid_template_columns": null,
       "grid_template_rows": null,
       "height": null,
       "justify_content": null,
       "justify_items": null,
       "left": null,
       "margin": null,
       "max_height": null,
       "max_width": null,
       "min_height": null,
       "min_width": null,
       "object_fit": null,
       "object_position": null,
       "order": null,
       "overflow": null,
       "overflow_x": null,
       "overflow_y": null,
       "padding": null,
       "right": null,
       "top": null,
       "visibility": null,
       "width": null
      }
     },
     "ed025f56045e449184292bcbe7d1ba54": {
      "model_module": "@jupyter-widgets/controls",
      "model_module_version": "1.5.0",
      "model_name": "FloatProgressModel",
      "state": {
       "_dom_classes": [],
       "_model_module": "@jupyter-widgets/controls",
       "_model_module_version": "1.5.0",
       "_model_name": "FloatProgressModel",
       "_view_count": null,
       "_view_module": "@jupyter-widgets/controls",
       "_view_module_version": "1.5.0",
       "_view_name": "ProgressView",
       "bar_style": "success",
       "description": "",
       "description_tooltip": null,
       "layout": "IPY_MODEL_ea05a7db087d44fd965bb45d9f4c5567",
       "max": 119.0,
       "min": 0.0,
       "orientation": "horizontal",
       "style": "IPY_MODEL_b0ebb3ff49424eeb9fdf774b50d241a3",
       "value": 119.0
      }
     },
     "effa7852e99a4aa3b48ee19d85a49804": {
      "model_module": "@jupyter-widgets/base",
      "model_module_version": "1.2.0",
      "model_name": "LayoutModel",
      "state": {
       "_model_module": "@jupyter-widgets/base",
       "_model_module_version": "1.2.0",
       "_model_name": "LayoutModel",
       "_view_count": null,
       "_view_module": "@jupyter-widgets/base",
       "_view_module_version": "1.2.0",
       "_view_name": "LayoutView",
       "align_content": null,
       "align_items": null,
       "align_self": null,
       "border": null,
       "bottom": null,
       "display": null,
       "flex": null,
       "flex_flow": null,
       "grid_area": null,
       "grid_auto_columns": null,
       "grid_auto_flow": null,
       "grid_auto_rows": null,
       "grid_column": null,
       "grid_gap": null,
       "grid_row": null,
       "grid_template_areas": null,
       "grid_template_columns": null,
       "grid_template_rows": null,
       "height": null,
       "justify_content": null,
       "justify_items": null,
       "left": null,
       "margin": null,
       "max_height": null,
       "max_width": null,
       "min_height": null,
       "min_width": null,
       "object_fit": null,
       "object_position": null,
       "order": null,
       "overflow": null,
       "overflow_x": null,
       "overflow_y": null,
       "padding": null,
       "right": null,
       "top": null,
       "visibility": null,
       "width": null
      }
     },
     "f55d14542fab4d2085f07c80de908454": {
      "model_module": "@jupyter-widgets/controls",
      "model_module_version": "1.5.0",
      "model_name": "HTMLModel",
      "state": {
       "_dom_classes": [],
       "_model_module": "@jupyter-widgets/controls",
       "_model_module_version": "1.5.0",
       "_model_name": "HTMLModel",
       "_view_count": null,
       "_view_module": "@jupyter-widgets/controls",
       "_view_module_version": "1.5.0",
       "_view_name": "HTMLView",
       "description": "",
       "description_tooltip": null,
       "layout": "IPY_MODEL_6aba688e9d274fafadc8b9398a1f1abc",
       "placeholder": "​",
       "style": "IPY_MODEL_480e6185a6084ae1ac898dcf9285e9e3",
       "value": " 443M/443M [00:24&lt;00:00, 17.8MB/s]"
      }
     },
     "f5e7efac5695404ca0812fb4e9e2c387": {
      "model_module": "@jupyter-widgets/controls",
      "model_module_version": "1.5.0",
      "model_name": "HTMLModel",
      "state": {
       "_dom_classes": [],
       "_model_module": "@jupyter-widgets/controls",
       "_model_module_version": "1.5.0",
       "_model_name": "HTMLModel",
       "_view_count": null,
       "_view_module": "@jupyter-widgets/controls",
       "_view_module_version": "1.5.0",
       "_view_name": "HTMLView",
       "description": "",
       "description_tooltip": null,
       "layout": "IPY_MODEL_9c6f9aec34b3433dadc268bb66b08a5c",
       "placeholder": "​",
       "style": "IPY_MODEL_c9da2c52830d41ec8a612c179e196e65",
       "value": " 112/112 [00:00&lt;00:00, 9.18kB/s]"
      }
     },
     "fa6fde3bef574f58bac6742f7143cf9a": {
      "model_module": "@jupyter-widgets/controls",
      "model_module_version": "1.5.0",
      "model_name": "HTMLModel",
      "state": {
       "_dom_classes": [],
       "_model_module": "@jupyter-widgets/controls",
       "_model_module_version": "1.5.0",
       "_model_name": "HTMLModel",
       "_view_count": null,
       "_view_module": "@jupyter-widgets/controls",
       "_view_module_version": "1.5.0",
       "_view_name": "HTMLView",
       "description": "",
       "description_tooltip": null,
       "layout": "IPY_MODEL_64bdff4280344994ac4648c8de346642",
       "placeholder": "​",
       "style": "IPY_MODEL_c3ac9f45c8244782904e2924a3d8e412",
       "value": " 586/586 [00:00&lt;00:00, 44.5kB/s]"
      }
     }
    },
    "version_major": 2,
    "version_minor": 0
   }
  }
 },
 "nbformat": 4,
 "nbformat_minor": 5
}
